{
 "cells": [
  {
   "cell_type": "markdown",
   "id": "f8c4d434",
   "metadata": {},
   "source": [
    "## User Input in Python"
   ]
  },
  {
   "cell_type": "code",
   "execution_count": null,
   "id": "4391898d",
   "metadata": {},
   "outputs": [
    {
     "name": "stdout",
     "output_type": "stream",
     "text": [
      "Name: harsh\n",
      "Age: 22\n",
      "Height: 2.2 meters\n",
      "Is Student: True\n",
      "Numbers List: [1, 2, 3]\n"
     ]
    }
   ],
   "source": [
    "# String input\n",
    "name = input(\"Enter your name: \")\n",
    "\n",
    "# Integer input\n",
    "age = int(input(\"Enter your age: \"))\n",
    "\n",
    "# Float input\n",
    "height = float(input(\"Enter your height in meters: \"))\n",
    "\n",
    "# Boolean input (using 'yes' or 'no')\n",
    "is_student_input = input(\"Are you a student? (yes/no): \")\n",
    "is_student = is_student_input.lower() == 'yes'\n",
    "\n",
    "\n",
    "# Display all inputs\n",
    "print(f\"Name: {name}\")\n",
    "print(f\"Age: {age}\")\n",
    "print(f\"Height: {height} meters\")\n",
    "print(f\"Is Student: {is_student}\")\n",
    "print(f\"Numbers List: {numbers}\")"
   ]
  },
  {
   "cell_type": "markdown",
   "id": "ac75723c",
   "metadata": {},
   "source": [
    "# Eval\n",
    "    - The eval() function in Python evaluates a string as a Python expression.\n",
    "    - It can process both integer and float inputs, as well as mathematical expressions involving them.\n",
    "    - For example, if the user enters \"5 + 3.2\", eval() will compute the result as 8.2.\n",
    "    - Always use eval() with caution, as it will execute any valid Python code provided by the user."
   ]
  },
  {
   "cell_type": "code",
   "execution_count": 4,
   "id": "55c6036d",
   "metadata": {},
   "outputs": [
    {
     "name": "stdout",
     "output_type": "stream",
     "text": [
      "Result: 9\n"
     ]
    }
   ],
   "source": [
    "# Example usage:\n",
    "expression = eval(input(\"Enter a Python expression to evaluate (e.g., 2 + 3 * 4): \"))\n",
    "print(f\"Result: {expression}\")"
   ]
  }
 ],
 "metadata": {
  "kernelspec": {
   "display_name": "Python 3",
   "language": "python",
   "name": "python3"
  },
  "language_info": {
   "codemirror_mode": {
    "name": "ipython",
    "version": 3
   },
   "file_extension": ".py",
   "mimetype": "text/x-python",
   "name": "python",
   "nbconvert_exporter": "python",
   "pygments_lexer": "ipython3",
   "version": "3.12.0"
  }
 },
 "nbformat": 4,
 "nbformat_minor": 5
}
