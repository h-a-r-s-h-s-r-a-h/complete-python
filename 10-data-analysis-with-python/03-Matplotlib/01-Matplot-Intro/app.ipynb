{
 "cells": [
  {
   "cell_type": "markdown",
   "id": "006b69d7",
   "metadata": {},
   "source": [
    "# Matplotlib\n",
    "\n",
    "- Matplotlib is a low level graph plotting library in python that serves as a visualization utility.\n",
    "\n",
    "- Matplotlib is open source and we can use it freely.\n"
   ]
  },
  {
   "cell_type": "markdown",
   "id": "59b8a5a4",
   "metadata": {},
   "source": [
    "## Installation of Matplotlib\n",
    "\n",
    "```bash\n",
    "    pip install matplotlib\n",
    "```\n"
   ]
  },
  {
   "cell_type": "markdown",
   "id": "9551f9a2",
   "metadata": {},
   "source": [
    "## Import Matplotlib\n",
    "\n",
    "- Once Matplotlib is installed, import it in your applications by adding the import module statement:\n",
    "\n",
    "```python\n",
    "        import matplotlib\n",
    "```\n"
   ]
  },
  {
   "cell_type": "markdown",
   "id": "6e66a7c6",
   "metadata": {},
   "source": [
    "## Checking Matplotlib Version\n",
    "\n",
    "- The version string is stored under `__version__` attribute.\n"
   ]
  },
  {
   "cell_type": "code",
   "execution_count": 1,
   "id": "a3fcb5f1",
   "metadata": {},
   "outputs": [
    {
     "name": "stdout",
     "output_type": "stream",
     "text": [
      "3.10.3\n"
     ]
    }
   ],
   "source": [
    "import matplotlib\n",
    "\n",
    "print(matplotlib.__version__)"
   ]
  }
 ],
 "metadata": {
  "kernelspec": {
   "display_name": "Python 3",
   "language": "python",
   "name": "python3"
  },
  "language_info": {
   "codemirror_mode": {
    "name": "ipython",
    "version": 3
   },
   "file_extension": ".py",
   "mimetype": "text/x-python",
   "name": "python",
   "nbconvert_exporter": "python",
   "pygments_lexer": "ipython3",
   "version": "3.12.0"
  }
 },
 "nbformat": 4,
 "nbformat_minor": 5
}
