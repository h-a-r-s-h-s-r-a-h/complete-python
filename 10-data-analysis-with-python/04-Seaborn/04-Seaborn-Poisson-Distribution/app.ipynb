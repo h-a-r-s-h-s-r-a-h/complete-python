{
 "cells": [
  {
   "cell_type": "markdown",
   "id": "75246c77",
   "metadata": {},
   "source": [
    "# Poisson Distribution\n",
    "\n",
    "- Poisson Distribution is a Discrete Distribution.\n",
    "\n",
    "- It estimates how many times an event can happen in a specified time. e.g. If someone eats twice a day what is the probability he will eat thrice?\n",
    "\n",
    "  It has two parameters:\n",
    "\n",
    "  - lam - rate or known number of occurrences e.g. 2 for above problem.\n",
    "\n",
    "  - size - The shape of the returned array.\n"
   ]
  },
  {
   "cell_type": "code",
   "execution_count": null,
   "id": "a1590eed",
   "metadata": {},
   "outputs": [
    {
     "name": "stdout",
     "output_type": "stream",
     "text": [
      "[4 2 1 1 3 3 2 4 4 1]\n"
     ]
    }
   ],
   "source": [
    "# Generate a random 1x10 distribution for occurrence 2:\n",
    "from numpy import random\n",
    "\n",
    "x = random.poisson(lam=2, size=10)\n",
    "\n",
    "print(x)"
   ]
  }
 ],
 "metadata": {
  "kernelspec": {
   "display_name": "Python 3",
   "language": "python",
   "name": "python3"
  },
  "language_info": {
   "codemirror_mode": {
    "name": "ipython",
    "version": 3
   },
   "file_extension": ".py",
   "mimetype": "text/x-python",
   "name": "python",
   "nbconvert_exporter": "python",
   "pygments_lexer": "ipython3",
   "version": "3.12.0"
  }
 },
 "nbformat": 4,
 "nbformat_minor": 5
}
