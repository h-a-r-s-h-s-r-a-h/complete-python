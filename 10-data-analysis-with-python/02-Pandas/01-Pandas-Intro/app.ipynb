{
 "cells": [
  {
   "cell_type": "markdown",
   "id": "0aa3b3e3",
   "metadata": {},
   "source": [
    "# Pandas Introduction\n",
    "\n",
    "- Pandas is a Python library used for working with data sets.\n",
    "\n",
    "- It has functions for analyzing, cleaning, exploring, and manipulating data.\n",
    "\n",
    "- Pandas allows us to analyze big data and make conclusions based on statistical theories.\n",
    "\n",
    "- Pandas can clean messy data sets, and make them readable and relevant.\n",
    "\n",
    "- Relevant data is very important in data science.\n"
   ]
  },
  {
   "cell_type": "markdown",
   "id": "f97a3f00",
   "metadata": {},
   "source": [
    "## Installation of Pandas\n",
    "\n",
    "```bash\n",
    "    pip install pandas\n",
    "```\n"
   ]
  },
  {
   "cell_type": "markdown",
   "id": "6c50a962",
   "metadata": {},
   "source": [
    "## Import Pandas\n",
    "\n",
    "Once Pandas is installed, import it in your applications by adding the `import` keyword:\n",
    "\n",
    "```python\n",
    "    import pandas\n",
    "```\n",
    "\n",
    "Now Pandas is imported and ready to use.\n"
   ]
  },
  {
   "cell_type": "code",
   "execution_count": 2,
   "id": "a9623cd9",
   "metadata": {},
   "outputs": [
    {
     "name": "stdout",
     "output_type": "stream",
     "text": [
      "    cars  passings\n",
      "0    BMW         3\n",
      "1  Volvo         7\n",
      "2   Ford         2\n"
     ]
    }
   ],
   "source": [
    "import pandas\n",
    "\n",
    "mydataset = {\n",
    "  'cars': [\"BMW\", \"Volvo\", \"Ford\"],\n",
    "  'passings': [3, 7, 2]\n",
    "}\n",
    "\n",
    "myvar = pandas.DataFrame(mydataset)\n",
    "\n",
    "print(myvar)"
   ]
  },
  {
   "cell_type": "markdown",
   "id": "1a43dfb8",
   "metadata": {},
   "source": [
    "## Pandas as pd\n",
    "\n",
    "Pandas is usually imported under the pd alias.\n",
    "\n",
    "```python\n",
    "    import pandas as pd\n",
    "```\n"
   ]
  },
  {
   "cell_type": "markdown",
   "id": "efd58f26",
   "metadata": {},
   "source": [
    "## Checking Pandas Version\n",
    "The version string is stored under `__version__` attribute."
   ]
  },
  {
   "cell_type": "code",
   "execution_count": 3,
   "id": "847eaf2f",
   "metadata": {},
   "outputs": [
    {
     "name": "stdout",
     "output_type": "stream",
     "text": [
      "2.3.0\n"
     ]
    }
   ],
   "source": [
    "import pandas as pd\n",
    "\n",
    "print(pd.__version__)"
   ]
  }
 ],
 "metadata": {
  "kernelspec": {
   "display_name": "Python 3",
   "language": "python",
   "name": "python3"
  },
  "language_info": {
   "codemirror_mode": {
    "name": "ipython",
    "version": 3
   },
   "file_extension": ".py",
   "mimetype": "text/x-python",
   "name": "python",
   "nbconvert_exporter": "python",
   "pygments_lexer": "ipython3",
   "version": "3.12.0"
  }
 },
 "nbformat": 4,
 "nbformat_minor": 5
}
