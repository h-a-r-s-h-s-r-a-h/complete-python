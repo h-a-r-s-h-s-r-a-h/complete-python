{
 "cells": [
  {
   "cell_type": "markdown",
   "id": "a2a8d0df",
   "metadata": {},
   "source": [
    "# Pandas - Cleaning Data of Wrong Format\n",
    "\n",
    "- Cells with data of wrong format can make it difficult, or even impossible, to analyze data.\n",
    "\n",
    "- To fix it, you have two options: remove the rows, or convert all cells in the columns into the same format.\n"
   ]
  },
  {
   "cell_type": "markdown",
   "id": "e29b9ba1",
   "metadata": {},
   "source": [
    "### Convert Into a Correct Format\n",
    "\n",
    "In our Data Frame, we have two cells with the wrong format. Check out red highlight.\n",
    "\n",
    "\n",
    "![Diagram](markdownImage/excel.png)"
   ]
  },
  {
   "cell_type": "markdown",
   "id": "d16c9e84",
   "metadata": {},
   "source": [
    "---\n",
    "\n",
    "Let's try to convert all cells in the 'Date' column into dates.\n",
    "\n",
    "Pandas has a to_datetime() method for this:\n"
   ]
  },
  {
   "cell_type": "code",
   "execution_count": 5,
   "id": "3c1aa446",
   "metadata": {},
   "outputs": [
    {
     "name": "stdout",
     "output_type": "stream",
     "text": [
      "    Duration       Date  Pulse  Maxpulse  Calories\n",
      "0         60 2020-12-01    110       130     409.1\n",
      "1         60 2020-12-02    117       145     479.0\n",
      "2         60 2020-12-03    103       135     340.0\n",
      "3         45 2020-12-04    109       175     282.4\n",
      "4         45 2020-12-05    117       148     406.0\n",
      "5         60 2020-12-06    102       127     300.0\n",
      "6         60 2020-12-07    110       136     374.0\n",
      "7        450 2020-12-08    104       134     253.3\n",
      "8         30 2020-12-09    109       133     195.1\n",
      "9         60 2020-12-10     98       124     269.0\n",
      "10        60 2020-12-11    103       147     329.3\n",
      "11        60 2020-12-12    100       120     250.7\n",
      "12        60 2020-12-12    100       120     250.7\n",
      "13        60 2020-12-13    106       128     345.3\n",
      "14        60 2020-12-14    104       132     379.3\n",
      "15        60 2020-12-15     98       123     275.0\n",
      "16        60 2020-12-16     98       120     215.2\n",
      "17        60 2020-12-17    100       120     300.0\n",
      "18        45 2020-12-18     90       112       NaN\n",
      "19        60 2020-12-19    103       123     323.0\n",
      "20        45 2020-12-20     97       125     243.0\n",
      "21        60 2020-12-21    108       131     364.2\n",
      "22        45        NaT    100       119     282.0\n",
      "23        60 2020-12-23    130       101     300.0\n",
      "24        45 2020-12-24    105       132     246.0\n",
      "25        60 2020-12-25    102       126     334.5\n",
      "26        60 2020-12-26    100       120     250.0\n",
      "27        60 2020-12-27     92       118     241.0\n",
      "28        60 2020-12-28    103       132       NaN\n",
      "29        60 2020-12-29    100       132     280.0\n",
      "30        60 2020-12-30    102       129     380.3\n",
      "31        60 2020-12-31     92       115     243.0\n"
     ]
    }
   ],
   "source": [
    "# Convert to date:\n",
    "\n",
    "import pandas as pd\n",
    "\n",
    "df = pd.read_csv(\"data.csv\")\n",
    "\n",
    "df[\"Date\"] = pd.to_datetime(df[\"Date\"], format=\"mixed\")\n",
    "\n",
    "print(df.to_string())"
   ]
  },
  {
   "cell_type": "markdown",
   "id": "f47a72ac",
   "metadata": {},
   "source": [
    "### Removing Rows\n",
    "\n",
    "The result from the converting in the example above gave us a NaT value, which can be handled as a NULL value, and we can remove the row by using the dropna() method.\n"
   ]
  },
  {
   "cell_type": "code",
   "execution_count": 6,
   "id": "4b417b78",
   "metadata": {},
   "outputs": [],
   "source": [
    "df.dropna(subset=[\"Date\"], inplace=True)"
   ]
  },
  {
   "cell_type": "code",
   "execution_count": 7,
   "id": "a250941d",
   "metadata": {},
   "outputs": [
    {
     "name": "stdout",
     "output_type": "stream",
     "text": [
      "    Duration       Date  Pulse  Maxpulse  Calories\n",
      "0         60 2020-12-01    110       130     409.1\n",
      "1         60 2020-12-02    117       145     479.0\n",
      "2         60 2020-12-03    103       135     340.0\n",
      "3         45 2020-12-04    109       175     282.4\n",
      "4         45 2020-12-05    117       148     406.0\n",
      "5         60 2020-12-06    102       127     300.0\n",
      "6         60 2020-12-07    110       136     374.0\n",
      "7        450 2020-12-08    104       134     253.3\n",
      "8         30 2020-12-09    109       133     195.1\n",
      "9         60 2020-12-10     98       124     269.0\n",
      "10        60 2020-12-11    103       147     329.3\n",
      "11        60 2020-12-12    100       120     250.7\n",
      "12        60 2020-12-12    100       120     250.7\n",
      "13        60 2020-12-13    106       128     345.3\n",
      "14        60 2020-12-14    104       132     379.3\n",
      "15        60 2020-12-15     98       123     275.0\n",
      "16        60 2020-12-16     98       120     215.2\n",
      "17        60 2020-12-17    100       120     300.0\n",
      "18        45 2020-12-18     90       112       NaN\n",
      "19        60 2020-12-19    103       123     323.0\n",
      "20        45 2020-12-20     97       125     243.0\n",
      "21        60 2020-12-21    108       131     364.2\n",
      "23        60 2020-12-23    130       101     300.0\n",
      "24        45 2020-12-24    105       132     246.0\n",
      "25        60 2020-12-25    102       126     334.5\n",
      "26        60 2020-12-26    100       120     250.0\n",
      "27        60 2020-12-27     92       118     241.0\n",
      "28        60 2020-12-28    103       132       NaN\n",
      "29        60 2020-12-29    100       132     280.0\n",
      "30        60 2020-12-30    102       129     380.3\n",
      "31        60 2020-12-31     92       115     243.0\n"
     ]
    }
   ],
   "source": [
    "print(df.to_string())"
   ]
  },
  {
   "cell_type": "markdown",
   "id": "c73110eb",
   "metadata": {},
   "source": [
    "## Adding Rows and calling Function and Changing DataTypes\n",
    "\n",
    "- Changing datatypes with `.astype()`\n",
    "- Calling function using `.apply()`"
   ]
  },
  {
   "cell_type": "code",
   "execution_count": 10,
   "id": "b633e7da",
   "metadata": {},
   "outputs": [
    {
     "data": {
      "application/vnd.microsoft.datawrangler.viewer.v0+json": {
       "columns": [
        {
         "name": "index",
         "rawType": "int64",
         "type": "integer"
        },
        {
         "name": "Duration",
         "rawType": "int64",
         "type": "integer"
        },
        {
         "name": "Date",
         "rawType": "datetime64[ns]",
         "type": "datetime"
        },
        {
         "name": "Pulse",
         "rawType": "int64",
         "type": "integer"
        },
        {
         "name": "Maxpulse",
         "rawType": "int64",
         "type": "integer"
        },
        {
         "name": "Calories",
         "rawType": "float64",
         "type": "float"
        },
        {
         "name": "New_Column",
         "rawType": "int64",
         "type": "integer"
        }
       ],
       "ref": "90a95760-f0ef-4ec2-a9f0-891595b3dba8",
       "rows": [
        [
         "0",
         "60",
         "2020-12-01 00:00:00",
         "110",
         "130",
         "409.1",
         "220"
        ],
        [
         "1",
         "60",
         "2020-12-02 00:00:00",
         "117",
         "145",
         "479.0",
         "234"
        ],
        [
         "2",
         "60",
         "2020-12-03 00:00:00",
         "103",
         "135",
         "340.0",
         "206"
        ],
        [
         "3",
         "45",
         "2020-12-04 00:00:00",
         "109",
         "175",
         "282.4",
         "218"
        ],
        [
         "4",
         "45",
         "2020-12-05 00:00:00",
         "117",
         "148",
         "406.0",
         "234"
        ]
       ],
       "shape": {
        "columns": 6,
        "rows": 5
       }
      },
      "text/html": [
       "<div>\n",
       "<style scoped>\n",
       "    .dataframe tbody tr th:only-of-type {\n",
       "        vertical-align: middle;\n",
       "    }\n",
       "\n",
       "    .dataframe tbody tr th {\n",
       "        vertical-align: top;\n",
       "    }\n",
       "\n",
       "    .dataframe thead th {\n",
       "        text-align: right;\n",
       "    }\n",
       "</style>\n",
       "<table border=\"1\" class=\"dataframe\">\n",
       "  <thead>\n",
       "    <tr style=\"text-align: right;\">\n",
       "      <th></th>\n",
       "      <th>Duration</th>\n",
       "      <th>Date</th>\n",
       "      <th>Pulse</th>\n",
       "      <th>Maxpulse</th>\n",
       "      <th>Calories</th>\n",
       "      <th>New_Column</th>\n",
       "    </tr>\n",
       "  </thead>\n",
       "  <tbody>\n",
       "    <tr>\n",
       "      <th>0</th>\n",
       "      <td>60</td>\n",
       "      <td>2020-12-01</td>\n",
       "      <td>110</td>\n",
       "      <td>130</td>\n",
       "      <td>409.1</td>\n",
       "      <td>220</td>\n",
       "    </tr>\n",
       "    <tr>\n",
       "      <th>1</th>\n",
       "      <td>60</td>\n",
       "      <td>2020-12-02</td>\n",
       "      <td>117</td>\n",
       "      <td>145</td>\n",
       "      <td>479.0</td>\n",
       "      <td>234</td>\n",
       "    </tr>\n",
       "    <tr>\n",
       "      <th>2</th>\n",
       "      <td>60</td>\n",
       "      <td>2020-12-03</td>\n",
       "      <td>103</td>\n",
       "      <td>135</td>\n",
       "      <td>340.0</td>\n",
       "      <td>206</td>\n",
       "    </tr>\n",
       "    <tr>\n",
       "      <th>3</th>\n",
       "      <td>45</td>\n",
       "      <td>2020-12-04</td>\n",
       "      <td>109</td>\n",
       "      <td>175</td>\n",
       "      <td>282.4</td>\n",
       "      <td>218</td>\n",
       "    </tr>\n",
       "    <tr>\n",
       "      <th>4</th>\n",
       "      <td>45</td>\n",
       "      <td>2020-12-05</td>\n",
       "      <td>117</td>\n",
       "      <td>148</td>\n",
       "      <td>406.0</td>\n",
       "      <td>234</td>\n",
       "    </tr>\n",
       "  </tbody>\n",
       "</table>\n",
       "</div>"
      ],
      "text/plain": [
       "   Duration       Date  Pulse  Maxpulse  Calories  New_Column\n",
       "0        60 2020-12-01    110       130     409.1         220\n",
       "1        60 2020-12-02    117       145     479.0         234\n",
       "2        60 2020-12-03    103       135     340.0         206\n",
       "3        45 2020-12-04    109       175     282.4         218\n",
       "4        45 2020-12-05    117       148     406.0         234"
      ]
     },
     "execution_count": 10,
     "metadata": {},
     "output_type": "execute_result"
    }
   ],
   "source": [
    "df[\"New_Column\"] = df[\"Pulse\"].astype(int).apply(lambda x: x * 2)\n",
    "df.head()"
   ]
  },
  {
   "cell_type": "markdown",
   "id": "67bdeca5",
   "metadata": {},
   "source": [
    "## Grouping Data"
   ]
  },
  {
   "cell_type": "code",
   "execution_count": 15,
   "id": "ad295f1b",
   "metadata": {},
   "outputs": [
    {
     "name": "stdout",
     "output_type": "stream",
     "text": [
      "Duration\n",
      "30      109\n",
      "45      518\n",
      "60     2481\n",
      "450     104\n",
      "Name: Pulse, dtype: int64\n"
     ]
    }
   ],
   "source": [
    "grouped_df = df.groupby([\"Duration\"])['Pulse'].sum()\n",
    "print(grouped_df)"
   ]
  },
  {
   "cell_type": "code",
   "execution_count": 16,
   "id": "a692e577",
   "metadata": {},
   "outputs": [
    {
     "name": "stdout",
     "output_type": "stream",
     "text": [
      "Duration  Maxpulse\n",
      "30        133         109\n",
      "45        112          90\n",
      "          125          97\n",
      "          132         105\n",
      "          148         117\n",
      "          175         109\n",
      "60        101         130\n",
      "          115          92\n",
      "          118          92\n",
      "          120         498\n",
      "          123         201\n",
      "          124          98\n",
      "          126         102\n",
      "          127         102\n",
      "          128         106\n",
      "          129         102\n",
      "          130         110\n",
      "          131         108\n",
      "          132         307\n",
      "          135         103\n",
      "          136         110\n",
      "          145         117\n",
      "          147         103\n",
      "450       134         104\n",
      "Name: Pulse, dtype: int64\n"
     ]
    }
   ],
   "source": [
    "grouped_df = df.groupby([\"Duration\",\"Maxpulse\"])['Pulse'].sum()\n",
    "print(grouped_df)"
   ]
  },
  {
   "cell_type": "code",
   "execution_count": 17,
   "id": "4d535916",
   "metadata": {},
   "outputs": [
    {
     "name": "stdout",
     "output_type": "stream",
     "text": [
      "                   sum        mean  max\n",
      "Duration Maxpulse                      \n",
      "30       133       109  109.000000  109\n",
      "45       112        90   90.000000   90\n",
      "         125        97   97.000000   97\n",
      "         132       105  105.000000  105\n",
      "         148       117  117.000000  117\n",
      "         175       109  109.000000  109\n",
      "60       101       130  130.000000  130\n",
      "         115        92   92.000000   92\n",
      "         118        92   92.000000   92\n",
      "         120       498   99.600000  100\n",
      "         123       201  100.500000  103\n",
      "         124        98   98.000000   98\n",
      "         126       102  102.000000  102\n",
      "         127       102  102.000000  102\n",
      "         128       106  106.000000  106\n",
      "         129       102  102.000000  102\n",
      "         130       110  110.000000  110\n",
      "         131       108  108.000000  108\n",
      "         132       307  102.333333  104\n",
      "         135       103  103.000000  103\n",
      "         136       110  110.000000  110\n",
      "         145       117  117.000000  117\n",
      "         147       103  103.000000  103\n",
      "450      134       104  104.000000  104\n"
     ]
    }
   ],
   "source": [
    "# aggregating multiple functions\n",
    "grouped_agg = df.groupby([\"Duration\",\"Maxpulse\"])['Pulse'].agg(['sum', 'mean', 'max'])\n",
    "print(grouped_agg)"
   ]
  }
 ],
 "metadata": {
  "kernelspec": {
   "display_name": "Python 3",
   "language": "python",
   "name": "python3"
  },
  "language_info": {
   "codemirror_mode": {
    "name": "ipython",
    "version": 3
   },
   "file_extension": ".py",
   "mimetype": "text/x-python",
   "name": "python",
   "nbconvert_exporter": "python",
   "pygments_lexer": "ipython3",
   "version": "3.12.0"
  }
 },
 "nbformat": 4,
 "nbformat_minor": 5
}
