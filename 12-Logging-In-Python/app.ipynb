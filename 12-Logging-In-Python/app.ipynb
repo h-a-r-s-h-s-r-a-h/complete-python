{
 "cells": [
  {
   "cell_type": "markdown",
   "id": "fdf67b03",
   "metadata": {},
   "source": [
    "# Logging in Python\n",
    "\n",
    "Logging in Python is handled by the built-in logging module, which provides a flexible framework for emitting log messages from Python programs. It allows developers to track events, debug issues, and monitor the health of applications by recording information about errors, warnings, and other occurrences during program execution.\n"
   ]
  },
  {
   "cell_type": "code",
   "execution_count": null,
   "id": "2ae43502",
   "metadata": {},
   "outputs": [
    {
     "name": "stderr",
     "output_type": "stream",
     "text": [
      "2025-07-07 14:11:21 - DEBUG - This is a debug message\n",
      "2025-07-07 14:11:21 - INFO - This is an info message\n",
      "2025-07-07 14:11:21 - WARNING - This is a warning message\n",
      "2025-07-07 14:11:21 - ERROR - This is an error message\n",
      "2025-07-07 14:11:21 - CRITICAL - This is a critical message\n",
      "2025-07-07 14:11:21 - ERROR - An exception occurred: division by zero\n",
      "Traceback (most recent call last):\n",
      "  File \"C:\\Users\\Harsh\\AppData\\Local\\Temp\\ipykernel_25112\\2905254957.py\", line 19, in <module>\n",
      "    1 / 0  # This will raise a ZeroDivisionError\n",
      "    ~~^~~\n",
      "ZeroDivisionError: division by zero\n"
     ]
    }
   ],
   "source": [
    "import logging\n",
    "\n",
    "# Configure the logging system\n",
    "logging.basicConfig(\n",
    "    level=logging.DEBUG,  # Set the logging level to DEBUG\n",
    "    format=\"%(asctime)s - %(levelname)s - %(message)s\",  # Define the log message format\n",
    "    datefmt=\"%Y-%m-%d %H:%M:%S\",  # Define the date format\n",
    ")\n",
    "\n",
    "# log messages of different severity levels\n",
    "logging.debug(\"This is a debug message\")\n",
    "logging.info(\"This is an info message\")\n",
    "logging.warning(\"This is a warning message\")\n",
    "logging.error(\"This is an error message\")\n",
    "logging.critical(\"This is a critical message\")"
   ]
  },
  {
   "cell_type": "code",
   "execution_count": null,
   "id": "318140ba",
   "metadata": {},
   "outputs": [],
   "source": [
    "# Saving logs to a file\n",
    "import logging\n",
    "\n",
    "# Configure the logging system\n",
    "logging.basicConfig(\n",
    "    filename=\"app.log\",  # Specify the log file name\n",
    "    filemode=\"w\",  # Open the log file in write mode\n",
    "    level=logging.DEBUG,  # Set the logging level to DEBUG\n",
    "    format=\"%(asctime)s - %(levelname)s - %(message)s\",  # Define the log message format\n",
    "    datefmt=\"%Y-%m-%d %H:%M:%S\",  # Define the date format\n",
    ")\n",
    "\n",
    "# log messages of different severity levels\n",
    "logging.debug(\"This is a debug message\")\n",
    "logging.info(\"This is an info message\")\n",
    "logging.warning(\"This is a warning message\")\n",
    "logging.error(\"This is an error message\")\n",
    "logging.critical(\"This is a critical message\")"
   ]
  },
  {
   "cell_type": "markdown",
   "id": "2cc78dcb",
   "metadata": {},
   "source": [
    "## Logging with multiple loggers"
   ]
  },
  {
   "cell_type": "code",
   "execution_count": 1,
   "id": "0cdd1be1",
   "metadata": {},
   "outputs": [],
   "source": [
    "import logging\n",
    "\n",
    "# Create a logger for module1\n",
    "\n",
    "logger1 = logging.getLogger(\"module1\")\n",
    "logger1.setLevel(logging.DEBUG)  # Set the logging level for module1\n",
    "\n",
    "# Create a logger for module2\n",
    "logger2 = logging.getLogger(\"module2\")\n",
    "logger2.setLevel(logging.WARNING)  # Set the logging level for module2\n",
    "\n",
    "# configure the logging settings\n",
    "logging.basicConfig(\n",
    "    level=logging.DEBUG,  # Set the global logging level\n",
    "    format=\"%(asctime)s - %(name)s - %(levelname)s - %(message)s\",  # Define the log message format\n",
    "    datefmt=\"%Y-%m-%d %H:%M:%S\",  # Define the date format\n",
    ")"
   ]
  },
  {
   "cell_type": "code",
   "execution_count": 2,
   "id": "a36d28c8",
   "metadata": {},
   "outputs": [
    {
     "name": "stderr",
     "output_type": "stream",
     "text": [
      "2025-07-07 14:23:00 - module1 - DEBUG - This is a debug message from module1\n",
      "2025-07-07 14:23:00 - module1 - INFO - This is an info message from module1\n",
      "2025-07-07 14:23:00 - module2 - WARNING - This is a warning message from module2\n",
      "2025-07-07 14:23:00 - module2 - ERROR - This is an error message from module2\n"
     ]
    }
   ],
   "source": [
    "# log message with different loggers\n",
    "\n",
    "logger1.debug(\"This is a debug message from module1\")\n",
    "logger1.info(\"This is an info message from module1\")\n",
    "\n",
    "logger2.warning(\"This is a warning message from module2\")\n",
    "logger2.error(\"This is an error message from module2\")"
   ]
  }
 ],
 "metadata": {
  "kernelspec": {
   "display_name": "Python 3",
   "language": "python",
   "name": "python3"
  },
  "language_info": {
   "codemirror_mode": {
    "name": "ipython",
    "version": 3
   },
   "file_extension": ".py",
   "mimetype": "text/x-python",
   "name": "python",
   "nbconvert_exporter": "python",
   "pygments_lexer": "ipython3",
   "version": "3.12.0"
  }
 },
 "nbformat": 4,
 "nbformat_minor": 5
}
