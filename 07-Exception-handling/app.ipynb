{
 "cells": [
  {
   "cell_type": "markdown",
   "id": "caa5e29e",
   "metadata": {},
   "source": [
    "# Python Exception Handling\n",
    "    Python Exception Handling handles errors that occur during the execution of a program. Exception handling allows to respond to the error, instead of crashing the running program. It enables you to catch and manage errors, making your code more robust and user-friendly."
   ]
  },
  {
   "cell_type": "code",
   "execution_count": null,
   "id": "db5bfc9f",
   "metadata": {},
   "outputs": [
    {
     "name": "stdout",
     "output_type": "stream",
     "text": [
      "Can't be divided by zero!\n"
     ]
    }
   ],
   "source": [
    "# Simple Exception Handling Example\n",
    "n = 10\n",
    "try:\n",
    "    res = n / 0  # This will raise a ZeroDivisionError\n",
    "except ZeroDivisionError:\n",
    "    print(\"Can't be divided by zero!\")"
   ]
  },
  {
   "cell_type": "markdown",
   "id": "6eed5b94",
   "metadata": {},
   "source": [
    "## Difference Between Exception and Error\n",
    "- Error:\n",
    "Errors are serious issues that a program should not try to handle. They are usually problems in the code's logic or configuration and need to be fixed by the programmer. Examples include syntax errors and memory errors.\n",
    "- Exception: \n",
    "Exceptions are less severe than errors and can be handled by the program. They occur due to situations like invalid input, missing files or network issues."
   ]
  },
  {
   "cell_type": "markdown",
   "id": "20389fae",
   "metadata": {},
   "source": [
    "### Syntax and Usage\n",
    "\n",
    "      Exception handling in Python is done using the try, except, else and finally blocks.\n",
    "\n",
    "```python\n",
    "\n",
    "try:\n",
    "      # Code that might raise an exception\n",
    "except SomeException:\n",
    "      # Code to handle the exception\n",
    "else:\n",
    "     # Code to run if no exception occurs\n",
    "finally:\n",
    "    # Code to run regardless of whether an exception occurs\n",
    "```\n",
    "\n",
    "- try Block:\n",
    "  try block lets us test a block of code for errors. Python will \"try\" to execute the code in this block. If an exception occurs, execution will immediately jump to the except block.\n",
    "\n",
    "- except Block:\n",
    "  except block enables us to handle the error or exception. If the code inside the try block throws an error, Python jumps to the except block and executes it. We can handle specific exceptions or use a general except to catch all exceptions.\n",
    "\n",
    "- else Block:\n",
    "  else block is optional and if included, must follow all except blocks. The else block runs only if no exceptions are raised in the try block. This is useful for code that should execute if the try block succeeds.\n",
    "\n",
    "- finally Block:\n",
    "  finally block always runs, regardless of whether an exception occurred or not. It is typically used for cleanup operations (closing files, releasing resources).\n"
   ]
  },
  {
   "cell_type": "code",
   "execution_count": 7,
   "id": "abec734b",
   "metadata": {},
   "outputs": [
    {
     "name": "stdout",
     "output_type": "stream",
     "text": [
      "You can't divide by zero!\n",
      "Execution complete.\n"
     ]
    }
   ],
   "source": [
    "try:\n",
    "    n = 0\n",
    "    res = 100 / n\n",
    "\n",
    "except ZeroDivisionError:\n",
    "    print(\"You can't divide by zero!\")\n",
    "\n",
    "except ValueError:\n",
    "    print(\"Enter a valid number!\")\n",
    "\n",
    "else:\n",
    "    print(\"Result is\", res)\n",
    "\n",
    "finally:\n",
    "    print(\"Execution complete.\")"
   ]
  },
  {
   "cell_type": "code",
   "execution_count": 8,
   "id": "7e506a1b",
   "metadata": {},
   "outputs": [
    {
     "name": "stdout",
     "output_type": "stream",
     "text": [
      "Result is 50.0\n",
      "Execution complete.\n"
     ]
    }
   ],
   "source": [
    "try:\n",
    "    n = 2\n",
    "    res = 100 / n\n",
    "\n",
    "except ZeroDivisionError:\n",
    "    print(\"You can't divide by zero!\")\n",
    "\n",
    "except ValueError:\n",
    "    print(\"Enter a valid number!\")\n",
    "\n",
    "else:\n",
    "    print(\"Result is\", res)\n",
    "\n",
    "finally:\n",
    "    print(\"Execution complete.\")"
   ]
  },
  {
   "cell_type": "markdown",
   "id": "502e2960",
   "metadata": {},
   "source": [
    "## Python Catching Exceptions\n",
    "- When working with exceptions in Python, we can handle errors more efficiently by specifying the types of exceptions we expect. This can make code both safer and easier to debug.\n",
    "\n",
    "    - 1. Catching Specific Exceptions\n",
    "    - 2. Catching Multiple Exceptions"
   ]
  },
  {
   "cell_type": "markdown",
   "id": "24a69377",
   "metadata": {},
   "source": [
    "### 1. Catching Specific Exceptions\n",
    "    Catching specific exceptions makes code to respond to different exception types differently."
   ]
  },
  {
   "cell_type": "code",
   "execution_count": null,
   "id": "6c5a47cf",
   "metadata": {},
   "outputs": [
    {
     "name": "stdout",
     "output_type": "stream",
     "text": [
      "Zero has no inverse!\n"
     ]
    }
   ],
   "source": [
    "try:\n",
    "    x = int(\"str\")  # This will cause ValueError\n",
    "\n",
    "    # inverse\n",
    "    inv = 1 / x\n",
    "\n",
    "except ValueError:\n",
    "    print(\"Not Valid!\")\n",
    "\n",
    "except ZeroDivisionError:\n",
    "    print(\"Zero has no inverse!\")"
   ]
  },
  {
   "cell_type": "code",
   "execution_count": 11,
   "id": "431a033e",
   "metadata": {},
   "outputs": [
    {
     "name": "stdout",
     "output_type": "stream",
     "text": [
      "Zero has no inverse!\n"
     ]
    }
   ],
   "source": [
    "try:\n",
    "    x = int(0)  # This will cause ZeroDivisionError\n",
    "\n",
    "    # inverse\n",
    "    inv = 1 / x\n",
    "\n",
    "except ValueError:\n",
    "    print(\"Not Valid!\")\n",
    "\n",
    "except ZeroDivisionError:\n",
    "    print(\"Zero has no inverse!\")"
   ]
  },
  {
   "cell_type": "markdown",
   "id": "41a8d430",
   "metadata": {},
   "source": [
    "### 2. Catching Multiple Exceptions\n",
    "    We can catch multiple exceptions in a single block if we need to handle them in the same way or we can separate them if different types of exceptions require different handling."
   ]
  },
  {
   "cell_type": "code",
   "execution_count": 12,
   "id": "27085296",
   "metadata": {},
   "outputs": [
    {
     "name": "stdout",
     "output_type": "stream",
     "text": [
      "Error invalid literal for int() with base 10: 'twenty'\n"
     ]
    }
   ],
   "source": [
    "a = [\"10\", \"twenty\", 30]  # Mixed list of integers and strings\n",
    "try:\n",
    "    total = int(a[0]) + int(a[1])  # 'twenty' cannot be converted to int\n",
    "\n",
    "except (ValueError, TypeError) as e:\n",
    "    print(\"Error\", e)\n",
    "\n",
    "except IndexError:\n",
    "    print(\"Index out of range.\")"
   ]
  },
  {
   "cell_type": "markdown",
   "id": "31392a74",
   "metadata": {},
   "source": [
    "### Catch-All Handlers and Their Risks"
   ]
  },
  {
   "cell_type": "code",
   "execution_count": 17,
   "id": "ec8e2bbb",
   "metadata": {},
   "outputs": [
    {
     "name": "stdout",
     "output_type": "stream",
     "text": [
      "An unexpected error occurred: unsupported operand type(s) for /: 'str' and 'int'\n"
     ]
    }
   ],
   "source": [
    "try:\n",
    "    # Simulate risky calculation: incorrect type operation\n",
    "    res = \"100\" / 20\n",
    "\n",
    "except ArithmeticError:\n",
    "    print(\"Arithmetic problem.\")\n",
    "\n",
    "except Exception as e:\n",
    "    print(\"An unexpected error occurred:\", e)"
   ]
  },
  {
   "cell_type": "markdown",
   "id": "ae0149ba",
   "metadata": {},
   "source": [
    "## Raise an Exception\n",
    "We raise an exception in Python using the raise keyword followed by an instance of the exception class that we want to trigger. We can choose from built-in exceptions or define our own custom exceptions by inheriting from Python's built-in Exception class."
   ]
  },
  {
   "cell_type": "code",
   "execution_count": 14,
   "id": "da51215f",
   "metadata": {},
   "outputs": [
    {
     "name": "stdout",
     "output_type": "stream",
     "text": [
      "Age cannot be negative.\n"
     ]
    }
   ],
   "source": [
    "def set(age):\n",
    "    if age < 0:\n",
    "        raise ValueError(\"Age cannot be negative.\")\n",
    "    print(f\"Age set to {age}\")\n",
    "\n",
    "\n",
    "try:\n",
    "    set(-5)\n",
    "except ValueError as e:\n",
    "    print(e)"
   ]
  },
  {
   "cell_type": "markdown",
   "id": "b5d2d91f",
   "metadata": {},
   "source": [
    "## User-defined Exceptions in Python"
   ]
  },
  {
   "cell_type": "code",
   "execution_count": 15,
   "id": "12220a5e",
   "metadata": {},
   "outputs": [
    {
     "name": "stdout",
     "output_type": "stream",
     "text": [
      "150 -> Age must be between 0 and 120\n"
     ]
    }
   ],
   "source": [
    "# Step 1: Define a custom exception class\n",
    "class InvalidAgeError(Exception):\n",
    "    def __init__(self, age, msg=\"Age must be between 0 and 120\"):\n",
    "        self.age = age\n",
    "        self.msg = msg\n",
    "        super().__init__(self.msg)\n",
    "\n",
    "    def __str__(self):\n",
    "        return f'{self.age} -> {self.msg}'\n",
    "\n",
    "# Step 2: Use the custom exception in your code\n",
    "def set_age(age):\n",
    "    if age < 0 or age > 120:\n",
    "        raise InvalidAgeError(age)\n",
    "    else:\n",
    "        print(f\"Age set to: {age}\")\n",
    "\n",
    "# Step 3: Handling the custom exception\n",
    "try:\n",
    "    set_age(150)  # This will raise the custom exception\n",
    "except InvalidAgeError as e:\n",
    "    print(e)"
   ]
  },
  {
   "cell_type": "code",
   "execution_count": 16,
   "id": "9ecfb7ce",
   "metadata": {},
   "outputs": [
    {
     "name": "stdout",
     "output_type": "stream",
     "text": [
      "[Error Code 1001] 150 -> Age must be between 0 and 120\n"
     ]
    }
   ],
   "source": [
    "# Step 1: Subclass the Exception class\n",
    "\n",
    "class InvalidAgeError(Exception):\n",
    "    def __init__(self, age, msg=\"Age must be between 0 and 120\", error_code=1001):\n",
    "        # Custom attributes\n",
    "        self.age = age\n",
    "        self.msg = msg\n",
    "        self.error_code = error_code\n",
    "        super().__init__(self.msg)  # Call the base class constructor\n",
    "\n",
    "    # Step 2: Customize the string representation of the exception\n",
    "    \n",
    "    def __str__(self):\n",
    "        return f\"[Error Code {self.error_code}] {self.age} -> {self.msg}\"\n",
    "\n",
    "# Step 3: Raising the custom exception\n",
    "\n",
    "def set_age(age):\n",
    "    if age < 0 or age > 120:\n",
    "        raise InvalidAgeError(age)\n",
    "    else:\n",
    "        print(f\"Age set to: {age}\")\n",
    "\n",
    "# Step 4: Handling the custom exception with additional information\n",
    "\n",
    "try:\n",
    "    set_age(150)  # This will raise the custom exception\n",
    "except InvalidAgeError as e:\n",
    "    print(e)"
   ]
  }
 ],
 "metadata": {
  "kernelspec": {
   "display_name": "Python 3",
   "language": "python",
   "name": "python3"
  },
  "language_info": {
   "codemirror_mode": {
    "name": "ipython",
    "version": 3
   },
   "file_extension": ".py",
   "mimetype": "text/x-python",
   "name": "python",
   "nbconvert_exporter": "python",
   "pygments_lexer": "ipython3",
   "version": "3.12.0"
  }
 },
 "nbformat": 4,
 "nbformat_minor": 5
}
