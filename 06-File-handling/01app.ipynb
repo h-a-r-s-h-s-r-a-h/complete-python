{
 "cells": [
  {
   "cell_type": "markdown",
   "id": "e5d8ef97",
   "metadata": {},
   "source": [
    "# File Handling in Python\n",
    "    File handling refers to the process of performing operations on a file such as creating, opening, reading, writing and closing it, through a programming interface. It involves managing the data flow between the program and the file system on the storage device, ensuring that data is handled safely and efficiently."
   ]
  },
  {
   "cell_type": "markdown",
   "id": "8e5ce300",
   "metadata": {},
   "source": [
    "- The key function for working with files in Python is the open() function.\n",
    "- The open() function takes two parameters; filename, and mode.\n",
    "- There are four different methods (modes) for opening a file:\n",
    "\n",
    "    - \"r\" - Read - Default value. Opens a file for reading, error if the file does not exist\n",
    "\n",
    "    - \"a\" - Append - Opens a file for appending, creates the file if it does not exist\n",
    "\n",
    "    - \"w\" - Write - Opens a file for writing, creates the file if it does not exist\n",
    "\n",
    "    - \"x\" - Create - Creates the specified file, returns an error if the file exists"
   ]
  },
  {
   "cell_type": "markdown",
   "id": "e6261db4",
   "metadata": {},
   "source": [
    "- In addition you can specify if the file should be handled as binary or text mode\n",
    "    - \"t\" - Text - Default value. Text mode\n",
    "    - \"b\" - Binary - Binary mode (e.g. images)"
   ]
  },
  {
   "cell_type": "code",
   "execution_count": 3,
   "id": "dd77a3a4",
   "metadata": {},
   "outputs": [
    {
     "name": "stdout",
     "output_type": "stream",
     "text": [
      "Read mode: hello\n",
      "my name is harsh\n",
      "i am blockchain and AI/Ml developer\n",
      "My favourite programming language is Rust.\n"
     ]
    }
   ],
   "source": [
    "# \"r\" - Read mode (default). Opens the file for reading. Raises an error if the file does not exist.\n",
    "\n",
    "try:\n",
    "    with open(\"example_read.txt\", \"r\") as file:\n",
    "        content = file.read()\n",
    "        print(\"Read mode:\", content)\n",
    "except FileNotFoundError:\n",
    "    print(\"File not found for reading.\")"
   ]
  },
  {
   "cell_type": "code",
   "execution_count": 4,
   "id": "6f24702f",
   "metadata": {},
   "outputs": [
    {
     "name": "stdout",
     "output_type": "stream",
     "text": [
      "hello\n",
      "my name is harsh\n",
      "i am blockchain and AI/Ml developer\n",
      "My favourite programming language is Rust.\n"
     ]
    }
   ],
   "source": [
    "with open(\"example_read.txt\", \"r\") as file:\n",
    "    for line in file:\n",
    "        print(line.strip())\n",
    "# This will read the file line by line and print each line without extra newlines.\n",
    "# .strip() is used to remove any leading or trailing whitespace, including newlines."
   ]
  },
  {
   "cell_type": "code",
   "execution_count": 6,
   "id": "6cb5c370",
   "metadata": {},
   "outputs": [
    {
     "name": "stdout",
     "output_type": "stream",
     "text": [
      "Append mode: Line appended.\n"
     ]
    }
   ],
   "source": [
    "# \"a\" - Append mode. Opens the file for appending. Creates the file if it does not exist.\n",
    "with open(\"example_append.txt\", \"a\") as file:\n",
    "    newString = input(\"Enter a string to append: \")\n",
    "    file.write(newString + \"\\n\")  # Adding a newline for better formatting\n",
    "print(\"Append mode: Line appended.\")"
   ]
  },
  {
   "cell_type": "code",
   "execution_count": 9,
   "id": "ad9fa4ba",
   "metadata": {},
   "outputs": [
    {
     "name": "stdout",
     "output_type": "stream",
     "text": [
      "All lines appended to file.\n"
     ]
    }
   ],
   "source": [
    "lines = [\"Line 1\", \"Line 2\", \"Line 3\"]\n",
    "with open('example_append.txt', 'a') as file:\n",
    "    for line in lines:\n",
    "        file.write(line + '\\n')\n",
    "print(\"All lines appended to file.\")"
   ]
  },
  {
   "cell_type": "code",
   "execution_count": 12,
   "id": "90000350",
   "metadata": {},
   "outputs": [
    {
     "name": "stdout",
     "output_type": "stream",
     "text": [
      "Write mode: Content written.\n"
     ]
    }
   ],
   "source": [
    "# \"w\" - Write mode. Opens the file for writing. Creates the file if it does not exist. Overwrites existing content.\n",
    "with open('example_write.txt', 'w') as file:\n",
    "    newString = input(\"Enter a string to write: \")\n",
    "    file.write(newString + \"\\n\") \n",
    "print('Write mode: Content written.')"
   ]
  },
  {
   "cell_type": "code",
   "execution_count": null,
   "id": "9306842b",
   "metadata": {},
   "outputs": [
    {
     "name": "stdout",
     "output_type": "stream",
     "text": [
      "Hello world!\n",
      "My name is Harsh.\n",
      "I am learning Python file handling.\n",
      "\n"
     ]
    }
   ],
   "source": [
    "# \"w+\" - Write and Read mode. Opens the file for both writing and reading. Overwrites existing content or creates the file if it does not exist.\n",
    "with open(\"example_write_read.txt\", \"w+\") as file:\n",
    "    file.write(\"Hello world!\\n\")\n",
    "    file.write(\"My name is Harsh.\\n\")\n",
    "    file.write(\"I am learning Python file handling.\\n\")\n",
    "\n",
    "    file.seek(0)  # Move the cursor to the beginning of the file before reading\n",
    "\n",
    "    content = file.read()\n",
    "\n",
    "    print(content)"
   ]
  },
  {
   "cell_type": "code",
   "execution_count": 11,
   "id": "227980e5",
   "metadata": {},
   "outputs": [
    {
     "name": "stdout",
     "output_type": "stream",
     "text": [
      "Create mode: File created.\n"
     ]
    }
   ],
   "source": [
    "# \"x\" - Create mode. Creates the specified file. Raises an error if the file already exists.\n",
    "try:\n",
    "    with open('example_create.txt', 'x') as file:\n",
    "        file.write('File created using x mode.\\n')\n",
    "    print('Create mode: File created.')\n",
    "except FileExistsError:\n",
    "    print('File already exists for create mode.')"
   ]
  },
  {
   "cell_type": "code",
   "execution_count": 10,
   "id": "b8e2c59e",
   "metadata": {},
   "outputs": [
    {
     "name": "stdout",
     "output_type": "stream",
     "text": [
      "Text mode content: This is a line in text mode.\n",
      "\n",
      "Binary mode content: b'This is a line in binary mode.\\n'\n"
     ]
    }
   ],
   "source": [
    "# In Python, you can specify whether a file should be opened in text or binary mode by adding 't' or 'b' to the mode string.\n",
    "\n",
    "# \"t\" - Text mode (default)\n",
    "# When you open a file in text mode, you read and write strings. The file's contents are decoded/encoded using a specific encoding (default is usually UTF-8).\n",
    "with open(\"example_text.txt\", \"a\") as text_file:\n",
    "    text_file.write(\"This is a line in text mode.\\n\")\n",
    "\n",
    "with open(\"example_text.txt\", \"r\") as text_file:\n",
    "    text_content = text_file.read()\n",
    "    print(\"Text mode content:\", text_content)\n",
    "\n",
    "# \"b\" - Binary mode\n",
    "# When you open a file in binary mode, you read and write bytes objects. No encoding/decoding is performed.\n",
    "with open(\"example_binary.bin\", \"wb\") as binary_file:\n",
    "    binary_file.write(b\"This is a line in binary mode.\\n\")\n",
    "\n",
    "with open(\"example_binary.bin\", \"rb\") as binary_file:\n",
    "    binary_content = binary_file.read()\n",
    "    print(\"Binary mode content:\", binary_content)"
   ]
  }
 ],
 "metadata": {
  "kernelspec": {
   "display_name": "Python 3",
   "language": "python",
   "name": "python3"
  },
  "language_info": {
   "codemirror_mode": {
    "name": "ipython",
    "version": 3
   },
   "file_extension": ".py",
   "mimetype": "text/x-python",
   "name": "python",
   "nbconvert_exporter": "python",
   "pygments_lexer": "ipython3",
   "version": "3.12.0"
  }
 },
 "nbformat": 4,
 "nbformat_minor": 5
}
