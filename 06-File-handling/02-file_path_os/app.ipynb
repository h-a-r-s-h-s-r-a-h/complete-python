{
 "cells": [
  {
   "cell_type": "code",
   "execution_count": null,
   "id": "e6e7d214",
   "metadata": {},
   "outputs": [
    {
     "name": "stdout",
     "output_type": "stream",
     "text": [
      "Current working directory: c:\\Users\\Harsh\\Desktop\\AiMlBasicPython\\06-File-handling\\02-file_path_os\n"
     ]
    }
   ],
   "source": [
    "import os\n",
    "\n",
    "cwd = os.getcwd()\n",
    "print(\"Current working directory:\", cwd)"
   ]
  },
  {
   "cell_type": "code",
   "execution_count": 2,
   "id": "cd0f40a8",
   "metadata": {},
   "outputs": [
    {
     "name": "stdout",
     "output_type": "stream",
     "text": [
      "Created directory: package\n"
     ]
    }
   ],
   "source": [
    "# Create a new directory\n",
    "new_directory = \"package\"\n",
    "os.mkdir(new_directory)\n",
    "print(f\"Created directory: {new_directory}\")"
   ]
  },
  {
   "cell_type": "code",
   "execution_count": 11,
   "id": "1af4d447",
   "metadata": {},
   "outputs": [
    {
     "name": "stdout",
     "output_type": "stream",
     "text": [
      "Items in the current directory:\n",
      "['app.ipynb', 'package']\n"
     ]
    }
   ],
   "source": [
    "# Listing files and directories\n",
    "\n",
    "items = os.listdir(\"./\")\n",
    "print(\"Items in the current directory:\")\n",
    "print(items)"
   ]
  },
  {
   "cell_type": "code",
   "execution_count": null,
   "id": "077f3102",
   "metadata": {},
   "outputs": [
    {
     "name": "stdout",
     "output_type": "stream",
     "text": [
      "Full path to the file: folder\\file.txt\n"
     ]
    }
   ],
   "source": [
    "# Joining paths\n",
    "\n",
    "# Relative path to a file\n",
    "\n",
    "dir_name = \"folder\"\n",
    "file_name = \"file.txt\"\n",
    "full_path = os.path.join(dir_name, file_name)\n",
    "print(\"Relative path to the file:\", full_path)"
   ]
  },
  {
   "cell_type": "code",
   "execution_count": null,
   "id": "6c39d0bb",
   "metadata": {},
   "outputs": [
    {
     "name": "stdout",
     "output_type": "stream",
     "text": [
      "Full path to the file: c:\\Users\\Harsh\\Desktop\\AiMlBasicPython\\06-File-handling\\02-file_path_os\\folder\\file.txt\n"
     ]
    }
   ],
   "source": [
    "# Joining paths\n",
    "\n",
    "# Full path to a file\n",
    "\n",
    "dir_name = \"folder\"\n",
    "file_name = \"file.txt\"\n",
    "full_path = os.path.join(os.getcwd(), dir_name, file_name)\n",
    "print(\"Full path to the file:\", full_path)"
   ]
  },
  {
   "cell_type": "code",
   "execution_count": 14,
   "id": "4e65a3e1",
   "metadata": {},
   "outputs": [
    {
     "name": "stdout",
     "output_type": "stream",
     "text": [
      "The file example.txt does not exist.\n"
     ]
    }
   ],
   "source": [
    "path = \"example.txt\"\n",
    "\n",
    "if os.path.exists(path):\n",
    "    print(f\"The file {path} exists.\")\n",
    "else:\n",
    "    print(f\"The file {path} does not exist.\")"
   ]
  },
  {
   "cell_type": "code",
   "execution_count": 16,
   "id": "594d94d8",
   "metadata": {},
   "outputs": [
    {
     "name": "stdout",
     "output_type": "stream",
     "text": [
      "The file package exists.\n"
     ]
    }
   ],
   "source": [
    "path = \"package\"\n",
    "\n",
    "if os.path.exists(path):\n",
    "    print(f\"The file {path} exists.\")\n",
    "else:\n",
    "    print(f\"The file {path} does not exist.\")"
   ]
  },
  {
   "cell_type": "code",
   "execution_count": null,
   "id": "e81f9a4f",
   "metadata": {},
   "outputs": [
    {
     "name": "stdout",
     "output_type": "stream",
     "text": [
      "The directory package exists.\n"
     ]
    }
   ],
   "source": [
    "# checking if a path is a file or directory\n",
    "\n",
    "path = \"package\"\n",
    "\n",
    "if os.path.isfile(path):\n",
    "    print(f\"The file {path} exists.\")\n",
    "elif os.path.isdir(path):\n",
    "    print(f\"The directory {path} exists.\")\n",
    "else:\n",
    "    print(f\"The file {path} does not exist.\")"
   ]
  },
  {
   "cell_type": "code",
   "execution_count": null,
   "id": "ef2fd7bb",
   "metadata": {},
   "outputs": [
    {
     "name": "stdout",
     "output_type": "stream",
     "text": [
      "The file package/example.txt exists.\n"
     ]
    }
   ],
   "source": [
    "# checking if a path is a file or directory\n",
    "\n",
    "path = \"package/example.txt\"\n",
    "\n",
    "if os.path.isfile(path):\n",
    "    print(f\"The file {path} exists.\")\n",
    "elif os.path.isdir(path):\n",
    "    print(f\"The directory {path} exists.\")\n",
    "else:\n",
    "    print(f\"The file {path} does not exist.\")"
   ]
  },
  {
   "cell_type": "code",
   "execution_count": 21,
   "id": "715e9ebb",
   "metadata": {},
   "outputs": [
    {
     "name": "stdout",
     "output_type": "stream",
     "text": [
      "Absolute path of package is: c:\\Users\\Harsh\\Desktop\\AiMlBasicPython\\06-File-handling\\02-file_path_os\\package\n"
     ]
    }
   ],
   "source": [
    "# Getting the absolute path\n",
    "relative_path = \"package\"\n",
    "absolute_path = os.path.abspath(relative_path)\n",
    "print(f\"Absolute path of {relative_path} is: {absolute_path}\")"
   ]
  }
 ],
 "metadata": {
  "kernelspec": {
   "display_name": "Python 3",
   "language": "python",
   "name": "python3"
  },
  "language_info": {
   "codemirror_mode": {
    "name": "ipython",
    "version": 3
   },
   "file_extension": ".py",
   "mimetype": "text/x-python",
   "name": "python",
   "nbconvert_exporter": "python",
   "pygments_lexer": "ipython3",
   "version": "3.12.0"
  }
 },
 "nbformat": 4,
 "nbformat_minor": 5
}
