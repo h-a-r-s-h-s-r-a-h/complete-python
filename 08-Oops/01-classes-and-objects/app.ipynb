{
 "cells": [
  {
   "cell_type": "markdown",
   "id": "7eda5f8a",
   "metadata": {},
   "source": [
    "# Classes and Objects\n",
    "- Python is an object oriented programming language.\n",
    "- Almost everything in Python is an object, with its properties and methods.\n",
    "- A Class is like an object constructor, or a \"blueprint\" for creating objects."
   ]
  },
  {
   "cell_type": "code",
   "execution_count": 10,
   "id": "adc2c6a7",
   "metadata": {},
   "outputs": [
    {
     "name": "stdout",
     "output_type": "stream",
     "text": [
      "Configuring computer...\n"
     ]
    }
   ],
   "source": [
    "class Computer:\n",
    "    def config(self):\n",
    "        print(\"Configuring computer...\")\n",
    "\n",
    "\n",
    "comp1 = Computer()\n",
    "comp1.config()"
   ]
  },
  {
   "cell_type": "markdown",
   "id": "ff3907f6",
   "metadata": {},
   "source": [
    "## Python Objects\n",
    "\n",
    "    An Object is an instance of a Class. It represents a specific implementation of the class and holds its own data.\n",
    "\n",
    "An object consists of:\n",
    "\n",
    "- State:\n",
    "  It is represented by the attributes and reflects the properties of an object.\n",
    "- Behavior:\n",
    "  It is represented by the methods of an object and reflects the response of an object to other objects.\n",
    "- Identity:\n",
    "  It gives a unique name to an object and enables one object to interact with other objects.\n"
   ]
  },
  {
   "cell_type": "code",
   "execution_count": 11,
   "id": "06b03482",
   "metadata": {},
   "outputs": [
    {
     "name": "stdout",
     "output_type": "stream",
     "text": [
      "Buddy\n",
      "Canine\n"
     ]
    }
   ],
   "source": [
    "# Creating Object\n",
    "class Dog:\n",
    "    species = \"Canine\"  # Class attribute\n",
    "\n",
    "    def __init__(self, name, age):\n",
    "        self.name = name  # Instance attribute\n",
    "        self.age = age  # Instance attribute\n",
    "\n",
    "\n",
    "# Creating an object of the Dog class\n",
    "dog1 = Dog(\"Buddy\", 3)\n",
    "\n",
    "print(dog1.name)\n",
    "print(dog1.species)"
   ]
  },
  {
   "cell_type": "markdown",
   "id": "ccff1000",
   "metadata": {},
   "source": [
    "## `__init__` Method\n",
    "\n",
    "- `__init__` method is the constructor in Python, automatically called when a new object is created. It initializes the attributes of the class.\n",
    "- All classes have a function called `__init__()`, which is always executed when the class is being initiated.\n"
   ]
  },
  {
   "cell_type": "code",
   "execution_count": 12,
   "id": "dff26e55",
   "metadata": {},
   "outputs": [
    {
     "name": "stdout",
     "output_type": "stream",
     "text": [
      "Harsh\n",
      "21\n"
     ]
    }
   ],
   "source": [
    "class Person:\n",
    "    def __init__(self, name, age):\n",
    "        self.name = name\n",
    "        self.age = age\n",
    "\n",
    "\n",
    "p1 = Person(\"Harsh\", 21)\n",
    "\n",
    "print(p1.name)\n",
    "print(p1.age)"
   ]
  },
  {
   "cell_type": "code",
   "execution_count": 13,
   "id": "0ee344e5",
   "metadata": {},
   "outputs": [
    {
     "name": "stdout",
     "output_type": "stream",
     "text": [
      "Hello, Harsh!\n"
     ]
    }
   ],
   "source": [
    "class Greeter:\n",
    "    def __init__(self, name):\n",
    "        self.name = name\n",
    "\n",
    "    def greet(self):\n",
    "        print(f\"Hello, {self.name}!\")\n",
    "\n",
    "\n",
    "# Create an object of the class\n",
    "g = Greeter(\"Harsh\")\n",
    "\n",
    "# Call the method\n",
    "g.greet()"
   ]
  },
  {
   "cell_type": "markdown",
   "id": "06aef2ee",
   "metadata": {},
   "source": [
    "## The `__str__()` Function\n",
    "The `__str__()` function controls what should be returned when the class object is represented as a string."
   ]
  },
  {
   "cell_type": "code",
   "execution_count": 14,
   "id": "9307158c",
   "metadata": {},
   "outputs": [
    {
     "name": "stdout",
     "output_type": "stream",
     "text": [
      "Harsh (21)\n"
     ]
    }
   ],
   "source": [
    "class Person:\n",
    "    def __init__(self, name, age):\n",
    "        self.name = name\n",
    "        self.age = age\n",
    "\n",
    "    def __str__(self):\n",
    "        return f\"{self.name} ({self.age})\"\n",
    "\n",
    "\n",
    "p1 = Person(\"Harsh\", 21)\n",
    "\n",
    "print(p1)"
   ]
  },
  {
   "cell_type": "markdown",
   "id": "2fdffd3a",
   "metadata": {},
   "source": [
    "## Object Methods\n",
    "\n",
    "Objects can also contain methods. Methods in objects are functions that belong to the object.\n",
    "\n",
    "    Note: The self parameter is a reference to the current instance of the class, and is used to access variables that belong to the class.\n"
   ]
  },
  {
   "cell_type": "code",
   "execution_count": 15,
   "id": "7371745f",
   "metadata": {},
   "outputs": [
    {
     "name": "stdout",
     "output_type": "stream",
     "text": [
      "Hello my name is Harsh\n"
     ]
    }
   ],
   "source": [
    "class Person:\n",
    "    def __init__(self, name, age):\n",
    "        self.name = name\n",
    "        self.age = age\n",
    "\n",
    "    def myfunc(self):\n",
    "        print(\"Hello my name is \" + self.name)\n",
    "\n",
    "\n",
    "p1 = Person(\"Harsh\", 21)\n",
    "p1.myfunc()"
   ]
  }
 ],
 "metadata": {
  "kernelspec": {
   "display_name": "Python 3",
   "language": "python",
   "name": "python3"
  },
  "language_info": {
   "codemirror_mode": {
    "name": "ipython",
    "version": 3
   },
   "file_extension": ".py",
   "mimetype": "text/x-python",
   "name": "python",
   "nbconvert_exporter": "python",
   "pygments_lexer": "ipython3",
   "version": "3.12.0"
  }
 },
 "nbformat": 4,
 "nbformat_minor": 5
}
