{
 "cells": [
  {
   "cell_type": "markdown",
   "id": "1bfea96e",
   "metadata": {},
   "source": [
    "# Data Abstraction \n",
    "Abstraction hides the internal implementation details while exposing only the necessary functionality. It helps focus on \"what to do\" rather than \"how to do it.\""
   ]
  },
  {
   "cell_type": "markdown",
   "id": "7417bec4",
   "metadata": {},
   "source": [
    "### Types of Abstraction:\n",
    "\n",
    "- 1. **Partial Abstraction:** Abstract class contains both abstract and concrete methods.\n",
    "- 2. **Full Abstraction:** Abstract class contains only abstract methods (like interfaces)."
   ]
  },
  {
   "cell_type": "code",
   "execution_count": null,
   "id": "99e344e8",
   "metadata": {},
   "outputs": [
    {
     "name": "stdout",
     "output_type": "stream",
     "text": [
      "Car started.\n",
      "Most vehicles use petrol or diesel.\n"
     ]
    }
   ],
   "source": [
    "# Partial Abstraction\n",
    "from abc import ABC, abstractmethod\n",
    "\n",
    "\n",
    "class Vehicle(ABC):\n",
    "    @abstractmethod\n",
    "    def start(self):\n",
    "        pass  # Abstract method\n",
    "\n",
    "    def fuel_type(self):\n",
    "        print(\"Most vehicles use petrol or diesel.\")  # Concrete method\n",
    "\n",
    "\n",
    "class Car(Vehicle):\n",
    "    def start(self):\n",
    "        print(\"Car started.\")\n",
    "\n",
    "\n",
    "my_car = Car()\n",
    "my_car.start()\n",
    "my_car.fuel_type()"
   ]
  },
  {
   "cell_type": "code",
   "execution_count": null,
   "id": "e930eb60",
   "metadata": {},
   "outputs": [
    {
     "name": "stdout",
     "output_type": "stream",
     "text": [
      "Area: 20\n",
      "Perimeter: 18\n"
     ]
    }
   ],
   "source": [
    "from abc import ABC, abstractmethod\n",
    "\n",
    "# Full Abstraction Example\n",
    "\n",
    "\n",
    "class Shape(ABC):\n",
    "    @abstractmethod\n",
    "    def area(self):\n",
    "        pass\n",
    "\n",
    "    @abstractmethod\n",
    "    def perimeter(self):\n",
    "        pass\n",
    "\n",
    "\n",
    "class Rectangle(Shape):\n",
    "    def __init__(self, width, height):\n",
    "        self.width = width\n",
    "        self.height = height\n",
    "\n",
    "    def area(self):\n",
    "        return self.width * self.height\n",
    "\n",
    "    def perimeter(self):\n",
    "        return 2 * (self.width + self.height)\n",
    "\n",
    "\n",
    "rect = Rectangle(4, 5)\n",
    "print(\"Area:\", rect.area())\n",
    "print(\"Perimeter:\", rect.perimeter())\n"
   ]
  }
 ],
 "metadata": {
  "kernelspec": {
   "display_name": "Python 3",
   "language": "python",
   "name": "python3"
  },
  "language_info": {
   "codemirror_mode": {
    "name": "ipython",
    "version": 3
   },
   "file_extension": ".py",
   "mimetype": "text/x-python",
   "name": "python",
   "nbconvert_exporter": "python",
   "pygments_lexer": "ipython3",
   "version": "3.12.0"
  }
 },
 "nbformat": 4,
 "nbformat_minor": 5
}
