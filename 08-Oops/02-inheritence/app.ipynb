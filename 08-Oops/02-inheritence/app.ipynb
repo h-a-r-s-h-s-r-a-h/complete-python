{
 "cells": [
  {
   "cell_type": "markdown",
   "id": "7daea50c",
   "metadata": {},
   "source": [
    "# Python Inheritance\n",
    "- Inheritance allows us to define a class that inherits all the methods and properties from another class.\n",
    "    - __Parent class__ is the class being inherited from, also called base class.\n",
    "    - __Child class__ is the class that inherits from another class, also called derived class."
   ]
  },
  {
   "cell_type": "markdown",
   "id": "ce5565b1",
   "metadata": {},
   "source": [
    "## Types of Inheritence\n",
    "- 1. __Single Inheritance:__  A child class inherits from a single parent class.\n",
    "- 2. __Multiple Inheritance:__ A child class inherits from more than one parent class.\n",
    "- 3. __Multilevel Inheritance:__ A child class inherits from a parent class, which in turn inherits from another class.\n",
    "- 4. __Hierarchical Inheritance:__ Multiple child classes inherit from a single parent class.\n",
    "- 5. __Hybrid Inheritance:__ A combination of two or more types of inheritance."
   ]
  },
  {
   "cell_type": "markdown",
   "id": "9e79992b",
   "metadata": {},
   "source": [
    "### 1. Single Inheritence\n",
    "A child class inherits from a single parent class."
   ]
  },
  {
   "cell_type": "code",
   "execution_count": 1,
   "id": "e04a6ff1",
   "metadata": {},
   "outputs": [
    {
     "name": "stdout",
     "output_type": "stream",
     "text": [
      "Dog's Name: Buddy\n",
      "Labrador woofs\n"
     ]
    }
   ],
   "source": [
    "# Single Inheritance\n",
    "class Dog:\n",
    "    def __init__(self, name):\n",
    "        self.name = name\n",
    "\n",
    "    def display_name(self):\n",
    "        print(f\"Dog's Name: {self.name}\")\n",
    "\n",
    "\n",
    "class Labrador(Dog):  # Single Inheritance\n",
    "    def sound(self):\n",
    "        print(\"Labrador woofs\")\n",
    "\n",
    "\n",
    "# Example Usage\n",
    "lab = Labrador(\"Buddy\")\n",
    "lab.display_name()\n",
    "lab.sound()"
   ]
  },
  {
   "cell_type": "code",
   "execution_count": 3,
   "id": "0e988b36",
   "metadata": {},
   "outputs": [
    {
     "name": "stdout",
     "output_type": "stream",
     "text": [
      "Person's Name: Harsh dev\n",
      "Student's ID: 810\n"
     ]
    }
   ],
   "source": [
    "class Person:\n",
    "    def __init__(self, fname, lname):\n",
    "        self.fname = fname\n",
    "        self.lname = lname\n",
    "\n",
    "    def display_name(self):\n",
    "        print(f\"Person's Name: {self.fname} {self.lname}\")\n",
    "\n",
    "\n",
    "class Student(Person):\n",
    "    def __init__(self, fname, lname, student_id):\n",
    "        super().__init__(fname, lname)\n",
    "        self.student_id = student_id\n",
    "\n",
    "    def display_id(self):\n",
    "        print(f\"Student's ID: {self.student_id}\")\n",
    "\n",
    "\n",
    "student1 = Student(\"Harsh\", \"dev\", \"810\")\n",
    "student1.display_name()\n",
    "student1.display_id()"
   ]
  },
  {
   "cell_type": "markdown",
   "id": "9a2ade07",
   "metadata": {},
   "source": [
    "### 2. Multiple Inheritance\n",
    "A child class inherits from more than one parent class."
   ]
  },
  {
   "cell_type": "code",
   "execution_count": null,
   "id": "dc91da1a",
   "metadata": {},
   "outputs": [
    {
     "name": "stdout",
     "output_type": "stream",
     "text": [
      "Child: Sports, Programming\n",
      "Father: Gardening, Teaching\n",
      "Mother: Art, Dancing\n"
     ]
    }
   ],
   "source": [
    "# Multiple Inheritance Example\n",
    "\n",
    "class Father:\n",
    "    def skills(self):\n",
    "        print(\"Father: Gardening, Teaching\")\n",
    "\n",
    "\n",
    "class Mother:\n",
    "    def skills(self):\n",
    "        print(\"Mother: Art, Dancing\")\n",
    "\n",
    "\n",
    "class Child(Father, Mother):\n",
    "    def skills(self):\n",
    "        print(\"Child: Sports, Programming\")\n",
    "        Father.skills(self)\n",
    "        Mother.skills(self)\n",
    "\n",
    "\n",
    "# Example Usage\n",
    "child = Child()\n",
    "child.skills()"
   ]
  },
  {
   "cell_type": "code",
   "execution_count": 5,
   "id": "27166387",
   "metadata": {},
   "outputs": [
    {
     "name": "stdout",
     "output_type": "stream",
     "text": [
      "Father: Gardening, Teaching\n",
      "Mother: Art, Dancing\n",
      "Child: Sports, Programming\n"
     ]
    }
   ],
   "source": [
    "# Multiple Inheritance Example\n",
    "\n",
    "\n",
    "class Father:\n",
    "    def father_skills(self):\n",
    "        print(\"Father: Gardening, Teaching\")\n",
    "\n",
    "\n",
    "class Mother:\n",
    "    def mother_skills(self):\n",
    "        print(\"Mother: Art, Dancing\")\n",
    "\n",
    "\n",
    "class Child(Father, Mother):\n",
    "    def child_skills(self):\n",
    "        print(\"Child: Sports, Programming\")\n",
    "\n",
    "\n",
    "# Example Usage\n",
    "child = Child()\n",
    "child.father_skills()\n",
    "child.mother_skills()\n",
    "child.child_skills()"
   ]
  },
  {
   "cell_type": "code",
   "execution_count": 6,
   "id": "5d65d860",
   "metadata": {},
   "outputs": [
    {
     "name": "stdout",
     "output_type": "stream",
     "text": [
      "Father's Name: Rabindra\n",
      "Mother's Name: Chhoti\n",
      "Child's Name: Harsh  Father: Rabindra  Mother: Chhoti\n"
     ]
    }
   ],
   "source": [
    "# Multiple Inheritance Example\n",
    "\n",
    "\n",
    "class Father:\n",
    "    def __init__(self, father_name):\n",
    "        self.father_name = father_name\n",
    "\n",
    "    def father_intro(self):\n",
    "        print(\"Father's Name:\", self.father_name)\n",
    "\n",
    "\n",
    "class Mother:\n",
    "    def __init__(self, mother_name):\n",
    "        self.mother_name = mother_name\n",
    "\n",
    "    def mother_intro(self):\n",
    "        print(\"Mother's Name:\", self.mother_name)\n",
    "\n",
    "\n",
    "class Child(Father, Mother):\n",
    "    def __init__(self, father_name, mother_name, child_name):\n",
    "        Father.__init__(self, father_name)\n",
    "        Mother.__init__(self, mother_name)\n",
    "        self.child_name = child_name\n",
    "\n",
    "    def child_intro(self):\n",
    "        print(\n",
    "            \"Child's Name:\",\n",
    "            self.child_name,\n",
    "            \" Father:\",\n",
    "            self.father_name,\n",
    "            \" Mother:\",\n",
    "            self.mother_name,\n",
    "        )\n",
    "\n",
    "\n",
    "# Example Usage\n",
    "child = Child(\"Rabindra\", \"Chhoti\", \"Harsh\")\n",
    "\n",
    "child.father_intro()\n",
    "child.mother_intro()\n",
    "child.child_intro()"
   ]
  },
  {
   "cell_type": "markdown",
   "id": "28a23f7f",
   "metadata": {},
   "source": [
    "### 3. Multilevel Inheritance\n",
    "A child class inherits from a parent class, which in turn inherits from another class."
   ]
  },
  {
   "cell_type": "code",
   "execution_count": 7,
   "id": "91450dc0",
   "metadata": {},
   "outputs": [
    {
     "name": "stdout",
     "output_type": "stream",
     "text": [
      "Animal eats\n",
      "Mammal walks\n",
      "Dog barks\n"
     ]
    }
   ],
   "source": [
    "# Multilevel Inheritance Example\n",
    "\n",
    "\n",
    "class Animal:\n",
    "    def eat(self):\n",
    "        print(\"Animal eats\")\n",
    "\n",
    "\n",
    "class Mammal(Animal):\n",
    "    def walk(self):\n",
    "        print(\"Mammal walks\")\n",
    "\n",
    "\n",
    "class Dog(Mammal):\n",
    "    def bark(self):\n",
    "        print(\"Dog barks\")\n",
    "\n",
    "\n",
    "# Example Usage\n",
    "dog = Dog()\n",
    "dog.eat()\n",
    "dog.walk()\n",
    "dog.bark()"
   ]
  },
  {
   "cell_type": "code",
   "execution_count": 8,
   "id": "627bc78a",
   "metadata": {},
   "outputs": [
    {
     "name": "stdout",
     "output_type": "stream",
     "text": [
      "Vehicle constructor called. Brand: Tesla\n",
      "Car constructor called. Model: Model S\n",
      "ElectricCar constructor called. Battery Capacity: 100 kWh\n"
     ]
    }
   ],
   "source": [
    "# Multilevel Inheritance Example with Constructors\n",
    "\n",
    "class Vehicle:\n",
    "    def __init__(self, brand):\n",
    "        self.brand = brand\n",
    "        print(f\"Vehicle constructor called. Brand: {self.brand}\")\n",
    "\n",
    "class Car(Vehicle):\n",
    "    def __init__(self, brand, model):\n",
    "        super().__init__(brand)\n",
    "        self.model = model\n",
    "        print(f\"Car constructor called. Model: {self.model}\")\n",
    "\n",
    "class ElectricCar(Car):\n",
    "    def __init__(self, brand, model, battery_capacity):\n",
    "        super().__init__(brand, model)\n",
    "        self.battery_capacity = battery_capacity\n",
    "        print(f\"ElectricCar constructor called. Battery Capacity: {self.battery_capacity} kWh\")\n",
    "\n",
    "# Example Usage\n",
    "tesla = ElectricCar(\"Tesla\", \"Model S\", 100)"
   ]
  },
  {
   "cell_type": "markdown",
   "id": "ed6d3568",
   "metadata": {},
   "source": [
    "### 4. Hierarchical Inheritance\n",
    "Multiple child classes inherit from a single parent class."
   ]
  },
  {
   "cell_type": "code",
   "execution_count": 9,
   "id": "1c963af5",
   "metadata": {},
   "outputs": [
    {
     "name": "stdout",
     "output_type": "stream",
     "text": [
      "Animal speaks\n",
      "Dog barks\n",
      "Animal speaks\n",
      "Cat meows\n"
     ]
    }
   ],
   "source": [
    "# Hierarchical Inheritance Example\n",
    "\n",
    "class Animal:\n",
    "    def speak(self):\n",
    "        print(\"Animal speaks\")\n",
    "\n",
    "class Dog(Animal):\n",
    "    def bark(self):\n",
    "        print(\"Dog barks\")\n",
    "\n",
    "class Cat(Animal):\n",
    "    def meow(self):\n",
    "        print(\"Cat meows\")\n",
    "\n",
    "# Example Usage\n",
    "dog1 = Dog()\n",
    "cat1 = Cat()\n",
    "\n",
    "dog1.speak()\n",
    "dog1.bark()\n",
    "\n",
    "cat1.speak()\n",
    "cat1.meow()"
   ]
  },
  {
   "cell_type": "markdown",
   "id": "66afc0df",
   "metadata": {},
   "source": [
    "### 5. Hybrid Inheritance\n",
    "A combination of two or more types of inheritance."
   ]
  },
  {
   "cell_type": "code",
   "execution_count": null,
   "id": "83d909c4",
   "metadata": {},
   "outputs": [],
   "source": [
    "# Hybrid Inheritance Example\n",
    "\n",
    "class School:\n",
    "    def school_info(self):\n",
    "        print(\"This is ABC School.\")\n",
    "\n",
    "class Sports:\n",
    "    def sports_info(self):\n",
    "        print(\"Participates in sports.\")\n",
    "\n",
    "class Student(School):\n",
    "    def student_info(self):\n",
    "        print(\"This is a student.\")\n",
    "\n",
    "class Athlete(Student, Sports):\n",
    "    def athlete_info(self):\n",
    "        print(\"This student is also an athlete.\")\n",
    "\n",
    "# Example Usage\n",
    "athlete = Athlete()\n",
    "athlete.school_info()\n",
    "athlete.student_info()\n",
    "athlete.sports_info()\n",
    "athlete.athlete_info()"
   ]
  }
 ],
 "metadata": {
  "kernelspec": {
   "display_name": "Python 3",
   "language": "python",
   "name": "python3"
  },
  "language_info": {
   "codemirror_mode": {
    "name": "ipython",
    "version": 3
   },
   "file_extension": ".py",
   "mimetype": "text/x-python",
   "name": "python",
   "nbconvert_exporter": "python",
   "pygments_lexer": "ipython3",
   "version": "3.12.0"
  }
 },
 "nbformat": 4,
 "nbformat_minor": 5
}
