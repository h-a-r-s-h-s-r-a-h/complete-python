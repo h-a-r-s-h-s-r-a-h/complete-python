{
 "cells": [
  {
   "cell_type": "markdown",
   "id": "acabfce1",
   "metadata": {},
   "source": [
    "# Python Polymorphism\n",
    "Polymorphism allows methods to have the same name but behave differently based on the object's context. It can be achieved through method overriding or overloading."
   ]
  },
  {
   "cell_type": "markdown",
   "id": "a80890df",
   "metadata": {},
   "source": [
    "### Types of Polymorphism\n",
    "- 1. __Compile-Time Polymorphism:__  This type of polymorphism is determined during the compilation of the program. It allows methods or operators with the same name to behave differently based on their input parameters or usage. It is commonly referred to as method or operator overloading.\n",
    "- 2. __Run-Time Polymorphism:__ This type of polymorphism is determined during the execution of the program. It occurs when a subclass provides a specific implementation for a method already defined in its parent class, commonly known as method overriding."
   ]
  },
  {
   "cell_type": "code",
   "execution_count": null,
   "id": "a108a703",
   "metadata": {},
   "outputs": [
    {
     "name": "stdout",
     "output_type": "stream",
     "text": [
      "15\n",
      "6\n",
      "7\n"
     ]
    }
   ],
   "source": [
    "# Example of Compile-Time Polymorphism (Method Overloading) using default arguments\n",
    "# Compile-Time Polymorphism: Method Overloading Mimic\n",
    "\n",
    "class Calculator:\n",
    "    def add(self, a, b=0, c=0):\n",
    "        return a + b + c\n",
    "\n",
    "\n",
    "calc = Calculator()\n",
    "print(calc.add(5, 10))  # Output: 15\n",
    "print(calc.add(1, 2, 3))  # Output: 6\n",
    "print(calc.add(7))  # Output: 7"
   ]
  },
  {
   "cell_type": "code",
   "execution_count": 2,
   "id": "a7339ccf",
   "metadata": {},
   "outputs": [
    {
     "name": "stdout",
     "output_type": "stream",
     "text": [
      "Dog barks\n",
      "Cat meows\n",
      "Animal speaks\n"
     ]
    }
   ],
   "source": [
    "# Example of Run-Time Polymorphism (Method Overriding)\n",
    "# Run-Time Polymorphism: Method Overriding\n",
    "\n",
    "\n",
    "class Animal:\n",
    "    def speak(self):\n",
    "        print(\"Animal speaks\")\n",
    "\n",
    "\n",
    "class Dog(Animal):\n",
    "    def speak(self):\n",
    "        print(\"Dog barks\")\n",
    "\n",
    "\n",
    "class Cat(Animal):\n",
    "    def speak(self):\n",
    "        print(\"Cat meows\")\n",
    "\n",
    "\n",
    "animals = [Dog(), Cat(), Animal()]\n",
    "for animal in animals:\n",
    "    animal.speak()"
   ]
  }
 ],
 "metadata": {
  "kernelspec": {
   "display_name": "Python 3",
   "language": "python",
   "name": "python3"
  },
  "language_info": {
   "codemirror_mode": {
    "name": "ipython",
    "version": 3
   },
   "file_extension": ".py",
   "mimetype": "text/x-python",
   "name": "python",
   "nbconvert_exporter": "python",
   "pygments_lexer": "ipython3",
   "version": "3.12.0"
  }
 },
 "nbformat": 4,
 "nbformat_minor": 5
}
