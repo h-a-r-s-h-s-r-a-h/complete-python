{
 "cells": [
  {
   "cell_type": "markdown",
   "id": "97cac165",
   "metadata": {},
   "source": [
    "# Python Encapsulation\n",
    "Encapsulation is the bundling of data (attributes) and methods (functions) within a class, restricting access to some components to control interactions.\n",
    "\n",
    "A class is an example of encapsulation as it encapsulates all the data that is member functions, variables, etc."
   ]
  },
  {
   "cell_type": "markdown",
   "id": "60f9c15a",
   "metadata": {},
   "source": [
    "## Types of Encapsulation:\n",
    "\n",
    "- 1. **Public Members:** Accessible from anywhere.\n",
    "- 2. **Protected Members:** Accessible within the class and its subclasses.\n",
    "- 3. **Private Members:** Accessible only within the class.\n"
   ]
  },
  {
   "cell_type": "code",
   "execution_count": 4,
   "id": "f1bd1b35",
   "metadata": {},
   "outputs": [
    {
     "name": "stdout",
     "output_type": "stream",
     "text": [
      "Alice\n",
      "20\n"
     ]
    }
   ],
   "source": [
    "# Example of Public Member in Encapsulation\n",
    "\n",
    "\n",
    "class Student:\n",
    "    def __init__(self, name, age):\n",
    "        self.name = name  # public member\n",
    "        self.age = age  # public member\n",
    "\n",
    "\n",
    "student1 = Student(\"Alice\", 20)\n",
    "print(student1.name)  # Accessible from outside the class\n",
    "print(student1.age)  # Accessible from outside the class"
   ]
  },
  {
   "cell_type": "code",
   "execution_count": 5,
   "id": "b3b478c7",
   "metadata": {},
   "outputs": [
    {
     "name": "stdout",
     "output_type": "stream",
     "text": [
      "Mr. Smith\n",
      "Mathematics\n"
     ]
    }
   ],
   "source": [
    "# Example of Protected Member in Encapsulation\n",
    "\n",
    "\n",
    "class Teacher:\n",
    "    def __init__(self, name, subject):\n",
    "        self._name = name  # protected member\n",
    "        self._subject = subject  # protected member\n",
    "\n",
    "\n",
    "teacher1 = Teacher(\"Mr. Smith\", \"Mathematics\")\n",
    "print(teacher1._name)  # Accessible, but should be treated as protected\n",
    "print(teacher1._subject)  # Accessible, but should be treated as protected"
   ]
  },
  {
   "cell_type": "code",
   "execution_count": 6,
   "id": "f4070908",
   "metadata": {},
   "outputs": [
    {
     "name": "stdout",
     "output_type": "stream",
     "text": [
      "Name: Dr. Brown, Salary: 90000\n"
     ]
    }
   ],
   "source": [
    "# Example of Private Member in Encapsulation\n",
    "\n",
    "class Principal:\n",
    "    def __init__(self, name, salary):\n",
    "        self.__name = name      # private member\n",
    "        self.__salary = salary  # private member\n",
    "\n",
    "    def get_details(self):\n",
    "        return f\"Name: {self.__name}, Salary: {self.__salary}\"\n",
    "\n",
    "principal1 = Principal(\"Dr. Brown\", 90000)\n",
    "print(principal1.get_details())  # Accessing private members via a public method\n",
    "\n",
    "# Trying to access private members directly will result in an AttributeError\n",
    "# print(principal1.__name)  # Uncommenting this line will raise an error"
   ]
  }
 ],
 "metadata": {
  "kernelspec": {
   "display_name": "Python 3",
   "language": "python",
   "name": "python3"
  },
  "language_info": {
   "codemirror_mode": {
    "name": "ipython",
    "version": 3
   },
   "file_extension": ".py",
   "mimetype": "text/x-python",
   "name": "python",
   "nbconvert_exporter": "python",
   "pygments_lexer": "ipython3",
   "version": "3.12.0"
  }
 },
 "nbformat": 4,
 "nbformat_minor": 5
}
