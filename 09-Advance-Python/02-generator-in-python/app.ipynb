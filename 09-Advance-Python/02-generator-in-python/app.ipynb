{
 "cells": [
  {
   "cell_type": "markdown",
   "id": "162f2caf",
   "metadata": {},
   "source": [
    "# Generators in Python\n",
    "Python generator functions are a powerful tool for creating iterators."
   ]
  },
  {
   "cell_type": "code",
   "execution_count": 1,
   "id": "6074f669",
   "metadata": {},
   "outputs": [
    {
     "name": "stdout",
     "output_type": "stream",
     "text": [
      "1\n",
      "2\n",
      "3\n",
      "4\n",
      "5\n"
     ]
    }
   ],
   "source": [
    "# Basic Code Example:\n",
    "\n",
    "def fun(max):\n",
    "    cnt = 1\n",
    "    while cnt <= max:\n",
    "        yield cnt\n",
    "        cnt += 1\n",
    "\n",
    "\n",
    "ctr = fun(5)\n",
    "for n in ctr:\n",
    "    print(n)"
   ]
  }
 ],
 "metadata": {
  "kernelspec": {
   "display_name": "Python 3",
   "language": "python",
   "name": "python3"
  },
  "language_info": {
   "codemirror_mode": {
    "name": "ipython",
    "version": 3
   },
   "file_extension": ".py",
   "mimetype": "text/x-python",
   "name": "python",
   "nbconvert_exporter": "python",
   "pygments_lexer": "ipython3",
   "version": "3.12.0"
  }
 },
 "nbformat": 4,
 "nbformat_minor": 5
}
