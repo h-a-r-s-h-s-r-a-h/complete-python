{
 "cells": [
  {
   "cell_type": "code",
   "execution_count": 3,
   "id": "47caf58e",
   "metadata": {},
   "outputs": [],
   "source": [
    "from packages.maths import addition, subtraction, multiplication, division"
   ]
  },
  {
   "cell_type": "code",
   "execution_count": 6,
   "id": "346014d5",
   "metadata": {},
   "outputs": [
    {
     "name": "stdout",
     "output_type": "stream",
     "text": [
      "8\n",
      "2\n",
      "15\n",
      "1.6666666666666667\n"
     ]
    }
   ],
   "source": [
    "print(addition(5, 3))        # Output: 8\n",
    "print(subtraction(5, 3))   # Output: 2\n",
    "print(multiplication(5, 3))   # Output: 15\n",
    "print(division(5, 3))     # Output: 1.666666666"
   ]
  },
  {
   "cell_type": "code",
   "execution_count": 11,
   "id": "a65c1687",
   "metadata": {},
   "outputs": [
    {
     "name": "stdout",
     "output_type": "stream",
     "text": [
      "8\n"
     ]
    }
   ],
   "source": [
    "from packages import maths\n",
    "\n",
    "print(maths.addition(5, 3))  # Output: 8"
   ]
  }
 ],
 "metadata": {
  "kernelspec": {
   "display_name": "Python 3",
   "language": "python",
   "name": "python3"
  },
  "language_info": {
   "codemirror_mode": {
    "name": "ipython",
    "version": 3
   },
   "file_extension": ".py",
   "mimetype": "text/x-python",
   "name": "python",
   "nbconvert_exporter": "python",
   "pygments_lexer": "ipython3",
   "version": "3.12.0"
  }
 },
 "nbformat": 4,
 "nbformat_minor": 5
}
