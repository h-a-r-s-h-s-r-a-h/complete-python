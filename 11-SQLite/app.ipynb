{
 "cells": [
  {
   "cell_type": "markdown",
   "id": "daa84b48",
   "metadata": {},
   "source": [
    "# SQLite in Python\n",
    "\n",
    "SQLite is a lightweight, fast and embedded SQL database engine. SQLite is perfect for small to medium-sized applications, prototyping, embedded systems and local data storage in Python applications because it doesn't require a separate server process like other relational database management systems (RDBMS) like MySQL or PostgreSQL.\n"
   ]
  },
  {
   "cell_type": "markdown",
   "id": "fd26a62c",
   "metadata": {},
   "source": [
    "SQLite does not require a server to run. SQLite database read and write directly from the database files stored on disk and applications interact with that SQLite database. It is one of SQLite's biggest advantages is that it is serverless. Here's what that means:\n",
    "\n",
    "- There is no separate server process to manage. The SQLite engine is embedded directly into the application.\n",
    "- All you need is the SQLite database file, your program can read from and write to it without connecting to a remote service.\n",
    "- This reduces overhead, setup complexity and dependencies, making SQLite perfect for desktop apps, mobile apps, IoT devices or lightweight data-driven Python scripts."
   ]
  },
  {
   "cell_type": "markdown",
   "id": "5751f0b8",
   "metadata": {},
   "source": [
    "## Self-Contained\n",
    "\n",
    "SQLite is self-contained, here's what it means:\n",
    "\n",
    "- It has no external dependencies. Everything it needs is included in a single library.\n",
    "- The entire database (schema + data) is stored in a single .sqlite or .db file.\n",
    "- This file can be copied, backed up, shared or moved like any other document.\n",
    "\n",
    "Key benefits of being Self-Contained:\n",
    "\n",
    "- Portability: Move the database file across machines or platforms without worrying about data loss or corruption.\n",
    "- Integration: Easily bundle SQLite databases within applications, especially Python packages or tools.\n"
   ]
  },
  {
   "cell_type": "markdown",
   "id": "1eede8d6",
   "metadata": {},
   "source": [
    "## Zero-Configuration\n",
    "\n",
    "Unlike other databases, SQLite requires zero setup:\n",
    "\n",
    "- No configuration files or startup services are needed.\n",
    "- You can start using SQLite as soon as you import the sqlite3 module in Python.\n",
    "- We can simply connect to a database file and if it doesn’t exist, SQLite automatically creates it.\n"
   ]
  },
  {
   "cell_type": "markdown",
   "id": "4d60ac1c",
   "metadata": {},
   "source": [
    "## Transactional\n",
    "\n",
    "SQLite supports full ACID (Atomicity, Consistency, Isolation, Durability) transactions:\n",
    "\n",
    "- Every operation in SQLite is atomic, i.e changes are either fully applied or not applied at all.\n",
    "- By default, SQLite wraps commands like INSERT, UPDATE and DELETE inside implicit transactions, ensuring data integrity.\n"
   ]
  },
  {
   "cell_type": "markdown",
   "id": "d9357f05",
   "metadata": {},
   "source": [
    "## Single-Database\n",
    "\n",
    "SQLite uses a single-file database architecture, meaning:\n",
    "\n",
    "- The entire database, i.e. tables, indexes, triggers and data, lives in a single file only.\n",
    "- This simplifies database management, as there's no need to manage multiple configuration or log files.\n",
    "- The file can be used across different platforms, tools and programming languages.\n",
    "\n",
    "Benefits of Single-File Storage:\n",
    "\n",
    "- Easy to deploy and backup.\n",
    "- Makes testing and debugging easier.\n",
    "- Supports concurrent read operations (though writes are serialized).\n"
   ]
  },
  {
   "cell_type": "markdown",
   "id": "9b74feba",
   "metadata": {},
   "source": [
    "    import sqlite3: imports Python’s built-in SQLite module, which allows interaction with SQLite databases."
   ]
  },
  {
   "cell_type": "code",
   "execution_count": 34,
   "id": "036846fd",
   "metadata": {},
   "outputs": [],
   "source": [
    "import sqlite3"
   ]
  },
  {
   "cell_type": "code",
   "execution_count": 35,
   "id": "b6b04d00",
   "metadata": {},
   "outputs": [
    {
     "data": {
      "text/plain": [
       "<sqlite3.Connection at 0x1d2f55a5990>"
      ]
     },
     "execution_count": 35,
     "metadata": {},
     "output_type": "execute_result"
    }
   ],
   "source": [
    "# Connect to the SQLite database\n",
    "connection = sqlite3.connect('employees.db')\n",
    "connection"
   ]
  },
  {
   "cell_type": "code",
   "execution_count": 36,
   "id": "3e77790c",
   "metadata": {},
   "outputs": [],
   "source": [
    "cursor = connection.cursor()"
   ]
  },
  {
   "cell_type": "code",
   "execution_count": 37,
   "id": "ae3ec89b",
   "metadata": {},
   "outputs": [],
   "source": [
    "# Create a table\n",
    "cursor.execute(\n",
    "    \"\"\"\n",
    "    Create Table If Not Exists employees(\n",
    "        id INTEGER PRIMARY KEY AUTOINCREMENT,\n",
    "        name TEXT NOT NULL,\n",
    "        age INTEGER,\n",
    "        department TEXT\n",
    "    )\n",
    "\"\"\"\n",
    ")\n",
    "\n",
    "## Commit the changes\n",
    "connection.commit()"
   ]
  },
  {
   "cell_type": "code",
   "execution_count": 38,
   "id": "7d968e40",
   "metadata": {},
   "outputs": [
    {
     "data": {
      "text/plain": [
       "<sqlite3.Cursor at 0x1d2f5978440>"
      ]
     },
     "execution_count": 38,
     "metadata": {},
     "output_type": "execute_result"
    }
   ],
   "source": [
    "cursor.execute(\"\"\"Select * from employees\"\"\")"
   ]
  },
  {
   "cell_type": "code",
   "execution_count": 39,
   "id": "557a2d6d",
   "metadata": {},
   "outputs": [],
   "source": [
    "# Insert data into the table\n",
    "cursor.execute(\n",
    "    \"\"\"\n",
    "    Insert Into employees(name, age, department)\n",
    "    Values('Harsh', 20, 'BlockChain Development')\n",
    "\"\"\"\n",
    ")\n",
    "\n",
    "# Commit the changes\n",
    "connection.commit()"
   ]
  },
  {
   "cell_type": "code",
   "execution_count": 40,
   "id": "43d43822",
   "metadata": {},
   "outputs": [],
   "source": [
    "cursor.execute(\n",
    "    \"\"\"\n",
    "    Insert Into employees(name, age, department)\n",
    "    Values('Dev', 20, 'Ai/Ml Development'),\n",
    "        ('Palak', 15, 'Mathematics')\n",
    "\"\"\"\n",
    ")\n",
    "\n",
    "# Commit the changes\n",
    "connection.commit()"
   ]
  },
  {
   "cell_type": "code",
   "execution_count": 43,
   "id": "cf52dad2",
   "metadata": {},
   "outputs": [
    {
     "name": "stdout",
     "output_type": "stream",
     "text": [
      "(1, 'Harsh', 20, 'BlockChain Development')\n",
      "(2, 'Dev', 20, 'Ai/Ml Development')\n",
      "(3, 'Dev', 20, 'Ai/Ml Development')\n",
      "(4, 'Palak', 15, 'Mathematics')\n",
      "(5, 'Dev', 20, 'Ai/Ml Development')\n",
      "(6, 'Palak', 15, 'Mathematics')\n",
      "(7, 'Dev', 20, 'Ai/Ml Development')\n",
      "(8, 'Palak', 15, 'Mathematics')\n",
      "(9, 'Harsh', 20, 'BlockChain Development')\n",
      "(10, 'Dev', 20, 'Ai/Ml Development')\n",
      "(11, 'Palak', 15, 'Mathematics')\n"
     ]
    }
   ],
   "source": [
    "cursor.execute(\"\"\"Select * from employees\"\"\")\n",
    "rows = cursor.fetchall()\n",
    "\n",
    "# print the queried data\n",
    "for row in rows:\n",
    "    print(row)"
   ]
  },
  {
   "cell_type": "code",
   "execution_count": 44,
   "id": "48255bc8",
   "metadata": {},
   "outputs": [],
   "source": [
    "# Update data in the table\n",
    "cursor.execute(\n",
    "    \"\"\"\n",
    "    Update employees\n",
    "    Set age = 21\n",
    "    Where name = 'Harsh'\n",
    "\"\"\"\n",
    ")\n",
    "\n",
    "connection.commit()"
   ]
  },
  {
   "cell_type": "code",
   "execution_count": 45,
   "id": "eef64a5f",
   "metadata": {},
   "outputs": [
    {
     "name": "stdout",
     "output_type": "stream",
     "text": [
      "(1, 'Harsh', 21, 'BlockChain Development')\n",
      "(2, 'Dev', 20, 'Ai/Ml Development')\n",
      "(3, 'Dev', 20, 'Ai/Ml Development')\n",
      "(4, 'Palak', 15, 'Mathematics')\n",
      "(5, 'Dev', 20, 'Ai/Ml Development')\n",
      "(6, 'Palak', 15, 'Mathematics')\n",
      "(7, 'Dev', 20, 'Ai/Ml Development')\n",
      "(8, 'Palak', 15, 'Mathematics')\n",
      "(9, 'Harsh', 21, 'BlockChain Development')\n",
      "(10, 'Dev', 20, 'Ai/Ml Development')\n",
      "(11, 'Palak', 15, 'Mathematics')\n"
     ]
    }
   ],
   "source": [
    "cursor.execute(\"\"\"Select * from employees\"\"\")\n",
    "rows = cursor.fetchall()\n",
    "\n",
    "# print the queried data\n",
    "for row in rows:\n",
    "    print(row)"
   ]
  },
  {
   "cell_type": "code",
   "execution_count": 46,
   "id": "dcfb40aa",
   "metadata": {},
   "outputs": [],
   "source": [
    "# Delete data from the table\n",
    "cursor.execute(\n",
    "    \"\"\"\n",
    "    Delete From employees\n",
    "    Where id >= 3\n",
    "\"\"\"\n",
    ")\n",
    "\n",
    "# Commit the changes\n",
    "connection.commit()"
   ]
  },
  {
   "cell_type": "code",
   "execution_count": 47,
   "id": "2815ab8e",
   "metadata": {},
   "outputs": [
    {
     "name": "stdout",
     "output_type": "stream",
     "text": [
      "(1, 'Harsh', 21, 'BlockChain Development')\n",
      "(2, 'Dev', 20, 'Ai/Ml Development')\n"
     ]
    }
   ],
   "source": [
    "cursor.execute(\"\"\"Select * from employees\"\"\")\n",
    "rows = cursor.fetchall()\n",
    "\n",
    "# print the queried data\n",
    "for row in rows:\n",
    "    print(row)"
   ]
  },
  {
   "cell_type": "code",
   "execution_count": 48,
   "id": "f6c7f9dd",
   "metadata": {},
   "outputs": [],
   "source": [
    "# Insert Bulk data into the table\n",
    "data = [\n",
    "    (\"Dev\", 20, \"Ai/Ml Development\"),\n",
    "    (\"Palak\", 15, \"Mathematics\"),\n",
    "    (\"Harsh\", 20, \"BlockChain Development\"),\n",
    "    (\"Rohit\", 22, \"Web Development\"),\n",
    "    (\"Ankit\", 23, \"Data Science\"),\n",
    "    (\"Ravi\", 24, \"Cyber Security\"),\n",
    "    (\"Sita\", 21, \"Software Engineering\"),\n",
    "    (\"Gita\", 19, \"Cloud Computing\"),\n",
    "    (\"Rahul\", 25, \"Game Development\"),\n",
    "    (\"Priya\", 18, \"Mobile App Development\"),\n",
    "]\n",
    "\n",
    "cursor.executemany(\n",
    "    \"Insert Into employees(name, age, department) Values (?, ?, ?)\", data\n",
    ")\n",
    "\n",
    "connection.commit()"
   ]
  },
  {
   "cell_type": "code",
   "execution_count": 49,
   "id": "69385b66",
   "metadata": {},
   "outputs": [
    {
     "name": "stdout",
     "output_type": "stream",
     "text": [
      "(1, 'Harsh', 21, 'BlockChain Development')\n",
      "(2, 'Dev', 20, 'Ai/Ml Development')\n",
      "(12, 'Dev', 20, 'Ai/Ml Development')\n",
      "(13, 'Palak', 15, 'Mathematics')\n",
      "(14, 'Harsh', 20, 'BlockChain Development')\n",
      "(15, 'Rohit', 22, 'Web Development')\n",
      "(16, 'Ankit', 23, 'Data Science')\n",
      "(17, 'Ravi', 24, 'Cyber Security')\n",
      "(18, 'Sita', 21, 'Software Engineering')\n",
      "(19, 'Gita', 19, 'Cloud Computing')\n",
      "(20, 'Rahul', 25, 'Game Development')\n",
      "(21, 'Priya', 18, 'Mobile App Development')\n"
     ]
    }
   ],
   "source": [
    "cursor.execute(\"\"\"Select * from employees\"\"\")\n",
    "rows = cursor.fetchall()\n",
    "\n",
    "# print the queried data\n",
    "for row in rows:\n",
    "    print(row)"
   ]
  },
  {
   "cell_type": "code",
   "execution_count": 50,
   "id": "81a40c8e",
   "metadata": {},
   "outputs": [],
   "source": [
    "# close the connection\n",
    "connection.close()"
   ]
  }
 ],
 "metadata": {
  "kernelspec": {
   "display_name": "Python 3",
   "language": "python",
   "name": "python3"
  },
  "language_info": {
   "codemirror_mode": {
    "name": "ipython",
    "version": 3
   },
   "file_extension": ".py",
   "mimetype": "text/x-python",
   "name": "python",
   "nbconvert_exporter": "python",
   "pygments_lexer": "ipython3",
   "version": "3.12.0"
  }
 },
 "nbformat": 4,
 "nbformat_minor": 5
}
