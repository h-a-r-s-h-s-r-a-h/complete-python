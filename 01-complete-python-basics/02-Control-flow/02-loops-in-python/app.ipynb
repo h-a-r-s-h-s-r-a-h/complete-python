{
 "cells": [
  {
   "cell_type": "markdown",
   "id": "604cf13b",
   "metadata": {},
   "source": [
    "## Loops in Python"
   ]
  },
  {
   "cell_type": "markdown",
   "id": "2e485968",
   "metadata": {},
   "source": [
    "# 1. While Loop"
   ]
  },
  {
   "cell_type": "code",
   "execution_count": 3,
   "id": "05d3feda",
   "metadata": {},
   "outputs": [
    {
     "name": "stdout",
     "output_type": "stream",
     "text": [
      "Count is: 0\n",
      "Count is: 1\n",
      "Count is: 2\n",
      "Count is: 3\n",
      "Count is: 4\n"
     ]
    }
   ],
   "source": [
    "# Example of a while loop in Python\n",
    "count = 0\n",
    "while count < 5:\n",
    "    print(\"Count is:\", count)\n",
    "    count += 1"
   ]
  },
  {
   "cell_type": "markdown",
   "id": "b1f89bf8",
   "metadata": {},
   "source": [
    "# 2. For Loop"
   ]
  },
  {
   "cell_type": "code",
   "execution_count": 4,
   "id": "746d5683",
   "metadata": {},
   "outputs": [
    {
     "name": "stdout",
     "output_type": "stream",
     "text": [
      "Iteration: 0\n",
      "Iteration: 1\n",
      "Iteration: 2\n",
      "Iteration: 3\n",
      "Iteration: 4\n"
     ]
    }
   ],
   "source": [
    "# Example of a for loop in Python\n",
    "for i in range(5):\n",
    "    print(\"Iteration:\", i)"
   ]
  },
  {
   "cell_type": "code",
   "execution_count": 5,
   "id": "a7fd0fb2",
   "metadata": {},
   "outputs": [
    {
     "name": "stdout",
     "output_type": "stream",
     "text": [
      "Iteration: 1\n",
      "Iteration: 2\n",
      "Iteration: 3\n",
      "Iteration: 4\n"
     ]
    }
   ],
   "source": [
    "for i in range(1, 5):\n",
    "    print(\"Iteration:\", i)"
   ]
  },
  {
   "cell_type": "code",
   "execution_count": 6,
   "id": "a327805c",
   "metadata": {},
   "outputs": [
    {
     "name": "stdout",
     "output_type": "stream",
     "text": [
      "Iteration: 1\n",
      "Iteration: 3\n",
      "Iteration: 5\n",
      "Iteration: 7\n",
      "Iteration: 9\n"
     ]
    }
   ],
   "source": [
    "for i in range(1, 10, 2):\n",
    "    print(\"Iteration:\", i)"
   ]
  },
  {
   "cell_type": "code",
   "execution_count": 7,
   "id": "dc1211c5",
   "metadata": {},
   "outputs": [
    {
     "name": "stdout",
     "output_type": "stream",
     "text": [
      "Reverse Iteration: 4\n",
      "Reverse Iteration: 3\n",
      "Reverse Iteration: 2\n",
      "Reverse Iteration: 1\n"
     ]
    }
   ],
   "source": [
    "for i in range(4, 0, -1):\n",
    "    print(\"Reverse Iteration:\", i)"
   ]
  },
  {
   "cell_type": "code",
   "execution_count": 8,
   "id": "25d37c4d",
   "metadata": {},
   "outputs": [
    {
     "name": "stdout",
     "output_type": "stream",
     "text": [
      "H\n",
      "a\n",
      "r\n",
      "s\n",
      "h\n",
      " \n",
      "D\n",
      "e\n",
      "v\n"
     ]
    }
   ],
   "source": [
    "name = \"Harsh Dev\"\n",
    "for i in range(len(name)):\n",
    "    print(name[i])"
   ]
  },
  {
   "cell_type": "markdown",
   "id": "b7b5a901",
   "metadata": {},
   "source": [
    "# 3. Loop control Statement"
   ]
  },
  {
   "cell_type": "code",
   "execution_count": 9,
   "id": "b35464a8",
   "metadata": {},
   "outputs": [
    {
     "name": "stdout",
     "output_type": "stream",
     "text": [
      "Current value of i: 0\n",
      "Current value of i: 1\n",
      "Current value of i: 2\n",
      "Current value of i: 3\n",
      "Current value of i: 4\n",
      "Breaking the loop at i = 5\n"
     ]
    }
   ],
   "source": [
    "# Example of using 'break' in a loop\n",
    "for i in range(10):\n",
    "    if i == 5:\n",
    "        print(\"Breaking the loop at i =\", i)\n",
    "        break\n",
    "    print(\"Current value of i:\", i)"
   ]
  },
  {
   "cell_type": "code",
   "execution_count": 10,
   "id": "98bdb3d8",
   "metadata": {},
   "outputs": [
    {
     "name": "stdout",
     "output_type": "stream",
     "text": [
      "Current value of i: 0\n",
      "Current value of i: 1\n",
      "Current value of i: 2\n",
      "Current value of i: 3\n",
      "Current value of i: 4\n",
      "Current value of i: 6\n",
      "Current value of i: 7\n",
      "Current value of i: 8\n",
      "Current value of i: 9\n"
     ]
    }
   ],
   "source": [
    "# Example of using 'continue' in a loop\n",
    "for i in range(10):\n",
    "    if i == 5:\n",
    "        continue\n",
    "    print(\"Current value of i:\", i)"
   ]
  },
  {
   "cell_type": "code",
   "execution_count": 11,
   "id": "a67157df",
   "metadata": {},
   "outputs": [
    {
     "name": "stdout",
     "output_type": "stream",
     "text": [
      "Current value of i: 0\n",
      "Current value of i: 1\n",
      "Current value of i: 2\n",
      "Current value of i: 3\n",
      "Current value of i: 4\n"
     ]
    }
   ],
   "source": [
    "# Example of using 'pass' in a loop\n",
    "for i in range(5):\n",
    "    if i == 2:\n",
    "        pass  # No operation is performed when i == 2\n",
    "    print(\"Current value of i:\", i)"
   ]
  },
  {
   "cell_type": "markdown",
   "id": "bee1ed90",
   "metadata": {},
   "source": [
    "# 4.Nested Loop"
   ]
  },
  {
   "cell_type": "code",
   "execution_count": 12,
   "id": "568a959d",
   "metadata": {},
   "outputs": [
    {
     "name": "stdout",
     "output_type": "stream",
     "text": [
      "i = 1, j = 1\n",
      "i = 1, j = 2\n",
      "i = 1, j = 3\n",
      "i = 2, j = 1\n",
      "i = 2, j = 2\n",
      "i = 2, j = 3\n",
      "i = 3, j = 1\n",
      "i = 3, j = 2\n",
      "i = 3, j = 3\n"
     ]
    }
   ],
   "source": [
    "# Example of a nested loop in Python\n",
    "for i in range(1, 4):\n",
    "    for j in range(1, 4):\n",
    "        print(f\"i = {i}, j = {j}\")"
   ]
  }
 ],
 "metadata": {
  "kernelspec": {
   "display_name": "Python 3",
   "language": "python",
   "name": "python3"
  },
  "language_info": {
   "codemirror_mode": {
    "name": "ipython",
    "version": 3
   },
   "file_extension": ".py",
   "mimetype": "text/x-python",
   "name": "python",
   "nbconvert_exporter": "python",
   "pygments_lexer": "ipython3",
   "version": "3.12.0"
  }
 },
 "nbformat": 4,
 "nbformat_minor": 5
}
