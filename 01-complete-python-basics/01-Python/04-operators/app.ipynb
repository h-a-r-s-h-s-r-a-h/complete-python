{
 "cells": [
  {
   "cell_type": "markdown",
   "id": "8420571f",
   "metadata": {},
   "source": [
    "## Operators in python\n",
    "    -Operators in Python are special symbols or keywords that perform operations on operands (variables and values). They are used to manipulate data and variables in various ways."
   ]
  },
  {
   "cell_type": "markdown",
   "id": "66927be9",
   "metadata": {},
   "source": [
    "### Types of Operators in Python\n",
    "\n",
    "| Operator Type        | Description                                      |\n",
    "|----------------------|--------------------------------------------------|\n",
    "| Arithmetic Operators | Perform mathematical operations                  |\n",
    "| Comparison Operators | Compare values                                   |\n",
    "| Logical Operators    | Combine conditional statements                   |\n",
    "| Assignment Operators | Assign values to variables                       |\n",
    "| Bitwise Operators    | Perform bit-level operations                     |\n",
    "| Membership Operators | Test membership in a sequence (list, tuple, etc) |\n",
    "| Identity Operators   | Compare memory locations of two objects          |\n",
    "\n",
    "---\n",
    "\n",
    "### 1. Arithmetic Operators\n",
    "\n",
    "| Operator | Name           | Example   | Result      |\n",
    "|----------|----------------|-----------|-------------|\n",
    "| +        | Addition       | 2 + 3     | 5           |\n",
    "| -        | Subtraction    | 5 - 2     | 3           |\n",
    "| *        | Multiplication | 3 * 4     | 12          |\n",
    "| /        | Division       | 10 / 2    | 5.0         |\n",
    "| %        | Modulus        | 10 % 3    | 1           |\n",
    "| **       | Exponentiation | 2 ** 3    | 8           |\n",
    "| //       | Floor Division | 7 // 2    | 3           |\n",
    "\n",
    "---\n",
    "\n",
    "### 2. Comparison Operators\n",
    "\n",
    "| Operator | Name                | Example   | Result      |\n",
    "|----------|---------------------|-----------|-------------|\n",
    "| ==       | Equal to            | 5 == 5    | True        |\n",
    "| !=       | Not equal to        | 5 != 3    | True        |\n",
    "| >        | Greater than        | 7 > 2     | True        |\n",
    "| <        | Less than           | 3 < 1     | False       |\n",
    "| >=       | Greater or equal to | 5 >= 5    | True        |\n",
    "| <=       | Less or equal to    | 4 <= 3    | False       |\n",
    "\n",
    "---\n",
    "\n",
    "### 3. Logical Operators\n",
    "\n",
    "| Operator | Name    | Example           | Result      |\n",
    "|----------|---------|-------------------|-------------|\n",
    "| and      | AND     | True and False    | False       |\n",
    "| or       | OR      | True or False     | True        |\n",
    "| not      | NOT     | not True          | False       |\n",
    "\n",
    "---\n",
    "\n",
    "### 4. Assignment Operators\n",
    "\n",
    "| Operator | Example   | Equivalent to    |\n",
    "|----------|-----------|------------------|\n",
    "| =        | x = 5     | x = 5            |\n",
    "| +=       | x += 3    | x = x + 3        |\n",
    "| -=       | x -= 2    | x = x - 2        |\n",
    "| *=       | x *= 4    | x = x * 4        |\n",
    "| /=       | x /= 2    | x = x / 2        |\n",
    "| %=       | x %= 3    | x = x % 3        |\n",
    "| //=      | x //= 2   | x = x // 2       |\n",
    "| **=      | x **= 3   | x = x ** 3       |\n",
    "| &=       | x &= 2    | x = x & 2        |\n",
    "| \\|=      | x \\|= 2   | x = x \\| 2       |\n",
    "| ^=       | x ^= 2    | x = x ^ 2        |\n",
    "| >>=      | x >>= 2   | x = x >> 2       |\n",
    "| <<=      | x <<= 2   | x = x << 2       |\n",
    "\n",
    "---\n",
    "\n",
    "### 5. Bitwise Operators\n",
    "\n",
    "| Operator | Name        | Example   | Result      |\n",
    "|----------|-------------|-----------|-------------|\n",
    "| &        | AND         | 5 & 3     | 1           |\n",
    "| \\|       | OR          | 5 \\| 3    | 7           |\n",
    "| ^        | XOR         | 5 ^ 3     | 6           |\n",
    "| ~        | NOT         | ~5        | -6          |\n",
    "| <<       | Left Shift  | 5 << 1    | 10          |\n",
    "| >>       | Right Shift | 5 >> 1    | 2           |\n",
    "\n",
    "---\n",
    "\n",
    "### 6. Membership Operators\n",
    "\n",
    "| Operator | Description                  | Example         | Result      |\n",
    "|----------|------------------------------|-----------------|-------------|\n",
    "| in       | True if value in sequence    | 'a' in 'cat'    | True        |\n",
    "| not in   | True if value not in sequence| 5 not in [1,2]  | True        |\n",
    "\n",
    "---\n",
    "\n",
    "### 7. Identity Operators\n",
    "\n",
    "| Operator | Description                          | Example         | Result      |\n",
    "|----------|--------------------------------------|-----------------|-------------|\n",
    "| is       | True if same object                  | x is y          | True/False  |\n",
    "| is not   | True if not same object              | x is not y      | True/False  |\n",
    "\n",
    "---\n",
    "\n",
    "These operators are fundamental to programming in Python and are used in various expressions and statements."
   ]
  },
  {
   "cell_type": "markdown",
   "id": "84d3ce52",
   "metadata": {},
   "source": [
    "## 1.Aritmetic Operators"
   ]
  },
  {
   "cell_type": "code",
   "execution_count": null,
   "id": "a5f3c42c",
   "metadata": {},
   "outputs": [
    {
     "name": "stdout",
     "output_type": "stream",
     "text": [
      "a + b = 13\n",
      "a - b = 7\n",
      "a * b = 30\n",
      "a / b = 3.3333333333333335\n",
      "a % b = 1\n",
      "a ** b = 1000\n",
      "a // b = 3\n"
     ]
    }
   ],
   "source": [
    "# Demonstrating all arithmetic operators\n",
    "a = 10\n",
    "b = 3\n",
    "\n",
    "addition = a + b  # Addition\n",
    "subtraction = a - b  # Subtraction\n",
    "multiplication = a * b  # Multiplication\n",
    "division = a / b  # Division\n",
    "modulus = a % b  # Modulus\n",
    "exponentiation = a**b  # Exponentiation\n",
    "floor_division = a // b  # Floor Division\n",
    "\n",
    "print(\"a + b =\", addition)\n",
    "print(\"a - b =\", subtraction)\n",
    "print(\"a * b =\", multiplication)\n",
    "print(\"a / b =\", division)\n",
    "print(\"a % b =\", modulus)\n",
    "print(\"a ** b =\", exponentiation)\n",
    "print(\"a // b =\", floor_division)"
   ]
  },
  {
   "cell_type": "markdown",
   "id": "c332f002",
   "metadata": {},
   "source": [
    "## 2. Comparison Operators"
   ]
  },
  {
   "cell_type": "code",
   "execution_count": null,
   "id": "a9763d75",
   "metadata": {},
   "outputs": [
    {
     "name": "stdout",
     "output_type": "stream",
     "text": [
      "a == b: False\n",
      "a != b: True\n",
      "a > b: True\n",
      "a < b: False\n",
      "a >= b: True\n",
      "a <= b: False\n"
     ]
    }
   ],
   "source": [
    "# Demonstrating all comparison operators with variables a and b\n",
    "a = 10\n",
    "b = 3\n",
    "\n",
    "print(\"a == b:\", a == b)  # Equal to\n",
    "print(\"a != b:\", a != b)  # Not equal to\n",
    "print(\"a > b:\", a > b)  # Greater than\n",
    "print(\"a < b:\", a < b)  # Less than\n",
    "print(\"a >= b:\", a >= b)  # Greater or equal to\n",
    "print(\"a <= b:\", a <= b)  # Less or equal to"
   ]
  },
  {
   "cell_type": "markdown",
   "id": "f5deeeb4",
   "metadata": {},
   "source": [
    "## 3.Logical Operators"
   ]
  },
  {
   "cell_type": "code",
   "execution_count": 6,
   "id": "a9aaca80",
   "metadata": {},
   "outputs": [
    {
     "name": "stdout",
     "output_type": "stream",
     "text": [
      "x and y: False\n",
      "x or y: True\n",
      "not x: False\n",
      "not y: True\n"
     ]
    }
   ],
   "source": [
    "# Demonstrating all logical operators\n",
    "x = True\n",
    "y = False\n",
    "\n",
    "print(\"x and y:\", x and y)  # AND operator\n",
    "print(\"x or y:\", x or y)  # OR operator\n",
    "print(\"not x:\", not x)  # NOT operator\n",
    "print(\"not y:\", not y)  # NOT operator"
   ]
  },
  {
   "cell_type": "markdown",
   "id": "57a292e8",
   "metadata": {},
   "source": [
    "## 4.Assignment Operators"
   ]
  },
  {
   "cell_type": "code",
   "execution_count": 7,
   "id": "893176a3",
   "metadata": {},
   "outputs": [
    {
     "name": "stdout",
     "output_type": "stream",
     "text": [
      "a1 after a1 += b: 13\n",
      "a2 after a2 -= b: 7\n",
      "a3 after a3 *= b: 30\n",
      "a4 after a4 /= b: 3.3333333333333335\n",
      "a5 after a5 %= b: 1\n",
      "a6 after a6 //= b: 3\n",
      "a7 after a7 **= b: 1000\n",
      "a8 after a8 &= b: 2\n",
      "a9 after a9 |= b: 11\n",
      "a10 after a10 ^= b: 9\n",
      "a11 after a11 >>= b: 1\n",
      "a12 after a12 <<= b: 80\n"
     ]
    }
   ],
   "source": [
    "# Demonstrating all assignment operators with variable a\n",
    "\n",
    "a1 = a  # = assignment\n",
    "a1 += b  # += addition assignment\n",
    "print(\"a1 after a1 += b:\", a1)\n",
    "\n",
    "a2 = a\n",
    "a2 -= b  # -= subtraction assignment\n",
    "print(\"a2 after a2 -= b:\", a2)\n",
    "\n",
    "a3 = a\n",
    "a3 *= b  # *= multiplication assignment\n",
    "print(\"a3 after a3 *= b:\", a3)\n",
    "\n",
    "a4 = a\n",
    "a4 /= b  # /= division assignment\n",
    "print(\"a4 after a4 /= b:\", a4)\n",
    "\n",
    "a5 = a\n",
    "a5 %= b  # %= modulus assignment\n",
    "print(\"a5 after a5 %= b:\", a5)\n",
    "\n",
    "a6 = a\n",
    "a6 //= b  # //= floor division assignment\n",
    "print(\"a6 after a6 //= b:\", a6)\n",
    "\n",
    "a7 = a\n",
    "a7 **= b  # **= exponentiation assignment\n",
    "print(\"a7 after a7 **= b:\", a7)\n",
    "\n",
    "a8 = a\n",
    "a8 &= b  # &= bitwise AND assignment\n",
    "print(\"a8 after a8 &= b:\", a8)\n",
    "\n",
    "a9 = a\n",
    "a9 |= b  # |= bitwise OR assignment\n",
    "print(\"a9 after a9 |= b:\", a9)\n",
    "\n",
    "a10 = a\n",
    "a10 ^= b  # ^= bitwise XOR assignment\n",
    "print(\"a10 after a10 ^= b:\", a10)\n",
    "\n",
    "a11 = a\n",
    "a11 >>= b  # >>= right shift assignment\n",
    "print(\"a11 after a11 >>= b:\", a11)\n",
    "\n",
    "a12 = a\n",
    "a12 <<= b  # <<= left shift assignment\n",
    "print(\"a12 after a12 <<= b:\", a12)"
   ]
  }
 ],
 "metadata": {
  "kernelspec": {
   "display_name": "Python 3",
   "language": "python",
   "name": "python3"
  },
  "language_info": {
   "codemirror_mode": {
    "name": "ipython",
    "version": 3
   },
   "file_extension": ".py",
   "mimetype": "text/x-python",
   "name": "python",
   "nbconvert_exporter": "python",
   "pygments_lexer": "ipython3",
   "version": "3.12.0"
  }
 },
 "nbformat": 4,
 "nbformat_minor": 5
}
