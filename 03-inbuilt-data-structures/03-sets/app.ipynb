{
 "cells": [
  {
   "cell_type": "markdown",
   "id": "262083a4",
   "metadata": {},
   "source": [
    "## Sets in Python\n",
    "    Sets in Python are an unordered collection data type that stores unique elements\n",
    "\n",
    "-  Unordered:\n",
    "The elements within a set do not have a defined order, and their order may change when the set is modified or iterated. You cannot access elements by index like in lists or tuples.\n",
    "\n",
    "-  Unique Elements:\n",
    "Sets automatically handle duplicate entries, ensuring that each element within the set is distinct. If you try to add a duplicate element, it will simply be ignored.\n",
    "\n",
    "-  Mutable\n",
    "Sets are mutable, meaning you can add or remove elements after the set has been created. However, the individual elements within a set must be immutable (e.g., numbers, strings, tuples), as mutable objects like lists or dictionaries cannot be elements of a set.\n"
   ]
  },
  {
   "cell_type": "code",
   "execution_count": 1,
   "id": "e283e4fe",
   "metadata": {},
   "outputs": [
    {
     "name": "stdout",
     "output_type": "stream",
     "text": [
      "Union: {1, 2, 3, 4, 5, 6, 7, 8}\n",
      "Intersection: {4, 5}\n",
      "Difference (A - B): {1, 2, 3}\n",
      "Symmetric Difference: {1, 2, 3, 6, 7, 8}\n",
      "A is subset of B: False\n",
      "A is superset of B: False\n",
      "A and B are disjoint: False\n",
      "A after adding 10: {1, 2, 3, 4, 5, 10}\n",
      "A after removing 2: {1, 3, 4, 5, 10}\n",
      "A after discarding 100 (no error): {1, 3, 4, 5, 10}\n",
      "Popped element: 1\n",
      "A after pop: {3, 4, 5, 10}\n",
      "A after clear: set()\n"
     ]
    }
   ],
   "source": [
    "# Define two example sets\n",
    "A = {1, 2, 3, 4, 5}\n",
    "B = {4, 5, 6, 7, 8}\n",
    "\n",
    "# Union\n",
    "union_set = A | B\n",
    "print(\"Union:\", union_set)\n",
    "\n",
    "# Intersection\n",
    "intersection_set = A & B\n",
    "print(\"Intersection:\", intersection_set)\n",
    "\n",
    "# Difference\n",
    "difference_set = A - B\n",
    "print(\"Difference (A - B):\", difference_set)\n",
    "\n",
    "# Symmetric Difference\n",
    "symmetric_difference_set = A ^ B\n",
    "print(\"Symmetric Difference:\", symmetric_difference_set)\n",
    "\n",
    "# Subset\n",
    "print(\"A is subset of B:\", A.issubset(B))\n",
    "\n",
    "# Superset\n",
    "print(\"A is superset of B:\", A.issuperset(B))\n",
    "\n",
    "# Disjoint\n",
    "print(\"A and B are disjoint:\", A.isdisjoint(B))\n",
    "\n",
    "# Add element\n",
    "A.add(10)\n",
    "print(\"A after adding 10:\", A)\n",
    "\n",
    "# Remove element\n",
    "A.remove(2)\n",
    "print(\"A after removing 2:\", A)\n",
    "\n",
    "# Discard element (no error if not present)\n",
    "A.discard(100)\n",
    "print(\"A after discarding 100 (no error):\", A)\n",
    "\n",
    "# Pop element\n",
    "popped = A.pop()\n",
    "print(\"Popped element:\", popped)\n",
    "print(\"A after pop:\", A)\n",
    "\n",
    "# Clear set\n",
    "A.clear()\n",
    "print(\"A after clear:\", A)"
   ]
  },
  {
   "cell_type": "code",
   "execution_count": 2,
   "id": "ee5f3bdc",
   "metadata": {},
   "outputs": [
    {
     "name": "stdout",
     "output_type": "stream",
     "text": [
      "set1: {'1', '2'}\n",
      "set2: {'5', '6', '4'}\n"
     ]
    }
   ],
   "source": [
    "# Create two empty sets\n",
    "set1 = set()\n",
    "set2 = set()\n",
    "\n",
    "# Take input from user and add elements to set1\n",
    "n1 = int(input(\"Enter number of elements for set1: \"))\n",
    "for _ in range(n1):\n",
    "    elem = input(\"Enter element for set1: \")\n",
    "    set1.add(elem)\n",
    "\n",
    "# Take input from user and add elements to set2\n",
    "n2 = int(input(\"Enter number of elements for set2: \"))\n",
    "for _ in range(n2):\n",
    "    elem = input(\"Enter element for set2: \")\n",
    "    set2.add(elem)\n",
    "\n",
    "print(\"set1:\", set1)\n",
    "print(\"set2:\", set2)"
   ]
  },
  {
   "cell_type": "code",
   "execution_count": 9,
   "id": "90cfca4d",
   "metadata": {},
   "outputs": [
    {
     "name": "stdout",
     "output_type": "stream",
     "text": [
      "set3: {40, 10, 20, 30}\n",
      "set4: {40, 50, 60, 30}\n",
      "list_from_set3: [40, 10, 20, 30]\n",
      "list_from_set4: [40, 50, 60, 30]\n"
     ]
    }
   ],
   "source": [
    "# Create new lists\n",
    "list3 = [10, 20, 30, 40]\n",
    "list4 = [30, 40, 50, 60]\n",
    "\n",
    "# Convert lists to sets\n",
    "set3 = set(list3)\n",
    "set4 = set(list4)\n",
    "\n",
    "print(\"set3:\", set3)\n",
    "print(\"set4:\", set4)\n",
    "\n",
    "# Convert sets back to lists\n",
    "list_from_set3 = list(set3)\n",
    "list_from_set4 = list(set4)\n",
    "\n",
    "print(\"list_from_set3:\", list_from_set3)\n",
    "print(\"list_from_set4:\", list_from_set4)"
   ]
  }
 ],
 "metadata": {
  "kernelspec": {
   "display_name": "Python 3",
   "language": "python",
   "name": "python3"
  },
  "language_info": {
   "codemirror_mode": {
    "name": "ipython",
    "version": 3
   },
   "file_extension": ".py",
   "mimetype": "text/x-python",
   "name": "python",
   "nbconvert_exporter": "python",
   "pygments_lexer": "ipython3",
   "version": "3.12.0"
  }
 },
 "nbformat": 4,
 "nbformat_minor": 5
}
