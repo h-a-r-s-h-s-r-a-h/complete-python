{
 "cells": [
  {
   "cell_type": "markdown",
   "id": "1c575ecd",
   "metadata": {},
   "source": [
    "## Tuples\n",
    "- Tuples in Python are ordered, immutable collections of items. \n",
    "- They are one of Python's built-in data types used to store collections of data, alongside lists, sets, and dictionaries.\n",
    "- They are one of Python's built-in data types used to store collections of data, alongside lists, sets, and dictionaries.\n",
    "- Tuples can hold elements of different data types. "
   ]
  },
  {
   "cell_type": "code",
   "execution_count": 1,
   "id": "7e8a36fe",
   "metadata": {},
   "outputs": [
    {
     "name": "stdout",
     "output_type": "stream",
     "text": [
      "a\n",
      "b\n",
      "c\n",
      "Concatenation: (1, 2, 3, 'a', 'b', 'c')\n",
      "Repetition: (1, 2, 3, 1, 2, 3)\n",
      "First element: 1\n",
      "Sliced tuple: (2, 3)\n",
      "Length: 3\n",
      "Is 2 in t1: True\n",
      "Unpacked: 1 2 3\n",
      "Count of 1: 1\n",
      "Index of 3: 2\n"
     ]
    }
   ],
   "source": [
    "# Creating tuples\n",
    "t1 = (1, 2, 3)\n",
    "t2 = ('a', 'b', 'c')\n",
    "\n",
    "# Concatenation\n",
    "concat = t1 + t2\n",
    "\n",
    "# Repetition\n",
    "repeat = t1 * 2\n",
    "\n",
    "# Indexing\n",
    "first_elem = t1[0]\n",
    "\n",
    "# Slicing\n",
    "slice_tuple = t1[1:]\n",
    "\n",
    "# Length\n",
    "length = len(t1)\n",
    "\n",
    "# Membership\n",
    "is_two_in_t1 = 2 in t1\n",
    "\n",
    "# Iteration\n",
    "for item in t2:\n",
    "    print(item)\n",
    "\n",
    "# Tuple unpacking\n",
    "x, y, z = t1\n",
    "\n",
    "# Count and index methods\n",
    "count_1 = t1.count(1)\n",
    "index_3 = t1.index(3)\n",
    "\n",
    "# Display results\n",
    "print(\"Concatenation:\", concat)\n",
    "print(\"Repetition:\", repeat)\n",
    "print(\"First element:\", first_elem)\n",
    "print(\"Sliced tuple:\", slice_tuple)\n",
    "print(\"Length:\", length)\n",
    "print(\"Is 2 in t1:\", is_two_in_t1)\n",
    "print(\"Unpacked:\", x, y, z)\n",
    "print(\"Count of 1:\", count_1)\n",
    "print(\"Index of 3:\", index_3)"
   ]
  },
  {
   "cell_type": "code",
   "execution_count": 2,
   "id": "1ae1a629",
   "metadata": {},
   "outputs": [
    {
     "name": "stdout",
     "output_type": "stream",
     "text": [
      "Created tuple: ('1', '2', '3', '4')\n"
     ]
    }
   ],
   "source": [
    "# Create an empty list to collect user inputs\n",
    "user_values = []\n",
    "\n",
    "# Number of elements to add\n",
    "n = int(input(\"How many values do you want to add to the tuple? \"))\n",
    "\n",
    "for i in range(n):\n",
    "    val = input(f\"Enter value {i+1}: \")\n",
    "    user_values.append(val)\n",
    "\n",
    "# Convert the list to a tuple\n",
    "user_tuple = tuple(user_values)\n",
    "print(\"Created tuple:\", user_tuple)"
   ]
  },
  {
   "cell_type": "code",
   "execution_count": 3,
   "id": "bc160764",
   "metadata": {},
   "outputs": [
    {
     "name": "stdout",
     "output_type": "stream",
     "text": [
      "List to tuple: (10, 20, 30)\n",
      "Tuple to list: [40, 50, 60]\n"
     ]
    }
   ],
   "source": [
    "# Convert a list to a tuple\n",
    "sample_list = [10, 20, 30]\n",
    "converted_tuple = tuple(sample_list)\n",
    "print(\"List to tuple:\", converted_tuple)\n",
    "\n",
    "# Convert a tuple to a list\n",
    "sample_tuple = (40, 50, 60)\n",
    "converted_list = list(sample_tuple)\n",
    "print(\"Tuple to list:\", converted_list)"
   ]
  },
  {
   "cell_type": "code",
   "execution_count": 4,
   "id": "310fa8cb",
   "metadata": {},
   "outputs": [
    {
     "name": "stdout",
     "output_type": "stream",
     "text": [
      "Packed tuple: (5, 10, 15)\n",
      "Unpacked values: 5 10 15\n",
      "Unpacked t1: 1 2 3\n"
     ]
    }
   ],
   "source": [
    "# Tuple Packing and Unpacking\n",
    "\n",
    "# Packing: Assigning multiple values into a single tuple\n",
    "packed_tuple = 5, 10, 15  # Parentheses are optional\n",
    "print(\"Packed tuple:\", packed_tuple)\n",
    "\n",
    "# Unpacking: Assigning tuple elements to multiple variables\n",
    "a, b, c = packed_tuple\n",
    "print(\"Unpacked values:\", a, b, c)\n",
    "\n",
    "# You can also unpack existing tuples, like t1\n",
    "m, n, o = t1\n",
    "print(\"Unpacked t1:\", m, n, o)\n",
    "\n",
    "# Note: The number of variables on the left must match the number of elements in the tuple"
   ]
  },
  {
   "cell_type": "code",
   "execution_count": 5,
   "id": "4649fbbe",
   "metadata": {},
   "outputs": [
    {
     "name": "stdout",
     "output_type": "stream",
     "text": [
      "First: 1\n",
      "Middle: [2, 3, 'a', 'b']\n",
      "Last: c\n"
     ]
    }
   ],
   "source": [
    "# Unpacking with *\n",
    "# The * operator can be used to unpack multiple elements into a list variable\n",
    "\n",
    "first, *middle, last = concat\n",
    "print(\"First:\", first)\n",
    "print(\"Middle:\", middle)\n",
    "print(\"Last:\", last)"
   ]
  },
  {
   "cell_type": "code",
   "execution_count": 6,
   "id": "820a3fd0",
   "metadata": {},
   "outputs": [
    {
     "name": "stdout",
     "output_type": "stream",
     "text": [
      "Nested tuple: ((1, 2), (3, 4), (5, 6))\n",
      "First inner tuple: (1, 2)\n",
      "First element of first inner tuple: 1\n",
      "Second element of second inner tuple: 4\n",
      "Deeply nested tuple: ((1, (2, 3)), (4, 5))\n"
     ]
    }
   ],
   "source": [
    "# Nested Tuples\n",
    "\n",
    "# A nested tuple is a tuple that contains other tuples as elements.\n",
    "nested_tuple = ((1, 2), (3, 4), (5, 6))\n",
    "\n",
    "print(\"Nested tuple:\", nested_tuple)\n",
    "\n",
    "# Accessing elements in a nested tuple\n",
    "first_inner_tuple = nested_tuple[0]\n",
    "print(\"First inner tuple:\", first_inner_tuple)\n",
    "\n",
    "# Accessing elements inside the inner tuple\n",
    "first_element = nested_tuple[0][0]\n",
    "second_element = nested_tuple[1][1]\n",
    "print(\"First element of first inner tuple:\", first_element)\n",
    "print(\"Second element of second inner tuple:\", second_element)\n",
    "\n",
    "# You can nest tuples to any depth\n",
    "deeply_nested = ((1, (2, 3)), (4, 5))\n",
    "print(\"Deeply nested tuple:\", deeply_nested)"
   ]
  }
 ],
 "metadata": {
  "kernelspec": {
   "display_name": "Python 3",
   "language": "python",
   "name": "python3"
  },
  "language_info": {
   "codemirror_mode": {
    "name": "ipython",
    "version": 3
   },
   "file_extension": ".py",
   "mimetype": "text/x-python",
   "name": "python",
   "nbconvert_exporter": "python",
   "pygments_lexer": "ipython3",
   "version": "3.12.0"
  }
 },
 "nbformat": 4,
 "nbformat_minor": 5
}
