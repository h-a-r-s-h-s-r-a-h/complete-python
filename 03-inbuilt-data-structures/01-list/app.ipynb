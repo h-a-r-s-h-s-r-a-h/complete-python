{
 "cells": [
  {
   "cell_type": "markdown",
   "id": "eb172fbf",
   "metadata": {},
   "source": [
    "## List in python\n",
    "- A list is a built-in data structure in Python that is mutable, ordered, and can contain elements of different types."
   ]
  },
  {
   "cell_type": "code",
   "execution_count": 2,
   "id": "ca90881b",
   "metadata": {},
   "outputs": [
    {
     "name": "stdout",
     "output_type": "stream",
     "text": [
      "1\n",
      "banana\n",
      "inserted\n",
      "3\n",
      "4.5\n",
      "True\n",
      "banana is in the list\n"
     ]
    }
   ],
   "source": [
    "# Creating a list\n",
    "my_list = [1, 2, 3, 'apple', 4.5, True]\n",
    "\n",
    "# Accessing elements\n",
    "first_element = my_list[0]      # 1\n",
    "last_element = my_list[-1]      # True\n",
    "\n",
    "# Modifying elements\n",
    "my_list[1] = 'banana'           # [1, 'banana', 3, 'apple', 4.5, True]\n",
    "\n",
    "# Adding elements\n",
    "my_list.append('new item')      # Adds to the end\n",
    "my_list.insert(2, 'inserted')   # Inserts at index 2\n",
    "\n",
    "# Removing elements\n",
    "my_list.remove('apple')         # Removes first occurrence of 'apple'\n",
    "popped_item = my_list.pop()     # Removes and returns the last item\n",
    "\n",
    "# Slicing\n",
    "sub_list = my_list[1:4]         # Elements from index 1 to 3\n",
    "\n",
    "# Iterating through a list\n",
    "for item in my_list:\n",
    "    print(item)\n",
    "\n",
    "\n",
    "# Checking membership\n",
    "if 'banana' in my_list:\n",
    "    print('banana is in the list')\n"
   ]
  },
  {
   "cell_type": "code",
   "execution_count": 3,
   "id": "45b8ae92",
   "metadata": {},
   "outputs": [
    {
     "name": "stdout",
     "output_type": "stream",
     "text": [
      "Removed item: banana\n",
      "Updated list: [1, 'inserted', 3, 4.5, True]\n"
     ]
    }
   ],
   "source": [
    "# The pop() method removes and returns the last item from the list by default.\n",
    "removed_item = my_list.pop(1)\n",
    "print(\"Removed item:\", removed_item)\n",
    "print(\"Updated list:\", my_list)"
   ]
  },
  {
   "cell_type": "code",
   "execution_count": 4,
   "id": "53f41dc2",
   "metadata": {},
   "outputs": [
    {
     "name": "stdout",
     "output_type": "stream",
     "text": [
      "Sorted numbers: [1, 2, 5, 7, 9]\n"
     ]
    }
   ],
   "source": [
    "# Creating a list of numbers\n",
    "numbers = [5, 2, 9, 1, 7]\n",
    "\n",
    "# Sorting the list in place\n",
    "numbers.sort()\n",
    "\n",
    "print(\"Sorted numbers:\", numbers)"
   ]
  },
  {
   "cell_type": "code",
   "execution_count": 5,
   "id": "5bc6ac12",
   "metadata": {},
   "outputs": [
    {
     "name": "stdout",
     "output_type": "stream",
     "text": [
      "Maximum: 9\n",
      "Minimum: 1\n",
      "Sum: 24\n"
     ]
    }
   ],
   "source": [
    "# Using max, min, and sum functions on the numbers list\n",
    "max_number = max(numbers)\n",
    "min_number = min(numbers)\n",
    "sum_numbers = sum(numbers)\n",
    "\n",
    "print(\"Maximum:\", max_number)\n",
    "print(\"Minimum:\", min_number)\n",
    "print(\"Sum:\", sum_numbers)"
   ]
  },
  {
   "cell_type": "code",
   "execution_count": 6,
   "id": "57c3a0a2",
   "metadata": {},
   "outputs": [
    {
     "name": "stdout",
     "output_type": "stream",
     "text": [
      "Length of my_list: 5\n",
      "Length of numbers: 5\n"
     ]
    }
   ],
   "source": [
    "# Get the length of my_list\n",
    "length_my_list = len(my_list)\n",
    "print(\"Length of my_list:\", length_my_list)\n",
    "\n",
    "# Get the length of numbers\n",
    "length_numbers = len(numbers)\n",
    "print(\"Length of numbers:\", length_numbers)"
   ]
  },
  {
   "cell_type": "code",
   "execution_count": 7,
   "id": "9be2d818",
   "metadata": {},
   "outputs": [
    {
     "name": "stdout",
     "output_type": "stream",
     "text": [
      "Your list: [1, 2]\n",
      "In reverse order:\n",
      "2 1 "
     ]
    }
   ],
   "source": [
    "num = []\n",
    "\n",
    "len1 = int(input(\"Enter the number of elements in the list: \"))\n",
    "\n",
    "for i in range(len1):\n",
    "    num.append(int(input(\"Enter element: \")))\n",
    "\n",
    "print(\"Your list:\", num)\n",
    "\n",
    "length = len(num)\n",
    "\n",
    "print(\"In reverse order:\")\n",
    "\n",
    "for i in range(length - 1, -1, -1):\n",
    "    print(num[i], end=\" \")\n"
   ]
  },
  {
   "cell_type": "code",
   "execution_count": 8,
   "id": "cf0b600a",
   "metadata": {},
   "outputs": [
    {
     "name": "stdout",
     "output_type": "stream",
     "text": [
      "Index of 'inserted' in my_list: 1\n"
     ]
    }
   ],
   "source": [
    "# Using the .index() method to find the index of an element in my_list\n",
    "index_of_inserted = my_list.index('inserted')\n",
    "print(\"Index of 'inserted' in my_list:\", index_of_inserted)"
   ]
  },
  {
   "cell_type": "code",
   "execution_count": 14,
   "id": "452ef77f",
   "metadata": {},
   "outputs": [
    {
     "name": "stdout",
     "output_type": "stream",
     "text": [
      "Reversed numbers: [9, 7, 5, 2, 1]\n"
     ]
    }
   ],
   "source": [
    "# Reversing the numbers list in place using .reverse()\n",
    "numbers.reverse()\n",
    "print(\"Reversed numbers:\", numbers)"
   ]
  },
  {
   "cell_type": "code",
   "execution_count": 16,
   "id": "72930c64",
   "metadata": {},
   "outputs": [
    {
     "name": "stdout",
     "output_type": "stream",
     "text": [
      "Cleared numbers list: []\n"
     ]
    }
   ],
   "source": [
    "numbers.clear()  # Clear all elements from the numbers list\n",
    "print(\"Cleared numbers list:\", numbers)"
   ]
  },
  {
   "cell_type": "code",
   "execution_count": 12,
   "id": "a15b1b9c",
   "metadata": {},
   "outputs": [
    {
     "name": "stdout",
     "output_type": "stream",
     "text": [
      "Your array: [1, 2, 3, 4, 5]\n",
      "Sum of elements in the array: 15\n"
     ]
    }
   ],
   "source": [
    "arr = []\n",
    "len = int(input(\"Enter the number of elements in the array: \"))\n",
    "for i in range(0,len):\n",
    "    arr.append(int(input(\"Enter element: \")))\n",
    "\n",
    "print(\"Your array:\", arr)\n",
    "\n",
    "sum = 0\n",
    "for i in range(0,len):\n",
    "    sum = sum + arr[i]\n",
    "\n",
    "print(\"Sum of elements in the array:\", sum)"
   ]
  }
 ],
 "metadata": {
  "kernelspec": {
   "display_name": "Python 3",
   "language": "python",
   "name": "python3"
  },
  "language_info": {
   "codemirror_mode": {
    "name": "ipython",
    "version": 3
   },
   "file_extension": ".py",
   "mimetype": "text/x-python",
   "name": "python",
   "nbconvert_exporter": "python",
   "pygments_lexer": "ipython3",
   "version": "3.12.0"
  }
 },
 "nbformat": 4,
 "nbformat_minor": 5
}
