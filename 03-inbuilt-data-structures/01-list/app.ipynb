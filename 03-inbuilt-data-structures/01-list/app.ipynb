{
 "cells": [
  {
   "cell_type": "markdown",
   "id": "eb172fbf",
   "metadata": {},
   "source": [
    "## List in python\n",
    "- A list is a built-in data structure in Python that is mutable, ordered, and can contain elements of different types."
   ]
  },
  {
   "cell_type": "code",
   "execution_count": null,
   "id": "ca90881b",
   "metadata": {},
   "outputs": [],
   "source": [
    "# Creating a list\n",
    "my_list = [1, 2, 3, 'apple', 4.5, True]\n",
    "\n",
    "# Accessing elements\n",
    "first_element = my_list[0]      # 1\n",
    "last_element = my_list[-1]      # True\n",
    "\n",
    "# Modifying elements\n",
    "my_list[1] = 'banana'           # [1, 'banana', 3, 'apple', 4.5, True]\n",
    "\n",
    "# Adding elements\n",
    "my_list.append('new item')      # Adds to the end\n",
    "my_list.insert(2, 'inserted')   # Inserts at index 2\n",
    "\n",
    "# Removing elements\n",
    "my_list.remove('apple')         # Removes first occurrence of 'apple'\n",
    "popped_item = my_list.pop()     # Removes and returns the last item\n",
    "\n",
    "# Slicing\n",
    "sub_list = my_list[1:4]         # Elements from index 1 to 3\n",
    "\n",
    "# Iterating through a list\n",
    "for item in my_list:\n",
    "    print(item)\n",
    "\n",
    "\n",
    "# Checking membership\n",
    "if 'banana' in my_list:\n",
    "    print('banana is in the list')\n"
   ]
  },
  {
   "cell_type": "code",
   "execution_count": null,
   "id": "45b8ae92",
   "metadata": {},
   "outputs": [],
   "source": [
    "# The pop() method removes and returns the last item from the list by default.\n",
    "removed_item = my_list.pop(1)\n",
    "print(\"Removed item:\", removed_item)\n",
    "print(\"Updated list:\", my_list)"
   ]
  },
  {
   "cell_type": "code",
   "execution_count": null,
   "id": "53f41dc2",
   "metadata": {},
   "outputs": [],
   "source": [
    "# Creating a list of numbers\n",
    "numbers = [5, 2, 9, 1, 7]\n",
    "\n",
    "# Sorting the list in place\n",
    "numbers.sort()\n",
    "\n",
    "print(\"Sorted numbers:\", numbers)"
   ]
  },
  {
   "cell_type": "code",
   "execution_count": null,
   "id": "5bc6ac12",
   "metadata": {},
   "outputs": [],
   "source": [
    "# Using max, min, and sum functions on the numbers list\n",
    "max_number = max(numbers)\n",
    "min_number = min(numbers)\n",
    "sum_numbers = sum(numbers)\n",
    "\n",
    "print(\"Maximum:\", max_number)\n",
    "print(\"Minimum:\", min_number)\n",
    "print(\"Sum:\", sum_numbers)"
   ]
  },
  {
   "cell_type": "code",
   "execution_count": null,
   "id": "57c3a0a2",
   "metadata": {},
   "outputs": [],
   "source": [
    "# Get the length of my_list\n",
    "length_my_list = len(my_list)\n",
    "print(\"Length of my_list:\", length_my_list)\n",
    "\n",
    "# Get the length of numbers\n",
    "length_numbers = len(numbers)\n",
    "print(\"Length of numbers:\", length_numbers)"
   ]
  },
  {
   "cell_type": "code",
   "execution_count": null,
   "id": "9be2d818",
   "metadata": {},
   "outputs": [],
   "source": [
    "num = []\n",
    "\n",
    "len1 = int(input(\"Enter the number of elements in the list: \"))\n",
    "\n",
    "for i in range(len1):\n",
    "    num.append(int(input(\"Enter element: \")))\n",
    "\n",
    "print(\"Your list:\", num)\n",
    "\n",
    "length = len(num)\n",
    "\n",
    "print(\"In reverse order:\")\n",
    "\n",
    "for i in range(length - 1, -1, -1):\n",
    "    print(num[i], end=\" \")\n"
   ]
  },
  {
   "cell_type": "code",
   "execution_count": null,
   "id": "cf0b600a",
   "metadata": {},
   "outputs": [],
   "source": [
    "# Using the .index() method to find the index of an element in my_list\n",
    "index_of_inserted = my_list.index('inserted')\n",
    "print(\"Index of 'inserted' in my_list:\", index_of_inserted)"
   ]
  },
  {
   "cell_type": "code",
   "execution_count": null,
   "id": "452ef77f",
   "metadata": {},
   "outputs": [],
   "source": [
    "# Reversing the numbers list in place using .reverse()\n",
    "numbers.reverse()\n",
    "print(\"Reversed numbers:\", numbers)"
   ]
  },
  {
   "cell_type": "code",
   "execution_count": null,
   "id": "72930c64",
   "metadata": {},
   "outputs": [],
   "source": [
    "numbers.clear()  # Clear all elements from the numbers list\n",
    "print(\"Cleared numbers list:\", numbers)"
   ]
  },
  {
   "cell_type": "code",
   "execution_count": null,
   "id": "a15b1b9c",
   "metadata": {},
   "outputs": [],
   "source": [
    "arr = []\n",
    "len = int(input(\"Enter the number of elements in the array: \"))\n",
    "for i in range(0,len):\n",
    "    arr.append(int(input(\"Enter element: \")))\n",
    "\n",
    "print(\"Your array:\", arr)\n",
    "\n",
    "sum = 0\n",
    "for i in range(0,len):\n",
    "    sum = sum + arr[i]\n",
    "\n",
    "print(\"Sum of elements in the array:\", sum)"
   ]
  },
  {
   "cell_type": "markdown",
   "id": "3aaad8bf",
   "metadata": {},
   "source": [
    "## List Comprehension"
   ]
  },
  {
   "cell_type": "code",
   "execution_count": 18,
   "id": "886f1fca",
   "metadata": {},
   "outputs": [
    {
     "name": "stdout",
     "output_type": "stream",
     "text": [
      "Squares: [0, 1, 4, 9, 16, 25, 36, 49, 64, 81]\n",
      "Even numbers: [0, 2, 4, 6, 8, 10, 12, 14, 16, 18]\n"
     ]
    }
   ],
   "source": [
    "# Example: Create a new list with the squares of numbers from 0 to 9 using list comprehension\n",
    "squares = [x**2 for x in range(10)]\n",
    "print(\"Squares:\", squares)\n",
    "\n",
    "# Example: Filter even numbers from a list using list comprehension\n",
    "even_numbers = [x for x in range(20) if x % 2 == 0]\n",
    "print(\"Even numbers:\", even_numbers)"
   ]
  },
  {
   "cell_type": "code",
   "execution_count": 19,
   "id": "5385dae9",
   "metadata": {},
   "outputs": [
    {
     "name": "stdout",
     "output_type": "stream",
     "text": [
      "Basic: [0, 1, 2, 3, 4]\n",
      "Filtered (even numbers): [0, 2, 4, 6, 8]\n",
      "Conditional: ['even', 'odd', 'even', 'odd', 'even']\n",
      "Nested: [[0, 0, 0], [0, 1, 2], [0, 2, 4]]\n"
     ]
    }
   ],
   "source": [
    "# Types of list comprehensions in Python\n",
    "\n",
    "# 1. Basic list comprehension\n",
    "basic = [x for x in range(5)]\n",
    "print(\"Basic:\", basic)\n",
    "\n",
    "# 2. List comprehension with condition (filtering)\n",
    "filtered = [x for x in range(10) if x % 2 == 0]\n",
    "print(\"Filtered (even numbers):\", filtered)\n",
    "\n",
    "# 3. List comprehension with if-else (conditional expression)\n",
    "conditional = ['even' if x % 2 == 0 else 'odd' for x in range(5)]\n",
    "print(\"Conditional:\", conditional)\n",
    "\n",
    "# 4. Nested list comprehension (for 2D lists)\n",
    "nested = [[i * j for j in range(3)] for i in range(3)]\n",
    "print(\"Nested:\", nested)"
   ]
  }
 ],
 "metadata": {
  "kernelspec": {
   "display_name": "Python 3",
   "language": "python",
   "name": "python3"
  },
  "language_info": {
   "codemirror_mode": {
    "name": "ipython",
    "version": 3
   },
   "file_extension": ".py",
   "mimetype": "text/x-python",
   "name": "python",
   "nbconvert_exporter": "python",
   "pygments_lexer": "ipython3",
   "version": "3.12.0"
  }
 },
 "nbformat": 4,
 "nbformat_minor": 5
}
