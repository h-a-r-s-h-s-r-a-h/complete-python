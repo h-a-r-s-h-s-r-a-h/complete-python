{
 "cells": [
  {
   "cell_type": "markdown",
   "id": "0bc5c02f",
   "metadata": {},
   "source": [
    "## Dictionary in Python\n",
    "    In Python, a dictionary is a built-in data type that stores data in key-value pairs. It is an ordered, changeable, and unordered collection of items where each unique key maps to a specific value. \n",
    "- Key-value pairs:\n",
    "Data is stored as pairs, where a unique \"key\" identifies and provides access to its corresponding \"value.\"\n",
    "\n",
    "- Ordered: \n",
    "As of Python 3.7, dictionaries maintain the insertion order of items.\n",
    "\n",
    "- Changeable (Mutable):\n",
    "You can add, remove, or modify key-value pairs after the dictionary has been created.\n",
    "\n",
    "- No duplicate keys:\n",
    "Each key within a dictionary must be unique. If you assign a value to an existing key, the old value associated with that key will be overwritten.\n",
    "\n",
    "- Immutable keys:\n",
    "Dictionary keys must be of an immutable data type (e.g., strings, numbers, tuples). Lists or other dictionaries cannot be used as keys because they are mutable.\n",
    "\n",
    "- Values can be of any type:\n",
    "Dictionary values can be of any data type, including strings, numbers, lists, tuples, or even other dictionaries."
   ]
  },
  {
   "cell_type": "code",
   "execution_count": 2,
   "id": "63924ac6",
   "metadata": {},
   "outputs": [
    {
     "name": "stdout",
     "output_type": "stream",
     "text": [
      "{'a': 1, 'b': 2, 'c': 3}\n",
      "a 10\n",
      "d 4\n",
      "a 10\n",
      "d 4\n"
     ]
    }
   ],
   "source": [
    "### Common Operations on Dictionaries in Python\n",
    "\n",
    "# **Creating a Dictionary**\n",
    "\n",
    "my_dict = {\"a\": 1, \"b\": 2, \"c\": 3}\n",
    "print(my_dict)  # Output: {'a': 1, 'b': 2, 'c': 3}\n",
    "\n",
    "\n",
    "# **Accessing Values**\n",
    "\n",
    "value = my_dict[\"a\"]  # Returns 1\n",
    "value = my_dict.get(\"b\")  # Returns 2\n",
    "\n",
    "\n",
    "# **Adding or Updating Items**\n",
    "\n",
    "my_dict[\"d\"] = 4  # Adds new key 'd'\n",
    "my_dict[\"a\"] = 10  # Updates value for key 'a'\n",
    "\n",
    "\n",
    "# **Removing Items**\n",
    "\n",
    "my_dict.pop(\"b\")  # Removes key 'b'\n",
    "del my_dict[\"c\"]  # Removes key 'c'\n",
    "\n",
    "\n",
    "# **Checking for Existence of Keys**\n",
    "\n",
    "\"a\" in my_dict  # Returns True if 'a' exists\n",
    "\n",
    "\n",
    "# **Iterating Through a Dictionary**\n",
    "\n",
    "for key in my_dict:\n",
    "    print(key, my_dict[key])\n",
    "for key, value in my_dict.items():\n",
    "    print(key, value)\n",
    "\n",
    "\n",
    "# **Getting Keys, Values, and Items**\n",
    "\n",
    "keys = my_dict.keys()\n",
    "values = my_dict.values()\n",
    "items = my_dict.items()\n",
    "\n",
    "\n",
    "# **Copying a Dictionary**\n",
    "\n",
    "new_dict = my_dict.copy()\n",
    "\n",
    "\n",
    "# **Merging Dictionaries**\n",
    "\n",
    "my_dict.update({\"e\": 5, \"f\": 6})\n",
    "\n",
    "\n",
    "# **Dictionary Comprehension**\n",
    "\n",
    "squares = {x: x * x for x in range(5)}\n",
    "\n",
    "\n",
    "# **Removing Items**\n",
    "\n",
    "my_dict.clear()  # Removes all items\n",
    "\n",
    "\n",
    "# These operations cover the most common ways to work with dictionaries in Python."
   ]
  },
  {
   "cell_type": "code",
   "execution_count": 5,
   "id": "9b763d43",
   "metadata": {},
   "outputs": [
    {
     "name": "stdout",
     "output_type": "stream",
     "text": [
      "Filled dictionary: {'a': '1', 's': '2', 'd': '3'}\n"
     ]
    }
   ],
   "source": [
    "# Create an empty dictionary\n",
    "user_dict = {}\n",
    "\n",
    "# Take number of items to add\n",
    "n = int(input(\"How many items do you want to add? \"))\n",
    "\n",
    "for _ in range(n):\n",
    "    k = input(\"Enter key: \")\n",
    "    v = input(\"Enter value: \")\n",
    "    user_dict[k] = v\n",
    "\n",
    "print(\"Filled dictionary:\", user_dict)"
   ]
  }
 ],
 "metadata": {
  "kernelspec": {
   "display_name": "Python 3",
   "language": "python",
   "name": "python3"
  },
  "language_info": {
   "codemirror_mode": {
    "name": "ipython",
    "version": 3
   },
   "file_extension": ".py",
   "mimetype": "text/x-python",
   "name": "python",
   "nbconvert_exporter": "python",
   "pygments_lexer": "ipython3",
   "version": "3.12.0"
  }
 },
 "nbformat": 4,
 "nbformat_minor": 5
}
