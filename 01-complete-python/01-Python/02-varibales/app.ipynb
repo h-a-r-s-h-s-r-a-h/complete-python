{
 "cells": [
  {
   "cell_type": "markdown",
   "id": "917b0f06",
   "metadata": {},
   "source": [
    "## Variables"
   ]
  },
  {
   "cell_type": "code",
   "execution_count": 4,
   "id": "ffcb705c",
   "metadata": {},
   "outputs": [
    {
     "name": "stdout",
     "output_type": "stream",
     "text": [
      "10 5.5 Harsh True\n"
     ]
    }
   ],
   "source": [
    "# Assigning values to variables in Python\n",
    "x = 10\n",
    "y = 5.5\n",
    "name = \"Harsh\"\n",
    "is_active = True\n",
    "\n",
    "print(x, y, name, is_active)"
   ]
  },
  {
   "cell_type": "code",
   "execution_count": 5,
   "id": "db14bc1a",
   "metadata": {},
   "outputs": [
    {
     "name": "stdout",
     "output_type": "stream",
     "text": [
      "<class 'int'>\n",
      "<class 'float'>\n",
      "<class 'str'>\n"
     ]
    }
   ],
   "source": [
    "# Types of variables\n",
    "print(type(x))        # <class 'int'>\n",
    "print(type(y))        # <class 'float'>\n",
    "print(type(name))     # <class 'str'>"
   ]
  },
  {
   "cell_type": "code",
   "execution_count": 6,
   "id": "694e5381",
   "metadata": {},
   "outputs": [
    {
     "data": {
      "text/plain": [
       "str"
      ]
     },
     "execution_count": 6,
     "metadata": {},
     "output_type": "execute_result"
    }
   ],
   "source": [
    "type(name)"
   ]
  },
  {
   "cell_type": "markdown",
   "id": "3d570b0f",
   "metadata": {},
   "source": [
    "## Naming Conventions"
   ]
  },
  {
   "cell_type": "markdown",
   "id": "3526c917",
   "metadata": {},
   "source": [
    "In Python, variable names should follow these naming conventions:\n",
    " - Use lowercase letters and underscores to separate words (snake_case)\n",
    " - Variable names should be descriptive and meaningful\n",
    " - Variables names case sensitive\n",
    " - Variable names in Python must start with an underscore (_) or a lowercase letter (a-z) and contain letters, numbers and underscores.\n",
    " - Variable names cannot start with a number or uppercase letter."
   ]
  },
  {
   "cell_type": "code",
   "execution_count": 7,
   "id": "e3baf402",
   "metadata": {},
   "outputs": [],
   "source": [
    "# Variable names in Python must start with an underscore (_) or a lowercase letter (a-z).\n",
    "# For example:\n",
    "_valid_name = 123\n",
    "another_valid_name = \"example\"\n",
    "\n",
    "# Variable names cannot start with a number or uppercase letter.\n",
    "# For example, '1variable' or 'Variable' are not valid as per convention."
   ]
  },
  {
   "cell_type": "code",
   "execution_count": 8,
   "id": "9f63af40",
   "metadata": {},
   "outputs": [
    {
     "name": "stdout",
     "output_type": "stream",
     "text": [
      "10\n",
      "20\n"
     ]
    }
   ],
   "source": [
    "# case sensitivity in Python\n",
    "variable = 10\n",
    "Variable = 20\n",
    "print(variable)  # Output: 10\n",
    "print(Variable)  # Output: 20\n",
    "# Python is case-sensitive, so 'variable' and 'Variable' are treated as different variables."
   ]
  },
  {
   "cell_type": "markdown",
   "id": "cfba0e0d",
   "metadata": {},
   "source": [
    "## Understanding Variable types\n",
    "    - Python is dynammically typed and the type of variable is determined at runtime"
   ]
  },
  {
   "cell_type": "code",
   "execution_count": null,
   "id": "bcc0f3d1",
   "metadata": {},
   "outputs": [
    {
     "data": {
      "text/plain": [
       "int"
      ]
     },
     "execution_count": 10,
     "metadata": {},
     "output_type": "execute_result"
    }
   ],
   "source": [
    "x = 10\n",
    "y = 5.5\n",
    "name = \"Harsh\"\n",
    "is_active = True\n",
    "\n",
    "# type(x)\n",
    "print(type(x))        # <class 'int'>"
   ]
  },
  {
   "cell_type": "code",
   "execution_count": 11,
   "id": "15372566",
   "metadata": {},
   "outputs": [
    {
     "data": {
      "text/plain": [
       "float"
      ]
     },
     "execution_count": 11,
     "metadata": {},
     "output_type": "execute_result"
    }
   ],
   "source": [
    "type(y)        # <class 'float'>"
   ]
  },
  {
   "cell_type": "markdown",
   "id": "99e5636c",
   "metadata": {},
   "source": [
    "- Type conversion in Python"
   ]
  },
  {
   "cell_type": "code",
   "execution_count": 12,
   "id": "7dc80a7e",
   "metadata": {},
   "outputs": [
    {
     "name": "stdout",
     "output_type": "stream",
     "text": [
      "x as float: 10.0 (<class 'float'>)\n"
     ]
    }
   ],
   "source": [
    "\n",
    "# Convert int to float\n",
    "x_float = float(x)\n",
    "print(f\"x as float: {x_float} ({type(x_float)})\")"
   ]
  },
  {
   "cell_type": "code",
   "execution_count": 13,
   "id": "2cf2484e",
   "metadata": {},
   "outputs": [
    {
     "name": "stdout",
     "output_type": "stream",
     "text": [
      "y as int: 5 (<class 'int'>)\n"
     ]
    }
   ],
   "source": [
    "# Convert float to int\n",
    "y_int = int(y)\n",
    "print(f\"y as int: {y_int} ({type(y_int)})\")"
   ]
  },
  {
   "cell_type": "code",
   "execution_count": 14,
   "id": "f7c85a1e",
   "metadata": {},
   "outputs": [
    {
     "name": "stdout",
     "output_type": "stream",
     "text": [
      "x as string: 10 (<class 'str'>)\n"
     ]
    }
   ],
   "source": [
    "# Convert int to string\n",
    "x_str = str(x)\n",
    "print(f\"x as string: {x_str} ({type(x_str)})\")"
   ]
  },
  {
   "cell_type": "code",
   "execution_count": 15,
   "id": "657e9fca",
   "metadata": {},
   "outputs": [
    {
     "name": "stdout",
     "output_type": "stream",
     "text": [
      "num_str as int: 123 (<class 'int'>)\n"
     ]
    }
   ],
   "source": [
    "# Convert string to int (if possible)\n",
    "num_str = \"123\"\n",
    "num_int = int(num_str)\n",
    "print(f\"num_str as int: {num_int} ({type(num_int)})\")"
   ]
  },
  {
   "cell_type": "code",
   "execution_count": 16,
   "id": "242fbc77",
   "metadata": {},
   "outputs": [
    {
     "name": "stdout",
     "output_type": "stream",
     "text": [
      "is_active as int: 1 (<class 'int'>)\n"
     ]
    }
   ],
   "source": [
    "# Convert bool to int\n",
    "is_active_int = int(is_active)\n",
    "print(f\"is_active as int: {is_active_int} ({type(is_active_int)})\")"
   ]
  },
  {
   "cell_type": "markdown",
   "id": "28eafd92",
   "metadata": {},
   "source": [
    "## Conclusion\n",
    "\n",
    "In this notebook, we explored Python variables, their types, and naming conventions. We demonstrated how Python is dynamically typed and how variable types are determined at runtime. We also covered type conversions between integers, floats, strings, and booleans. By following proper naming conventions and understanding type conversions, you can write more readable and robust Python code."
   ]
  }
 ],
 "metadata": {
  "kernelspec": {
   "display_name": "Python 3",
   "language": "python",
   "name": "python3"
  },
  "language_info": {
   "codemirror_mode": {
    "name": "ipython",
    "version": 3
   },
   "file_extension": ".py",
   "mimetype": "text/x-python",
   "name": "python",
   "nbconvert_exporter": "python",
   "pygments_lexer": "ipython3",
   "version": "3.12.0"
  }
 },
 "nbformat": 4,
 "nbformat_minor": 5
}
