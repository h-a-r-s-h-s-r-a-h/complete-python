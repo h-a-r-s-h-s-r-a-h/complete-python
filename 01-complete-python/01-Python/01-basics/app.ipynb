{
 "cells": [
  {
   "cell_type": "markdown",
   "id": "ad5f8f1a",
   "metadata": {},
   "source": [
    "## Basic Rules in python\n",
    "# 1.Case sensitive"
   ]
  },
  {
   "cell_type": "code",
   "execution_count": 1,
   "id": "e59bdb1e",
   "metadata": {},
   "outputs": [
    {
     "name": "stdout",
     "output_type": "stream",
     "text": [
      "Harsh\n",
      "Dev\n"
     ]
    }
   ],
   "source": [
    "name = \"Harsh\"\n",
    "Name = \"Dev\"\n",
    "\n",
    "print(name)\n",
    "print(Name)"
   ]
  },
  {
   "cell_type": "markdown",
   "id": "1ba21e6c",
   "metadata": {},
   "source": [
    "# 2.Indentation\n",
    "In Python, indentation is mandatory and is used to define blocks of code (like inside functions, loops, conditionals, classes, etc.). Unlike many other languages that use braces {}, Python uses whitespace (indentation) for block structure."
   ]
  },
  {
   "cell_type": "code",
   "execution_count": 2,
   "id": "c5acdde9",
   "metadata": {},
   "outputs": [
    {
     "name": "stdout",
     "output_type": "stream",
     "text": [
      "Positive\n"
     ]
    }
   ],
   "source": [
    "x = 11\n",
    "if x > 0:\n",
    "    print(\"Positive\")\n",
    "else:\n",
    "    print(\"Non-positive\")"
   ]
  },
  {
   "cell_type": "markdown",
   "id": "cd9eca2a",
   "metadata": {},
   "source": [
    "## 3.Multiple Statements on a single line"
   ]
  },
  {
   "cell_type": "code",
   "execution_count": 3,
   "id": "2e6dfc5d",
   "metadata": {},
   "outputs": [
    {
     "name": "stdout",
     "output_type": "stream",
     "text": [
      "15\n"
     ]
    }
   ],
   "source": [
    "x=5;y=10;z=x+y\n",
    "print(z)"
   ]
  },
  {
   "cell_type": "markdown",
   "id": "befcc6a4",
   "metadata": {},
   "source": [
    "## 4.Types of variable"
   ]
  },
  {
   "cell_type": "code",
   "execution_count": 4,
   "id": "37cba2d4",
   "metadata": {},
   "outputs": [
    {
     "data": {
      "text/plain": [
       "int"
      ]
     },
     "execution_count": 4,
     "metadata": {},
     "output_type": "execute_result"
    }
   ],
   "source": [
    "x=5\n",
    "type(x)"
   ]
  }
 ],
 "metadata": {
  "kernelspec": {
   "display_name": "Python 3",
   "language": "python",
   "name": "python3"
  },
  "language_info": {
   "codemirror_mode": {
    "name": "ipython",
    "version": 3
   },
   "file_extension": ".py",
   "mimetype": "text/x-python",
   "name": "python",
   "nbconvert_exporter": "python",
   "pygments_lexer": "ipython3",
   "version": "3.12.0"
  }
 },
 "nbformat": 4,
 "nbformat_minor": 5
}
