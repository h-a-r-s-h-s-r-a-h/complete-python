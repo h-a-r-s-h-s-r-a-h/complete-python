{
 "cells": [
  {
   "cell_type": "markdown",
   "id": "c1cea7f8",
   "metadata": {},
   "source": [
    "# Data Types in Python\n",
    "\n",
    "Python supports various data types that define the nature of data a variable can hold. Understanding these types is fundamental for effective programming.\n",
    "\n",
    "## Definition\n",
    "\n",
    "**Data types** in Python specify the type of value a variable holds. They determine what operations can be performed on the data and how the data is stored.\n",
    "\n",
    "---\n",
    "\n",
    "## Built-in Data Types\n",
    "\n",
    "| Category      | Data Type      | Description                                      | Example                |\n",
    "|---------------|---------------|--------------------------------------------------|------------------------|\n",
    "| Numeric       | `int`         | Integer numbers                                  | `x = 5`                |\n",
    "|               | `float`       | Floating-point numbers (decimals)                | `y = 3.14`             |\n",
    "|               | `complex`     | Complex numbers                                  | `z = 2 + 3j`           |\n",
    "| Sequence      | `str`         | String (text)                                    | `s = \"Hello\"`          |\n",
    "|               | `list`        | Ordered, mutable collection                      | `l = [1, 2, 3]`        |\n",
    "|               | `tuple`       | Ordered, immutable collection                    | `t = (1, 2, 3)`        |\n",
    "|               | `range`       | Sequence of numbers                              | `r = range(5)`         |\n",
    "| Mapping       | `dict`        | Key-value pairs                                  | `d = {\"a\": 1, \"b\": 2}` |\n",
    "| Set           | `set`         | Unordered, mutable collection of unique elements | `s = {1, 2, 3}`        |\n",
    "|               | `frozenset`   | Unordered, immutable collection of unique elements| `fs = frozenset([1,2])`|\n",
    "| Boolean       | `bool`        | Boolean values                                   | `flag = True`          |\n",
    "| Binary        | `bytes`       | Immutable sequence of bytes                      | `b = b\"abc\"`           |\n",
    "|               | `bytearray`   | Mutable sequence of bytes                        | `ba = bytearray(5)`    |\n",
    "|               | `memoryview`  | Memory view object                               | `mv = memoryview(b'abc')`|\n",
    "\n",
    "---\n",
    "\n",
    "## Numeric Data Types\n",
    "\n",
    "| Type     | Description                  | Example      |\n",
    "|----------|------------------------------|--------------|\n",
    "| `int`    | Whole numbers                | `x = 10`     |\n",
    "| `float`  | Decimal numbers              | `y = 3.14`   |\n",
    "| `complex`| Complex numbers (a + bj)     | `z = 1+2j`   |\n",
    "\n",
    "---\n",
    "\n",
    "## Sequence Data Types\n",
    "\n",
    "| Type     | Description                  | Example           |\n",
    "|----------|------------------------------|-------------------|\n",
    "| `str`    | String of Unicode characters | `s = \"Python\"`    |\n",
    "| `list`   | Mutable ordered collection   | `l = [1, 2, 3]`   |\n",
    "| `tuple`  | Immutable ordered collection | `t = (1, 2, 3)`   |\n",
    "| `range`  | Sequence of numbers          | `r = range(5)`    |\n",
    "\n",
    "---\n",
    "\n",
    "## Set Data Types\n",
    "\n",
    "| Type        | Description                                 | Example            |\n",
    "|-------------|---------------------------------------------|--------------------|\n",
    "| `set`       | Mutable unordered collection, unique items  | `s = {1, 2, 3}`    |\n",
    "| `frozenset` | Immutable unordered collection, unique items| `fs = frozenset([1,2])` |\n",
    "\n",
    "---\n",
    "\n",
    "## Mapping Data Type\n",
    "\n",
    "| Type   | Description           | Example                    |\n",
    "|--------|-----------------------|----------------------------|\n",
    "| `dict` | Key-value pairs       | `d = {\"a\": 1, \"b\": 2}`     |\n",
    "\n",
    "---\n",
    "\n",
    "## Boolean Data Type\n",
    "\n",
    "| Type   | Description           | Example      |\n",
    "|--------|-----------------------|--------------|\n",
    "| `bool` | Boolean values        | `flag = True`|\n",
    "\n",
    "---\n",
    "\n",
    "## Binary Data Types\n",
    "\n",
    "| Type        | Description                       | Example                |\n",
    "|-------------|-----------------------------------|------------------------|\n",
    "| `bytes`     | Immutable sequence of bytes       | `b = b\"abc\"`           |\n",
    "| `bytearray` | Mutable sequence of bytes         | `ba = bytearray(5)`    |\n",
    "| `memoryview`| Memory view of binary data        | `mv = memoryview(b'abc')`|\n",
    "\n",
    "---\n",
    "\n",
    "## Summary Table\n",
    "\n",
    "| Data Type    | Mutable | Ordered | Example                |\n",
    "|--------------|---------|---------|------------------------|\n",
    "| `int`        | No      | N/A     | `x = 5`                |\n",
    "| `float`      | No      | N/A     | `y = 3.14`             |\n",
    "| `complex`    | No      | N/A     | `z = 2+3j`             |\n",
    "| `str`        | No      | Yes     | `s = \"abc\"`            |\n",
    "| `list`       | Yes     | Yes     | `l = [1, 2, 3]`        |\n",
    "| `tuple`      | No      | Yes     | `t = (1, 2, 3)`        |\n",
    "| `range`      | No      | Yes     | `r = range(5)`         |\n",
    "| `dict`       | Yes     | No      | `d = {\"a\": 1}`         |\n",
    "| `set`        | Yes     | No      | `s = {1, 2, 3}`        |\n",
    "| `frozenset`  | No      | No      | `fs = frozenset([1,2])`|\n",
    "| `bool`       | No      | N/A     | `flag = True`          |\n",
    "| `bytes`      | No      | Yes     | `b = b\"abc\"`           |\n",
    "| `bytearray`  | Yes     | Yes     | `ba = bytearray(5)`    |\n",
    "| `memoryview` | No      | Yes     | `mv = memoryview(b'abc')`|\n",
    "\n",
    "---\n",
    "\n",
    "**Note:**  \n",
    "- Mutable types can be changed after creation.  \n",
    "- Ordered types maintain the order of elements.  \n",
    "- N/A means not applicable.\n",
    "- An immutable object cannot be changed after it is created. If you \"change\" an integer, Python actually creates a new object in memory."
   ]
  },
  {
   "cell_type": "markdown",
   "id": "1d4e9143",
   "metadata": {},
   "source": [
    "## 1.Integer"
   ]
  },
  {
   "cell_type": "code",
   "execution_count": 1,
   "id": "4bffbbf7",
   "metadata": {},
   "outputs": [
    {
     "name": "stdout",
     "output_type": "stream",
     "text": [
      "20\n"
     ]
    }
   ],
   "source": [
    "age = 20\n",
    "print(age)"
   ]
  },
  {
   "cell_type": "code",
   "execution_count": 3,
   "id": "b599b1ab",
   "metadata": {},
   "outputs": [
    {
     "name": "stdout",
     "output_type": "stream",
     "text": [
      "<class 'int'>\n"
     ]
    }
   ],
   "source": [
    "print(type(age))"
   ]
  },
  {
   "cell_type": "code",
   "execution_count": 4,
   "id": "cf24790e",
   "metadata": {},
   "outputs": [
    {
     "name": "stdout",
     "output_type": "stream",
     "text": [
      "Addition: 25\n",
      "Subtraction: 17\n",
      "Multiplication: 40\n",
      "Division: 5.0\n",
      "Floor Division: 6\n",
      "Modulus: 6\n",
      "Exponentiation: 400\n",
      "Equal to 20: True\n",
      "Greater than 15: True\n",
      "Less than 30: True\n",
      "Bitwise AND: 0\n",
      "Bitwise OR: 21\n",
      "Bitwise XOR: 23\n",
      "Bitwise NOT: -21\n",
      "Left Shift: 40\n",
      "Right Shift: 5\n"
     ]
    }
   ],
   "source": [
    "# Arithmetic operations\n",
    "add_result = age + 5         # Addition\n",
    "sub_result = age - 3         # Subtraction\n",
    "mul_result = age * 2         # Multiplication\n",
    "div_result = age / 4         # Division (float result)\n",
    "floordiv_result = age // 3   # Floor division (integer result)\n",
    "mod_result = age % 7         # Modulus (remainder)\n",
    "pow_result = age ** 2        # Exponentiation\n",
    "\n",
    "# Comparison operations\n",
    "is_equal = age == 20\n",
    "is_greater = age > 15\n",
    "is_less = age < 30\n",
    "\n",
    "# Bitwise operations\n",
    "bit_and = age & 2\n",
    "bit_or = age | 1\n",
    "bit_xor = age ^ 3\n",
    "bit_not = ~age\n",
    "left_shift = age << 1\n",
    "right_shift = age >> 2\n",
    "\n",
    "# Display results\n",
    "print(\"Addition:\", add_result)\n",
    "print(\"Subtraction:\", sub_result)\n",
    "print(\"Multiplication:\", mul_result)\n",
    "print(\"Division:\", div_result)\n",
    "print(\"Floor Division:\", floordiv_result)\n",
    "print(\"Modulus:\", mod_result)\n",
    "print(\"Exponentiation:\", pow_result)\n",
    "print(\"Equal to 20:\", is_equal)\n",
    "print(\"Greater than 15:\", is_greater)\n",
    "print(\"Less than 30:\", is_less)\n",
    "print(\"Bitwise AND:\", bit_and)\n",
    "print(\"Bitwise OR:\", bit_or)\n",
    "print(\"Bitwise XOR:\", bit_xor)\n",
    "print(\"Bitwise NOT:\", bit_not)\n",
    "print(\"Left Shift:\", left_shift)\n",
    "print(\"Right Shift:\", right_shift)"
   ]
  },
  {
   "cell_type": "markdown",
   "id": "39bfaa38",
   "metadata": {},
   "source": [
    "## 2.Floating point datatypes"
   ]
  },
  {
   "cell_type": "code",
   "execution_count": 5,
   "id": "5e7214c2",
   "metadata": {},
   "outputs": [
    {
     "name": "stdout",
     "output_type": "stream",
     "text": [
      "Height: 1.75\n",
      "Type of height: <class 'float'>\n"
     ]
    }
   ],
   "source": [
    "height = 1.75\n",
    "print(\"Height:\", height)\n",
    "print(\"Type of height:\", type(height))"
   ]
  },
  {
   "cell_type": "code",
   "execution_count": null,
   "id": "2ddfb7f1",
   "metadata": {},
   "outputs": [
    {
     "name": "stdout",
     "output_type": "stream",
     "text": [
      "Addition: 4.25\n",
      "Subtraction: 1.25\n",
      "Multiplication: 5.25\n",
      "Division: 0.875\n",
      "Floor Division: 1.0\n",
      "Modulus: 0.55\n",
      "Exponentiation: 3.0625\n",
      "Equal to 1.75: True\n",
      "Greater than 1.5: True\n",
      "Less than 2.0: True\n"
     ]
    }
   ],
   "source": [
    "# Arithmetic operations with floating point\n",
    "float_add = height + 2.5\n",
    "float_sub = height - 0.5\n",
    "float_mul = height * 3.0\n",
    "float_div = height / 2.0\n",
    "float_floordiv = height // 1.2\n",
    "float_mod = height % 1.2\n",
    "float_pow = height**2\n",
    "\n",
    "# Comparison operations\n",
    "float_equal = height == 1.75\n",
    "float_greater = height > 1.5\n",
    "float_less = height < 2.0\n",
    "\n",
    "# Display results\n",
    "print(\"Addition:\", float_add)\n",
    "print(\"Subtraction:\", float_sub)\n",
    "print(\"Multiplication:\", float_mul)\n",
    "print(\"Division:\", float_div)\n",
    "print(\"Floor Division:\", float_floordiv)\n",
    "print(\"Modulus:\", float_mod)\n",
    "print(\"Exponentiation:\", float_pow)\n",
    "print(\"Equal to 1.75:\", float_equal)\n",
    "print(\"Greater than 1.5:\", float_greater)\n",
    "print(\"Less than 2.0:\", float_less)"
   ]
  },
  {
   "cell_type": "markdown",
   "id": "7c239920",
   "metadata": {},
   "source": [
    "## 3.String datatypes"
   ]
  },
  {
   "cell_type": "code",
   "execution_count": null,
   "id": "0b0814eb",
   "metadata": {},
   "outputs": [
    {
     "name": "stdout",
     "output_type": "stream",
     "text": [
      "Name: Harsh\n",
      "Type of name: <class 'str'>\n"
     ]
    }
   ],
   "source": [
    "name = \"Harsh\"\n",
    "print(\"Name:\", name)\n",
    "print(\"Type of name:\", type(name))"
   ]
  },
  {
   "cell_type": "code",
   "execution_count": null,
   "id": "f7c6a20c",
   "metadata": {},
   "outputs": [
    {
     "name": "stdout",
     "output_type": "stream",
     "text": [
      "Uppercase: HARSH\n",
      "Lowercase: harsh\n",
      "Title Case: Harsh\n",
      "Reversed: hsraH\n",
      "Length: 5\n",
      "First Character: H\n",
      "Last Character: h\n",
      "Substring (1:4): ars\n",
      "Contains 'h': True\n",
      "Replace 'a' with 'o': Horsh\n",
      "Split by 'r': ['Ha', 'sh']\n",
      "Join with '-': H-a-r-s-h\n",
      "String after first letter: arsh\n"
     ]
    }
   ],
   "source": [
    "# String operations\n",
    "upper_name = name.upper()  # Convert to uppercase\n",
    "lower_name = name.lower()  # Convert to lowercase\n",
    "title_name = name.title()  # Title case\n",
    "reversed_name = name[::-1]  # Reverse string\n",
    "name_length = len(name)  # Length of string\n",
    "first_char = name[0]  # First character\n",
    "last_char = name[-1]  # Last character\n",
    "substring = name[1:4]  # Substring from index 1 to 3\n",
    "contains_h = \"h\" in name  # Check if 'h' is in name\n",
    "replaced_name = name.replace(\"a\", \"o\")  # Replace 'a' with 'o'\n",
    "split_name = name.split(\"r\")  # Split by 'r'\n",
    "joined_name = \"-\".join(name)  # Join with '-'\n",
    "name_after_first_letter = name[1:]  # String after first letter\n",
    "\n",
    "# Display results\n",
    "print(\"Uppercase:\", upper_name)\n",
    "print(\"Lowercase:\", lower_name)\n",
    "print(\"Title Case:\", title_name)\n",
    "print(\"Reversed:\", reversed_name)\n",
    "print(\"Length:\", name_length)\n",
    "print(\"First Character:\", first_char)\n",
    "print(\"Last Character:\", last_char)\n",
    "print(\"Substring (1:4):\", substring)\n",
    "print(\"Contains 'h':\", contains_h)\n",
    "print(\"Replace 'a' with 'o':\", replaced_name)\n",
    "print(\"Split by 'r':\", split_name)\n",
    "print(\"Join with '-':\", joined_name)\n",
    "print(\"String after first letter:\", name_after_first_letter)"
   ]
  },
  {
   "cell_type": "markdown",
   "id": "d91b501e",
   "metadata": {},
   "source": [
    "## 4.Boolean Datatypes"
   ]
  },
  {
   "cell_type": "code",
   "execution_count": 1,
   "id": "b40aaba7",
   "metadata": {},
   "outputs": [
    {
     "name": "stdout",
     "output_type": "stream",
     "text": [
      "is_student: True\n",
      "has_passed: False\n",
      "Type of is_student: <class 'bool'>\n",
      "AND operation: False\n",
      "OR operation: True\n",
      "NOT operation: False\n",
      "Is adult (age >= 18): True\n"
     ]
    }
   ],
   "source": [
    "# Boolean data type in Python\n",
    "\n",
    "is_student = True\n",
    "has_passed = False\n",
    "\n",
    "print(\"is_student:\", is_student)\n",
    "print(\"has_passed:\", has_passed)\n",
    "print(\"Type of is_student:\", type(is_student))\n",
    "\n",
    "# Boolean operations\n",
    "result_and = is_student and has_passed\n",
    "result_or = is_student or has_passed\n",
    "result_not = not is_student\n",
    "\n",
    "print(\"AND operation:\", result_and)\n",
    "print(\"OR operation:\", result_or)\n",
    "print(\"NOT operation:\", result_not)\n",
    "\n",
    "# Boolean from expressions\n",
    "age = 20\n",
    "is_adult = age >= 18\n",
    "print(\"Is adult (age >= 18):\", is_adult)"
   ]
  }
 ],
 "metadata": {
  "kernelspec": {
   "display_name": "Python 3",
   "language": "python",
   "name": "python3"
  },
  "language_info": {
   "codemirror_mode": {
    "name": "ipython",
    "version": 3
   },
   "file_extension": ".py",
   "mimetype": "text/x-python",
   "name": "python",
   "nbconvert_exporter": "python",
   "pygments_lexer": "ipython3",
   "version": "3.12.0"
  }
 },
 "nbformat": 4,
 "nbformat_minor": 5
}
