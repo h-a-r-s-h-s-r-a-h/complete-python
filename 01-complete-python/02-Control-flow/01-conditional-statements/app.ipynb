{
 "cells": [
  {
   "cell_type": "markdown",
   "id": "87306ec3",
   "metadata": {},
   "source": [
    "## Conditional Statement in python\n",
    "  - Conditional statements are used to perform different actions based on different conditions.\n",
    "  - In Python, the main conditional statements are if, elif, and else.\n",
    "  - They allow you to execute certain blocks of code only when specific conditions are met."
   ]
  },
  {
   "cell_type": "code",
   "execution_count": 1,
   "id": "9c478191",
   "metadata": {},
   "outputs": [
    {
     "name": "stdout",
     "output_type": "stream",
     "text": [
      "x is equal to 10\n"
     ]
    }
   ],
   "source": [
    "x = 10\n",
    "\n",
    "if x > 10:\n",
    "    print(\"x is greater than 10\")\n",
    "elif x == 10:\n",
    "    print(\"x is equal to 10\")\n",
    "else:\n",
    "    print(\"x is less than 10\")"
   ]
  },
  {
   "cell_type": "code",
   "execution_count": null,
   "id": "0388d21f",
   "metadata": {},
   "outputs": [
    {
     "name": "stdout",
     "output_type": "stream",
     "text": [
      "x is positive and odd\n"
     ]
    }
   ],
   "source": [
    "# Nested conditional statements\n",
    "\n",
    "if x > 0:\n",
    "    if x % 2 == 0:\n",
    "        print(\"x is positive and even\")\n",
    "    else:\n",
    "        print(\"x is positive and odd\")\n",
    "else:\n",
    "    print(\"x is not positive\")"
   ]
  }
 ],
 "metadata": {
  "kernelspec": {
   "display_name": "Python 3",
   "language": "python",
   "name": "python3"
  },
  "language_info": {
   "codemirror_mode": {
    "name": "ipython",
    "version": 3
   },
   "file_extension": ".py",
   "mimetype": "text/x-python",
   "name": "python",
   "nbconvert_exporter": "python",
   "pygments_lexer": "ipython3",
   "version": "3.12.0"
  }
 },
 "nbformat": 4,
 "nbformat_minor": 5
}
