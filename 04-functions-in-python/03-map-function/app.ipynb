{
 "cells": [
  {
   "cell_type": "markdown",
   "id": "7622bccb",
   "metadata": {},
   "source": [
    "# Map Function in Python\n",
    "\n",
    "The map() function in Python is a built-in higher-order function used to apply a given function to each item of an iterable (like a list, tuple, or set) and return an iterator (a map object) containing the results. \n",
    "\n",
    "map(function, iterable, ...)\n",
    "\n",
    "- function:\n",
    "The function to be applied to each item of the iterable(s). This function can be a built-in function, a user-defined function, or a lambda function.\n",
    "\n",
    "- iterable:\n",
    "One or more iterable objects whose elements will be passed to the function. If multiple iterables are provided, the function must accept the corresponding number of arguments."
   ]
  },
  {
   "cell_type": "code",
   "execution_count": 3,
   "id": "7cbb2c0d",
   "metadata": {},
   "outputs": [
    {
     "name": "stdout",
     "output_type": "stream",
     "text": [
      "[5, 6, 6]\n"
     ]
    }
   ],
   "source": [
    "def myfunc(n):\n",
    "    return len(n)\n",
    "\n",
    "\n",
    "x = map(myfunc, (\"apple\", \"banana\", \"cherry\"))\n",
    "\n",
    "print(list(x))  # Output: [5, 6, 6]"
   ]
  },
  {
   "cell_type": "code",
   "execution_count": null,
   "id": "af0417da",
   "metadata": {},
   "outputs": [
    {
     "name": "stdout",
     "output_type": "stream",
     "text": [
      "['appleorange', 'bananalemon', 'cherrypineapple']\n"
     ]
    }
   ],
   "source": [
    "def myfunc(a, b):\n",
    "    return a + b\n",
    "\n",
    "\n",
    "x = map(myfunc, (\"apple\", \"banana\", \"cherry\"), (\"orange\", \"lemon\", \"pineapple\"))\n",
    "\n",
    "print(list(x))"
   ]
  },
  {
   "cell_type": "code",
   "execution_count": 6,
   "id": "fdd3de4c",
   "metadata": {},
   "outputs": [
    {
     "name": "stdout",
     "output_type": "stream",
     "text": [
      "[2, 4, 6, 8]\n"
     ]
    }
   ],
   "source": [
    "a = [1, 2, 3, 4]\n",
    "\n",
    "\n",
    "# Using custom function in \"function\" parameter\n",
    "# This function is simply doubles the provided number\n",
    "def double(val):\n",
    "    return val * 2\n",
    "\n",
    "\n",
    "result = list(map(double, a))\n",
    "print(result)"
   ]
  }
 ],
 "metadata": {
  "kernelspec": {
   "display_name": "Python 3",
   "language": "python",
   "name": "python3"
  },
  "language_info": {
   "codemirror_mode": {
    "name": "ipython",
    "version": 3
   },
   "file_extension": ".py",
   "mimetype": "text/x-python",
   "name": "python",
   "nbconvert_exporter": "python",
   "pygments_lexer": "ipython3",
   "version": "3.12.0"
  }
 },
 "nbformat": 4,
 "nbformat_minor": 5
}
