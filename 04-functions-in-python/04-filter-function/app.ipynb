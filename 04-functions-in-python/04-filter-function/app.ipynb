{
 "cells": [
  {
   "cell_type": "markdown",
   "id": "99aa0f3e",
   "metadata": {},
   "source": [
    "# Python filter() Function\n",
    "    In Python, the filter() function is a built-in function used to construct an iterator from elements of an iterable for which a function returns True. It provides a concise and efficient way to select specific elements from a sequence based on a defined condition."
   ]
  },
  {
   "cell_type": "code",
   "execution_count": 1,
   "id": "fc5b0930",
   "metadata": {},
   "outputs": [
    {
     "name": "stdout",
     "output_type": "stream",
     "text": [
      "18\n",
      "24\n",
      "32\n"
     ]
    }
   ],
   "source": [
    "ages = [5, 12, 17, 18, 24, 32]\n",
    "\n",
    "\n",
    "def myFunc(x):\n",
    "    if x < 18:\n",
    "        return False\n",
    "    else:\n",
    "        return True\n",
    "\n",
    "\n",
    "adults = filter(myFunc, ages)\n",
    "\n",
    "for x in adults:\n",
    "    print(x)"
   ]
  }
 ],
 "metadata": {
  "kernelspec": {
   "display_name": "Python 3",
   "language": "python",
   "name": "python3"
  },
  "language_info": {
   "codemirror_mode": {
    "name": "ipython",
    "version": 3
   },
   "file_extension": ".py",
   "mimetype": "text/x-python",
   "name": "python",
   "nbconvert_exporter": "python",
   "pygments_lexer": "ipython3",
   "version": "3.12.0"
  }
 },
 "nbformat": 4,
 "nbformat_minor": 5
}
