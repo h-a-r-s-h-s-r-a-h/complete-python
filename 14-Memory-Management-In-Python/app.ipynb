{
 "cells": [
  {
   "cell_type": "markdown",
   "id": "1ef242e2",
   "metadata": {},
   "source": [
    "# Memory Management in Python\n",
    "Python manages memory automatically, so you don’t usually have to worry about allocating and freeing memory manually. But understanding how it works helps you write more efficient and bug-free code."
   ]
  },
  {
   "cell_type": "markdown",
   "id": "70dfb351",
   "metadata": {},
   "source": [
    "## Core Components of Python's Memory Management\n"
   ]
  },
  {
   "cell_type": "markdown",
   "id": "e8fc3ff1",
   "metadata": {},
   "source": [
    "### 1. Reference Counting\n",
    "\n",
    "- Every object in Python has a reference count — a count of how many references point to it.\n",
    "\n",
    "- When an object’s reference count drops to zero, it is automatically deleted.\n"
   ]
  },
  {
   "cell_type": "code",
   "execution_count": 6,
   "id": "cf4285d7",
   "metadata": {},
   "outputs": [
    {
     "name": "stdout",
     "output_type": "stream",
     "text": [
      "2\n"
     ]
    }
   ],
   "source": [
    "import sys\n",
    "\n",
    "a = []\n",
    "\n",
    "# 2 (one reference from 'a' and one from getrefcount)\n",
    "print(sys.getrefcount(a))  # Reference count of 'a'"
   ]
  },
  {
   "cell_type": "code",
   "execution_count": 7,
   "id": "55f214b8",
   "metadata": {},
   "outputs": [
    {
     "name": "stdout",
     "output_type": "stream",
     "text": [
      "3\n"
     ]
    }
   ],
   "source": [
    "b = a\n",
    "print(sys.getrefcount(a))  # Reference count of 'a' after assignment"
   ]
  },
  {
   "cell_type": "code",
   "execution_count": 8,
   "id": "bc8f883c",
   "metadata": {},
   "outputs": [
    {
     "name": "stdout",
     "output_type": "stream",
     "text": [
      "2\n"
     ]
    }
   ],
   "source": [
    "del b\n",
    "print(sys.getrefcount(a))  # Reference count of 'a' after deleting 'b'"
   ]
  },
  {
   "cell_type": "markdown",
   "id": "2cb8fa18",
   "metadata": {},
   "source": [
    "### 2. Garbage Collection\n",
    "\n",
    "- Handles cyclic references (e.g., two objects referring to each other).\n",
    "\n",
    "- Python’s gc (garbage collector) module detects and cleans up cycles.\n"
   ]
  },
  {
   "cell_type": "code",
   "execution_count": 10,
   "id": "39046e91",
   "metadata": {},
   "outputs": [
    {
     "data": {
      "text/plain": [
       "7"
      ]
     },
     "execution_count": 10,
     "metadata": {},
     "output_type": "execute_result"
    }
   ],
   "source": [
    "import gc\n",
    "\n",
    "# enable garbage collection\n",
    "gc.enable()\n",
    "\n",
    "# disable garbage collection\n",
    "# gc.disable()\n",
    "\n",
    "# gc.collect() is a function from Python’s built-in gc (garbage collector) module. It forces a garbage collection process, which means it tells Python to immediately look for and clean up any unused objects in memory, especially those involved in reference cycles (objects that reference each other and can’t be freed by reference counting alone).\n",
    "\n",
    "# Where is it used?\n",
    "# When you want to manually free up memory, especially after deleting large objects.\n",
    "# In memory-critical applications where you want to ensure unused memory is reclaimed.\n",
    "# When working with objects that may create circular references.\n",
    "\n",
    "gc.collect()"
   ]
  },
  {
   "cell_type": "code",
   "execution_count": 11,
   "id": "24a82ff1",
   "metadata": {},
   "outputs": [
    {
     "name": "stdout",
     "output_type": "stream",
     "text": [
      "[{'collections': 311, 'collected': 1538, 'uncollectable': 0}, {'collections': 27, 'collected': 443, 'uncollectable': 0}, {'collections': 5, 'collected': 490, 'uncollectable': 0}]\n"
     ]
    }
   ],
   "source": [
    "# get garbage collector stats\n",
    "print(gc.get_stats())"
   ]
  },
  {
   "cell_type": "code",
   "execution_count": 12,
   "id": "c07daaf0",
   "metadata": {},
   "outputs": [
    {
     "name": "stdout",
     "output_type": "stream",
     "text": [
      "Unreachable objects: []\n"
     ]
    }
   ],
   "source": [
    "# get unreachable objects\n",
    "unreachable_objects = gc.garbage\n",
    "print(\"Unreachable objects:\", unreachable_objects)"
   ]
  },
  {
   "cell_type": "markdown",
   "id": "1a641a6d",
   "metadata": {},
   "source": [
    "### 3. Memory Pools (PyMalloc)\n",
    "\n",
    "- Python uses its own memory allocator called PyMalloc for small objects.\n",
    "\n",
    "- Objects are stored in memory pools and arenas to reduce OS overhead.\n"
   ]
  },
  {
   "cell_type": "markdown",
   "id": "6df27d3c",
   "metadata": {},
   "source": [
    "Types of Memory in Python:-\n",
    "\n",
    "| Memory Type           | Description                                 |\n",
    "| --------------------- | ------------------------------------------- |\n",
    "| Stack memory          | Stores function calls and local variables   |\n",
    "| Heap memory           | Where Python objects are stored dynamically |\n",
    "| Object-specific pools | PyMalloc manages these for small objects    |\n"
   ]
  },
  {
   "cell_type": "markdown",
   "id": "f8f589a4",
   "metadata": {},
   "source": [
    "## Best Practices for Efficient Memory Usage"
   ]
  },
  {
   "cell_type": "markdown",
   "id": "5d066ab5",
   "metadata": {},
   "source": [
    "### 1. Avoid unnecessary variables"
   ]
  },
  {
   "cell_type": "code",
   "execution_count": null,
   "id": "f08d27d6",
   "metadata": {},
   "outputs": [],
   "source": []
  },
  {
   "cell_type": "markdown",
   "id": "8437d530",
   "metadata": {},
   "source": [
    "### 2. Use generators instead of lists for large data"
   ]
  },
  {
   "cell_type": "code",
   "execution_count": 4,
   "id": "bd1406ec",
   "metadata": {},
   "outputs": [],
   "source": [
    "# Saves memory\n",
    "def gen():\n",
    "    for i in range(1000000):\n",
    "        yield i"
   ]
  },
  {
   "cell_type": "markdown",
   "id": "6a88c565",
   "metadata": {},
   "source": [
    "### 3. Use del and gc.collect() if needed"
   ]
  },
  {
   "cell_type": "code",
   "execution_count": 5,
   "id": "e08b55d0",
   "metadata": {},
   "outputs": [
    {
     "data": {
      "text/plain": [
       "483"
      ]
     },
     "execution_count": 5,
     "metadata": {},
     "output_type": "execute_result"
    }
   ],
   "source": [
    "large_object = list(gen())  # This will consume a lot of memory\n",
    "\n",
    "del large_object\n",
    "gc.collect()"
   ]
  },
  {
   "cell_type": "markdown",
   "id": "1029fb06",
   "metadata": {},
   "source": [
    "### 4. Be careful with circular references\n",
    "\n",
    "- Prefer weak references if needed (weakref module)\n"
   ]
  },
  {
   "cell_type": "markdown",
   "id": "cf156f23",
   "metadata": {},
   "source": [
    "# You Can Monitor Memory Usage With:\n",
    "\n",
    "- **`sys.getsizeof(obj)` — get size of an object**\n",
    "\n",
    "  ```python\n",
    "  import sys\n",
    "  sys.getsizeof(obj)  # get size of an object\n",
    "  ```\n",
    "\n",
    "- **`tracemalloc` — built-in module to track memory usage**\n",
    "\n",
    "  ```python\n",
    "  import tracemalloc\n",
    "  tracemalloc.start()\n",
    "  # ... your code ...\n",
    "  print(tracemalloc.get_traced_memory())\n",
    "  tracemalloc.stop()\n",
    "  ```\n",
    "\n",
    "- **`memory_profiler` — external tool for line-by-line memory usage**\n",
    "\n",
    "  Install with:\n",
    "\n",
    "  ```\n",
    "  pip install memory_profiler\n",
    "  ```\n",
    "\n",
    "  Use in your script:\n",
    "\n",
    "  ```python\n",
    "  from memory_profiler import profile\n",
    "\n",
    "  @profile\n",
    "  def my_func():\n",
    "      # your code here\n",
    "      pass\n",
    "  ```\n"
   ]
  }
 ],
 "metadata": {
  "kernelspec": {
   "display_name": "Python 3",
   "language": "python",
   "name": "python3"
  },
  "language_info": {
   "codemirror_mode": {
    "name": "ipython",
    "version": 3
   },
   "file_extension": ".py",
   "mimetype": "text/x-python",
   "name": "python",
   "nbconvert_exporter": "python",
   "pygments_lexer": "ipython3",
   "version": "3.12.0"
  }
 },
 "nbformat": 4,
 "nbformat_minor": 5
}
