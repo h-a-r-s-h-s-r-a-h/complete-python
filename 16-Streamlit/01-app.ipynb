{
 "cells": [
  {
   "cell_type": "markdown",
   "id": "59057df6",
   "metadata": {},
   "source": [
    "# Streamlit\n",
    "\n",
    "Streamlit is an open-source Python library that makes it easy to create and share custom web apps for machine learning and data science projects. You can turn a Python script into an interactive web app in just a few minutes — no front-end experience required.\n"
   ]
  }
 ],
 "metadata": {
  "language_info": {
   "name": "python"
  }
 },
 "nbformat": 4,
 "nbformat_minor": 5
}
